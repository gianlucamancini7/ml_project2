{
 "cells": [
  {
   "cell_type": "code",
   "execution_count": 2,
   "metadata": {},
   "outputs": [],
   "source": [
    "import torch\n",
    "from torch.autograd import Variable\n",
    "import torch.nn.functional as F      # activation function\n",
    "import matplotlib.pyplot as plt\n",
    "\n",
    "from sklearn.pipeline import make_pipeline            # Create pipeline\n",
    "from sklearn.model_selection import train_test_split  # split adata\n",
    "from sklearn.preprocessing import StandardScaler      # Standardzation\n",
    "from sklearn.preprocessing import KBinsDiscretizer    # Discretization"
   ]
  },
  {
   "cell_type": "code",
   "execution_count": 3,
   "metadata": {},
   "outputs": [],
   "source": [
    "import pandas as pd\n",
    "import numpy as np\n",
    "import matplotlib.pyplot as plt\n",
    "from IPython.core import display as ICD\n",
    "import seaborn as sns\n",
    "import glob\n",
    "import scipy\n",
    "import os\n",
    "pd.set_option('display.max_columns', 100)\n",
    "from sklearn.linear_model import Ridge\n",
    "from sklearn.model_selection import cross_val_predict\n",
    "from sklearn.model_selection import cross_val_score\n",
    "from sklearn.metrics import confusion_matrix\n",
    "from sklearn.model_selection import train_test_split\n",
    "from sklearn.preprocessing import KBinsDiscretizer"
   ]
  },
  {
   "cell_type": "code",
   "execution_count": 4,
   "metadata": {},
   "outputs": [
    {
     "data": {
      "text/html": [
       "<div>\n",
       "<style scoped>\n",
       "    .dataframe tbody tr th:only-of-type {\n",
       "        vertical-align: middle;\n",
       "    }\n",
       "\n",
       "    .dataframe tbody tr th {\n",
       "        vertical-align: top;\n",
       "    }\n",
       "\n",
       "    .dataframe thead th {\n",
       "        text-align: right;\n",
       "    }\n",
       "</style>\n",
       "<table border=\"1\" class=\"dataframe\">\n",
       "  <thead>\n",
       "    <tr style=\"text-align: right;\">\n",
       "      <th></th>\n",
       "      <th>u</th>\n",
       "      <th>direction</th>\n",
       "      <th>h</th>\n",
       "      <th>u_top</th>\n",
       "      <th>direction_top</th>\n",
       "      <th>Pyranometer Upper Irradiance [W/m$^2$]</th>\n",
       "      <th>Pyranometer Lower Irradiance [W/m$^2$]</th>\n",
       "      <th>Pyrgeometer Upper Irradiance [W/m$^2$]</th>\n",
       "      <th>Pyrgeometer Lower Irradiance [W/m$^2$]</th>\n",
       "      <th>Net Solar radiation [W/m$^2$]</th>\n",
       "      <th>Net (total) radiation [W/m$^2$]</th>\n",
       "      <th>Net Far Infrared radiation [W/m$^2$]</th>\n",
       "      <th>Sky temperature [°C]</th>\n",
       "      <th>Radiometer Ground temperature [°C]</th>\n",
       "      <th>Sensor Ground temperature [°C]</th>\n",
       "      <th>North temperature [°C]</th>\n",
       "      <th>East temperature [°C]</th>\n",
       "      <th>South temperature [°C]</th>\n",
       "      <th>West temperature [°C]</th>\n",
       "    </tr>\n",
       "  </thead>\n",
       "  <tbody>\n",
       "    <tr>\n",
       "      <th>2018-11-14 00:00:00</th>\n",
       "      <td>0.66</td>\n",
       "      <td>160.0</td>\n",
       "      <td>1.5</td>\n",
       "      <td>2.76</td>\n",
       "      <td>298.0</td>\n",
       "      <td>1.8</td>\n",
       "      <td>-2.9</td>\n",
       "      <td>369.0</td>\n",
       "      <td>364.7</td>\n",
       "      <td>4.7</td>\n",
       "      <td>9.0</td>\n",
       "      <td>4.3</td>\n",
       "      <td>10.9</td>\n",
       "      <td>10.0</td>\n",
       "      <td>10.5</td>\n",
       "      <td>13.1</td>\n",
       "      <td>11.8</td>\n",
       "      <td>11.6</td>\n",
       "      <td>10.5</td>\n",
       "    </tr>\n",
       "    <tr>\n",
       "      <th>2018-11-14 00:00:00</th>\n",
       "      <td>0.91</td>\n",
       "      <td>225.0</td>\n",
       "      <td>5.5</td>\n",
       "      <td>2.76</td>\n",
       "      <td>298.0</td>\n",
       "      <td>1.8</td>\n",
       "      <td>-2.9</td>\n",
       "      <td>369.0</td>\n",
       "      <td>364.7</td>\n",
       "      <td>4.7</td>\n",
       "      <td>9.0</td>\n",
       "      <td>4.3</td>\n",
       "      <td>10.9</td>\n",
       "      <td>10.0</td>\n",
       "      <td>10.5</td>\n",
       "      <td>13.1</td>\n",
       "      <td>11.8</td>\n",
       "      <td>11.6</td>\n",
       "      <td>10.5</td>\n",
       "    </tr>\n",
       "    <tr>\n",
       "      <th>2018-11-14 00:00:00</th>\n",
       "      <td>0.57</td>\n",
       "      <td>185.0</td>\n",
       "      <td>9.5</td>\n",
       "      <td>2.76</td>\n",
       "      <td>298.0</td>\n",
       "      <td>1.8</td>\n",
       "      <td>-2.9</td>\n",
       "      <td>369.0</td>\n",
       "      <td>364.7</td>\n",
       "      <td>4.7</td>\n",
       "      <td>9.0</td>\n",
       "      <td>4.3</td>\n",
       "      <td>10.9</td>\n",
       "      <td>10.0</td>\n",
       "      <td>10.5</td>\n",
       "      <td>13.1</td>\n",
       "      <td>11.8</td>\n",
       "      <td>11.6</td>\n",
       "      <td>10.5</td>\n",
       "    </tr>\n",
       "    <tr>\n",
       "      <th>2018-11-14 00:00:00</th>\n",
       "      <td>2.64</td>\n",
       "      <td>284.0</td>\n",
       "      <td>13.5</td>\n",
       "      <td>2.76</td>\n",
       "      <td>298.0</td>\n",
       "      <td>1.8</td>\n",
       "      <td>-2.9</td>\n",
       "      <td>369.0</td>\n",
       "      <td>364.7</td>\n",
       "      <td>4.7</td>\n",
       "      <td>9.0</td>\n",
       "      <td>4.3</td>\n",
       "      <td>10.9</td>\n",
       "      <td>10.0</td>\n",
       "      <td>10.5</td>\n",
       "      <td>13.1</td>\n",
       "      <td>11.8</td>\n",
       "      <td>11.6</td>\n",
       "      <td>10.5</td>\n",
       "    </tr>\n",
       "    <tr>\n",
       "      <th>2018-11-14 00:00:00</th>\n",
       "      <td>2.98</td>\n",
       "      <td>313.0</td>\n",
       "      <td>17.5</td>\n",
       "      <td>2.76</td>\n",
       "      <td>298.0</td>\n",
       "      <td>1.8</td>\n",
       "      <td>-2.9</td>\n",
       "      <td>369.0</td>\n",
       "      <td>364.7</td>\n",
       "      <td>4.7</td>\n",
       "      <td>9.0</td>\n",
       "      <td>4.3</td>\n",
       "      <td>10.9</td>\n",
       "      <td>10.0</td>\n",
       "      <td>10.5</td>\n",
       "      <td>13.1</td>\n",
       "      <td>11.8</td>\n",
       "      <td>11.6</td>\n",
       "      <td>10.5</td>\n",
       "    </tr>\n",
       "  </tbody>\n",
       "</table>\n",
       "</div>"
      ],
      "text/plain": [
       "                        u  direction     h  u_top  direction_top  \\\n",
       "2018-11-14 00:00:00  0.66      160.0   1.5   2.76          298.0   \n",
       "2018-11-14 00:00:00  0.91      225.0   5.5   2.76          298.0   \n",
       "2018-11-14 00:00:00  0.57      185.0   9.5   2.76          298.0   \n",
       "2018-11-14 00:00:00  2.64      284.0  13.5   2.76          298.0   \n",
       "2018-11-14 00:00:00  2.98      313.0  17.5   2.76          298.0   \n",
       "\n",
       "                     Pyranometer Upper Irradiance [W/m$^2$]  \\\n",
       "2018-11-14 00:00:00                                     1.8   \n",
       "2018-11-14 00:00:00                                     1.8   \n",
       "2018-11-14 00:00:00                                     1.8   \n",
       "2018-11-14 00:00:00                                     1.8   \n",
       "2018-11-14 00:00:00                                     1.8   \n",
       "\n",
       "                     Pyranometer Lower Irradiance [W/m$^2$]  \\\n",
       "2018-11-14 00:00:00                                    -2.9   \n",
       "2018-11-14 00:00:00                                    -2.9   \n",
       "2018-11-14 00:00:00                                    -2.9   \n",
       "2018-11-14 00:00:00                                    -2.9   \n",
       "2018-11-14 00:00:00                                    -2.9   \n",
       "\n",
       "                     Pyrgeometer Upper Irradiance [W/m$^2$]  \\\n",
       "2018-11-14 00:00:00                                   369.0   \n",
       "2018-11-14 00:00:00                                   369.0   \n",
       "2018-11-14 00:00:00                                   369.0   \n",
       "2018-11-14 00:00:00                                   369.0   \n",
       "2018-11-14 00:00:00                                   369.0   \n",
       "\n",
       "                     Pyrgeometer Lower Irradiance [W/m$^2$]  \\\n",
       "2018-11-14 00:00:00                                   364.7   \n",
       "2018-11-14 00:00:00                                   364.7   \n",
       "2018-11-14 00:00:00                                   364.7   \n",
       "2018-11-14 00:00:00                                   364.7   \n",
       "2018-11-14 00:00:00                                   364.7   \n",
       "\n",
       "                     Net Solar radiation [W/m$^2$]  \\\n",
       "2018-11-14 00:00:00                            4.7   \n",
       "2018-11-14 00:00:00                            4.7   \n",
       "2018-11-14 00:00:00                            4.7   \n",
       "2018-11-14 00:00:00                            4.7   \n",
       "2018-11-14 00:00:00                            4.7   \n",
       "\n",
       "                     Net (total) radiation [W/m$^2$]  \\\n",
       "2018-11-14 00:00:00                              9.0   \n",
       "2018-11-14 00:00:00                              9.0   \n",
       "2018-11-14 00:00:00                              9.0   \n",
       "2018-11-14 00:00:00                              9.0   \n",
       "2018-11-14 00:00:00                              9.0   \n",
       "\n",
       "                     Net Far Infrared radiation [W/m$^2$]  \\\n",
       "2018-11-14 00:00:00                                   4.3   \n",
       "2018-11-14 00:00:00                                   4.3   \n",
       "2018-11-14 00:00:00                                   4.3   \n",
       "2018-11-14 00:00:00                                   4.3   \n",
       "2018-11-14 00:00:00                                   4.3   \n",
       "\n",
       "                     Sky temperature [°C]  Radiometer Ground temperature [°C]  \\\n",
       "2018-11-14 00:00:00                  10.9                                10.0   \n",
       "2018-11-14 00:00:00                  10.9                                10.0   \n",
       "2018-11-14 00:00:00                  10.9                                10.0   \n",
       "2018-11-14 00:00:00                  10.9                                10.0   \n",
       "2018-11-14 00:00:00                  10.9                                10.0   \n",
       "\n",
       "                     Sensor Ground temperature [°C]  North temperature [°C]  \\\n",
       "2018-11-14 00:00:00                            10.5                    13.1   \n",
       "2018-11-14 00:00:00                            10.5                    13.1   \n",
       "2018-11-14 00:00:00                            10.5                    13.1   \n",
       "2018-11-14 00:00:00                            10.5                    13.1   \n",
       "2018-11-14 00:00:00                            10.5                    13.1   \n",
       "\n",
       "                     East temperature [°C]  South temperature [°C]  \\\n",
       "2018-11-14 00:00:00                   11.8                    11.6   \n",
       "2018-11-14 00:00:00                   11.8                    11.6   \n",
       "2018-11-14 00:00:00                   11.8                    11.6   \n",
       "2018-11-14 00:00:00                   11.8                    11.6   \n",
       "2018-11-14 00:00:00                   11.8                    11.6   \n",
       "\n",
       "                     West temperature [°C]  \n",
       "2018-11-14 00:00:00                   10.5  \n",
       "2018-11-14 00:00:00                   10.5  \n",
       "2018-11-14 00:00:00                   10.5  \n",
       "2018-11-14 00:00:00                   10.5  \n",
       "2018-11-14 00:00:00                   10.5  "
      ]
     },
     "execution_count": 4,
     "metadata": {},
     "output_type": "execute_result"
    }
   ],
   "source": [
    "DATA_FOLDER = './avg_data/'\n",
    "os.listdir(DATA_FOLDER)\n",
    "all_anem=glob.glob(DATA_FOLDER + \"anem*\")\n",
    "mast_anem=all_anem[:6]\n",
    "top_anem=all_anem[6]\n",
    "only_mag=True\n",
    "h=np.arange(1.5,22,4)\n",
    "df_list=[]\n",
    "for idx,i in enumerate(mast_anem):\n",
    "    df_temp=pd.read_csv(i, sep=\" \", header=None, index_col=0, names=['u','direction'])\n",
    "    df_temp['h']=h[idx]\n",
    "    df_list.append(df_temp)\n",
    "mast_anem_df = pd.concat(df_list)\n",
    "rad_df = pd.read_csv(DATA_FOLDER+'radiometer.csv', sep=\" \",index_col=0)\n",
    "temp_df = pd.read_csv(DATA_FOLDER+'surf_temp.txt', sep=\" \",index_col=0)\n",
    "top_anem_df = pd.read_csv(top_anem, sep=\" \",index_col=0,names=['u_top','direction_top'])\n",
    "time_var_df = top_anem_df.merge(rad_df,how='left', left_index=True,right_index=True)\n",
    "time_var_df = time_var_df.merge(temp_df,how='left', left_index=True,right_index=True)\n",
    "tot_df=mast_anem_df.merge(time_var_df,how='left', left_index=True,right_index=True)\n",
    "tot_df = tot_df.dropna(axis=0, how='any')\n",
    "tot_df = tot_df.drop(columns=['Albedo [-]'])\n",
    "tot_df.head()"
   ]
  },
  {
   "cell_type": "code",
   "execution_count": 5,
   "metadata": {},
   "outputs": [],
   "source": [
    "X = np.array(tot_df.drop(columns=['u', 'direction']))\n",
    "Y = np.array(tot_df[['u']]) # First consider 1 dimension output\n",
    "\n",
    "# Make pipeline\n",
    "#preprocessing = make_pipeline(StandardScaler(),KBinsDiscretizer(n_bins=20, encode='ordinal'),StandardScaler())\n",
    "k = StandardScaler().fit(X)\n",
    "X = k.transform(X)\n",
    "k = KBinsDiscretizer(n_bins=20,encode='ordinal',strategy='uniform').fit(X)\n",
    "X = k.transform(X) \n",
    "k = StandardScaler().fit(X)\n",
    "X = k.transform(X)\n",
    "\n",
    "k = StandardScaler().fit(Y)\n",
    "Y = k.transform(Y)\n",
    "k = KBinsDiscretizer(n_bins=20,encode='ordinal',strategy='uniform').fit(Y)\n",
    "Y = k.transform(Y) \n",
    "k = StandardScaler().fit(Y)\n",
    "Y = k.transform(Y)\n",
    "# Split the data\n",
    "x_tr_, x_te_, y_tr_, y_te_ = train_test_split(X, Y, test_size = 0.3, random_state = 0)"
   ]
  },
  {
   "cell_type": "code",
   "execution_count": 6,
   "metadata": {},
   "outputs": [
    {
     "name": "stdout",
     "output_type": "stream",
     "text": [
      "(8460, 17)\n"
     ]
    }
   ],
   "source": [
    "#k = preprocessing.fit(X)\n",
    "#X = preprocessing.transform(X)\n",
    "print X.shape"
   ]
  },
  {
   "cell_type": "markdown",
   "metadata": {},
   "source": [
    "### Build the Net"
   ]
  },
  {
   "cell_type": "code",
   "execution_count": 14,
   "metadata": {},
   "outputs": [
    {
     "name": "stdout",
     "output_type": "stream",
     "text": [
      "Net(\n",
      "  (hidden): Linear(in_features=1, out_features=100, bias=True)\n",
      "  (predict): Linear(in_features=100, out_features=1, bias=True)\n",
      ")\n"
     ]
    }
   ],
   "source": [
    "class Net(torch.nn.Module):\n",
    "    def __init__(self, n_feature, n_hidden, n_output):\n",
    "        super(Net, self).__init__()\n",
    "        self.hidden = torch.nn.Linear(n_feature, n_hidden)  \n",
    "        self.predict = torch.nn.Linear(n_hidden, n_output)  \n",
    "\n",
    "    def forward(self, x):\n",
    "        a1 = F.relu(self.hidden(x)) \n",
    "        #a1 = torch.sigmoid(self.hidden(x))\n",
    "        #a1 = self.hidden(x) # 隐藏层用 relu\n",
    "        y = self.predict(a1)\n",
    "        return y\n",
    "\n",
    "net = Net(n_feature=1, n_hidden=100, n_output=1)\n",
    "print(net)"
   ]
  },
  {
   "cell_type": "code",
   "execution_count": 15,
   "metadata": {},
   "outputs": [],
   "source": [
    "loss_func = torch.nn.MSELoss()   \n",
    "optimizer = torch.optim.SGD(net.parameters(), lr=0.5)"
   ]
  },
  {
   "cell_type": "markdown",
   "metadata": {},
   "source": [
    "### Prepare the data"
   ]
  },
  {
   "cell_type": "code",
   "execution_count": 16,
   "metadata": {},
   "outputs": [
    {
     "name": "stdout",
     "output_type": "stream",
     "text": [
      "torch.Size([2538])\n",
      "torch.Size([5922, 1])\n",
      "torch.Size([5922, 1])\n",
      "torch.Size([2538, 1])\n"
     ]
    }
   ],
   "source": [
    "x_tr = torch.from_numpy(x_tr_[:,1])\n",
    "y_tr = torch.from_numpy(y_tr_)\n",
    "x_te = torch.from_numpy(x_te_[:,1])\n",
    "y_te = torch.from_numpy(y_te_)\n",
    "x_tr = x_tr.type(torch.FloatTensor)\n",
    "y_tr = y_tr.type(torch.FloatTensor)\n",
    "x_te = x_te.type(torch.FloatTensor)\n",
    "y_te = y_te.type(torch.FloatTensor)\n",
    "x_tr, y_tr = Variable(x_tr), Variable(y_tr)\n",
    "x_te, y_te = Variable(x_te), Variable(y_te)\n",
    "print x_te.size()\n",
    "print y_tr.size()\n",
    "#y_train = y_train.view(8459, 1) \n",
    "x_tr = x_tr.view(5922, 1)\n",
    "x_te = x_te.view(2538, 1)\n",
    "print x_tr.size()\n",
    "print x_te.size()"
   ]
  },
  {
   "cell_type": "code",
   "execution_count": 17,
   "metadata": {},
   "outputs": [
    {
     "data": {
      "image/png": "[encoded data removed]",
      "text/plain": [
       "<Figure size 432x288 with 1 Axes>"
      ]
     },
     "metadata": {},
     "output_type": "display_data"
    }
   ],
   "source": [
    "x_tr = torch.unsqueeze(torch.linspace(-1, 1, 100), dim=1)  # x data (tensor), shape=(100, 1)\n",
    "y_tr = x_tr.pow(2) + 0.2*torch.rand(x_tr.size())                 # noisy y data (tensor), shape=(100, 1)\n",
    "\n",
    "# 画图\n",
    "plt.scatter(x_tr.data.numpy(), y_tr.data.numpy())\n",
    "plt.show()"
   ]
  },
  {
   "cell_type": "markdown",
   "metadata": {},
   "source": [
    "### Train the Net"
   ]
  },
  {
   "cell_type": "code",
   "execution_count": 18,
   "metadata": {},
   "outputs": [
    {
     "name": "stdout",
     "output_type": "stream",
     "text": [
      "tensor(0.3044, grad_fn=<MseLossBackward>)\n",
      "tensor(60.1141, grad_fn=<MseLossBackward>)\n",
      "tensor(233.9094, grad_fn=<MseLossBackward>)\n",
      "tensor(1.9234, grad_fn=<MseLossBackward>)\n",
      "tensor(35.1743, grad_fn=<MseLossBackward>)\n",
      "tensor(53.0379, grad_fn=<MseLossBackward>)\n",
      "tensor(1.9209, grad_fn=<MseLossBackward>)\n",
      "tensor(35.1720, grad_fn=<MseLossBackward>)\n",
      "tensor(53.0294, grad_fn=<MseLossBackward>)\n",
      "tensor(1.9209, grad_fn=<MseLossBackward>)\n",
      "tensor(35.1709, grad_fn=<MseLossBackward>)\n",
      "tensor(53.0294, grad_fn=<MseLossBackward>)\n",
      "tensor(1.9209, grad_fn=<MseLossBackward>)\n",
      "tensor(35.1709, grad_fn=<MseLossBackward>)\n",
      "tensor(53.0294, grad_fn=<MseLossBackward>)\n",
      "tensor(1.9209, grad_fn=<MseLossBackward>)\n",
      "tensor(35.1709, grad_fn=<MseLossBackward>)\n",
      "tensor(53.0293, grad_fn=<MseLossBackward>)\n",
      "tensor(1.9209, grad_fn=<MseLossBackward>)\n",
      "tensor(35.1709, grad_fn=<MseLossBackward>)\n",
      "tensor(53.0293, grad_fn=<MseLossBackward>)\n",
      "tensor(1.9209, grad_fn=<MseLossBackward>)\n",
      "tensor(35.1709, grad_fn=<MseLossBackward>)\n",
      "tensor(53.0293, grad_fn=<MseLossBackward>)\n",
      "tensor(1.9209, grad_fn=<MseLossBackward>)\n",
      "tensor(35.1709, grad_fn=<MseLossBackward>)\n",
      "tensor(53.0293, grad_fn=<MseLossBackward>)\n",
      "tensor(1.9209, grad_fn=<MseLossBackward>)\n",
      "tensor(35.1709, grad_fn=<MseLossBackward>)\n",
      "tensor(53.0293, grad_fn=<MseLossBackward>)\n",
      "tensor(1.9209, grad_fn=<MseLossBackward>)\n",
      "tensor(35.1709, grad_fn=<MseLossBackward>)\n",
      "tensor(53.0293, grad_fn=<MseLossBackward>)\n",
      "tensor(1.9209, grad_fn=<MseLossBackward>)\n",
      "tensor(35.1708, grad_fn=<MseLossBackward>)\n",
      "tensor(53.0293, grad_fn=<MseLossBackward>)\n",
      "tensor(1.9209, grad_fn=<MseLossBackward>)\n",
      "tensor(35.1708, grad_fn=<MseLossBackward>)\n",
      "tensor(53.0293, grad_fn=<MseLossBackward>)\n",
      "tensor(1.9209, grad_fn=<MseLossBackward>)\n",
      "tensor(35.1708, grad_fn=<MseLossBackward>)\n",
      "tensor(53.0293, grad_fn=<MseLossBackward>)\n",
      "tensor(1.9209, grad_fn=<MseLossBackward>)\n",
      "tensor(35.1708, grad_fn=<MseLossBackward>)\n",
      "tensor(53.0293, grad_fn=<MseLossBackward>)\n",
      "tensor(1.9209, grad_fn=<MseLossBackward>)\n",
      "tensor(35.1708, grad_fn=<MseLossBackward>)\n",
      "tensor(53.0293, grad_fn=<MseLossBackward>)\n",
      "tensor(1.9209, grad_fn=<MseLossBackward>)\n",
      "tensor(35.1708, grad_fn=<MseLossBackward>)\n",
      "tensor(53.0293, grad_fn=<MseLossBackward>)\n",
      "tensor(1.9209, grad_fn=<MseLossBackward>)\n",
      "tensor(35.1708, grad_fn=<MseLossBackward>)\n",
      "tensor(53.0293, grad_fn=<MseLossBackward>)\n",
      "tensor(1.9209, grad_fn=<MseLossBackward>)\n",
      "tensor(35.1708, grad_fn=<MseLossBackward>)\n",
      "tensor(53.0293, grad_fn=<MseLossBackward>)\n",
      "tensor(1.9209, grad_fn=<MseLossBackward>)\n",
      "tensor(35.1708, grad_fn=<MseLossBackward>)\n",
      "tensor(53.0293, grad_fn=<MseLossBackward>)\n",
      "tensor(1.9209, grad_fn=<MseLossBackward>)\n",
      "tensor(35.1708, grad_fn=<MseLossBackward>)\n",
      "tensor(53.0293, grad_fn=<MseLossBackward>)\n",
      "tensor(1.9209, grad_fn=<MseLossBackward>)\n",
      "tensor(35.1707, grad_fn=<MseLossBackward>)\n",
      "tensor(53.0293, grad_fn=<MseLossBackward>)\n",
      "tensor(1.9209, grad_fn=<MseLossBackward>)\n",
      "tensor(35.1707, grad_fn=<MseLossBackward>)\n",
      "tensor(53.0293, grad_fn=<MseLossBackward>)\n",
      "tensor(1.9209, grad_fn=<MseLossBackward>)\n",
      "tensor(35.1707, grad_fn=<MseLossBackward>)\n",
      "tensor(53.0293, grad_fn=<MseLossBackward>)\n",
      "tensor(1.9209, grad_fn=<MseLossBackward>)\n",
      "tensor(35.1707, grad_fn=<MseLossBackward>)\n",
      "tensor(53.0294, grad_fn=<MseLossBackward>)\n",
      "tensor(1.9209, grad_fn=<MseLossBackward>)\n",
      "tensor(35.1707, grad_fn=<MseLossBackward>)\n",
      "tensor(53.0294, grad_fn=<MseLossBackward>)\n",
      "tensor(1.9209, grad_fn=<MseLossBackward>)\n",
      "tensor(35.1707, grad_fn=<MseLossBackward>)\n",
      "tensor(53.0294, grad_fn=<MseLossBackward>)\n",
      "tensor(1.9209, grad_fn=<MseLossBackward>)\n",
      "tensor(35.1707, grad_fn=<MseLossBackward>)\n",
      "tensor(53.0294, grad_fn=<MseLossBackward>)\n",
      "tensor(1.9209, grad_fn=<MseLossBackward>)\n",
      "tensor(35.1707, grad_fn=<MseLossBackward>)\n",
      "tensor(53.0294, grad_fn=<MseLossBackward>)\n",
      "tensor(1.9209, grad_fn=<MseLossBackward>)\n",
      "tensor(35.1708, grad_fn=<MseLossBackward>)\n",
      "tensor(53.0294, grad_fn=<MseLossBackward>)\n",
      "tensor(1.9209, grad_fn=<MseLossBackward>)\n",
      "tensor(35.1708, grad_fn=<MseLossBackward>)\n",
      "tensor(53.0294, grad_fn=<MseLossBackward>)\n",
      "tensor(1.9209, grad_fn=<MseLossBackward>)\n",
      "tensor(35.1708, grad_fn=<MseLossBackward>)\n",
      "tensor(53.0294, grad_fn=<MseLossBackward>)\n",
      "tensor(1.9209, grad_fn=<MseLossBackward>)\n",
      "tensor(35.1708, grad_fn=<MseLossBackward>)\n",
      "tensor(53.0295, grad_fn=<MseLossBackward>)\n",
      "tensor(1.9209, grad_fn=<MseLossBackward>)\n"
     ]
    }
   ],
   "source": [
    "for t in range(100):\n",
    "    prediction = net(x_tr)\n",
    "    loss = loss_func(prediction, y_tr)\n",
    "    print loss\n",
    "    #optimizer.zero_grad()    # clear gradients for next train\n",
    "    loss.backward()          # backpropagation\n",
    "    optimizer.step()         # update（w、b）"
   ]
  },
  {
   "cell_type": "markdown",
   "metadata": {},
   "source": [
    "### Predict"
   ]
  },
  {
   "cell_type": "code",
   "execution_count": 19,
   "metadata": {},
   "outputs": [
    {
     "name": "stdout",
     "output_type": "stream",
     "text": [
      "tensor(1.9209, grad_fn=<MseLossBackward>)\n"
     ]
    }
   ],
   "source": [
    "print loss\n",
    "net.eval()\n",
    "predict = net(x_tr)\n",
    "predict = predict.data.numpy()"
   ]
  },
  {
   "cell_type": "code",
   "execution_count": 20,
   "metadata": {},
   "outputs": [
    {
     "data": {
      "text/plain": [
       "[<matplotlib.lines.Line2D at 0x1253ba990>]"
      ]
     },
     "execution_count": 20,
     "metadata": {},
     "output_type": "execute_result"
    },
    {
     "data": {
      "image/png": "[encoded data removed]",
      "text/plain": [
       "<Figure size 432x288 with 1 Axes>"
      ]
     },
     "metadata": {},
     "output_type": "display_data"
    }
   ],
   "source": [
    "plt.plot(predict)\n",
    "plt.plot(np.array(y_tr))"
   ]
  }
 ],
 "metadata": {
  "kernelspec": {
   "display_name": "Python 2",
   "language": "python",
   "name": "python2"
  },
  "language_info": {
   "codemirror_mode": {
    "name": "ipython",
    "version": 2
   },
   "file_extension": ".py",
   "mimetype": "text/x-python",
   "name": "python",
   "nbconvert_exporter": "python",
   "pygments_lexer": "ipython2",
   "version": "2.7.3"
  }
 },
 "nbformat": 4,
 "nbformat_minor": 2
}
