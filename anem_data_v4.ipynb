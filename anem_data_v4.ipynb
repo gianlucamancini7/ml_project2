{
 "cells": [
  {
   "cell_type": "markdown",
   "metadata": {},
   "source": [
    " Script prepared by Dr. Dasaraden Mauree                 \n",
    "  Contact: EPFL                                           \n",
    "  dasaraden.mauree@epfl.ch / dasaraden.mauree@gmail.com  \n",
    "                                                         \n",
    "   use this script to read all anemometers data from MoTUS,   \n",
    "   calculate hourly mean data and to sort out data in    \n",
    "   ascending order.                   "
   ]
  },
  {
   "cell_type": "code",
   "execution_count": 1,
   "metadata": {
    "collapsed": true
   },
   "outputs": [],
   "source": [
    "from IPython.core.interactiveshell import InteractiveShell\n",
    "InteractiveShell.ast_node_interactivity = \"all\""
   ]
  },
  {
   "cell_type": "code",
   "execution_count": 9,
   "metadata": {
    "scrolled": true
   },
   "outputs": [
    {
     "name": "stderr",
     "output_type": "stream",
     "text": [
      "b'Skipping line 30141: expected 8 fields, saw 9\\nSkipping line 30181: expected 8 fields, saw 9\\n'\n",
      "b'Skipping line 827442: expected 8 fields, saw 9\\nSkipping line 832888: expected 8 fields, saw 9\\n'\n",
      "b'Skipping line 882862: expected 8 fields, saw 9\\n'\n",
      "b'Skipping line 936661: expected 8 fields, saw 9\\nSkipping line 936689: expected 8 fields, saw 9\\nSkipping line 936837: expected 8 fields, saw 9\\n'\n",
      "b'Skipping line 1227217: expected 8 fields, saw 9\\n'\n"
     ]
    }
   ],
   "source": [
    "#importing necessary packages\n",
    "\n",
    "import glob\n",
    "import pandas as pd\n",
    "import numpy as np\n",
    "import math\n",
    "from datetime import datetime, timedelta\n",
    "import re\n",
    "\n",
    "\n",
    "path =r'sample' # use your path\n",
    "#allFiles = glob.glob(path + \"/*anem*\")\n",
    "j = pd.DataFrame()\n",
    "hourlymean = pd.DataFrame()\n",
    "df=pd.DataFrame()\n",
    "eachanem=pd.DataFrame()\n",
    "result=pd.DataFrame()\n",
    "\n",
    "grosselist=[]\n",
    "#Declaring all variables\n",
    "list_ = []\n",
    "dir, U, w, status, SS, ST, time=[],[],[],[],[],[],[]\n",
    "u, v, theta=[],[],[]\n",
    "umean, vmean, wmean=[],[],[]\n",
    "ustd, vstd, wstd, thetastd=[],[],[],[]\n",
    "timeplot =[]\n",
    "\n",
    "#Opening file and saving in array\n",
    "for i in range (8):\n",
    "    \n",
    "    allFiles = glob.glob(path + \"\\*anem\" + str(i) + \"_20Hz.txt\") \n",
    "    \n",
    "    for file in allFiles:\n",
    "        \n",
    "        #fil=pd.read_csv(file, header=None, comment=',')  \n",
    "        fil=pd.read_csv(file, header=None, comment=',', error_bad_lines=False) #for20hz anem\n",
    "        fileArray=np.array(fil)\n",
    "                \n",
    "        for k,line in enumerate(fileArray):\n",
    "    \n",
    "            #Reading time step\n",
    "            timeStr=line[-1]\n",
    "            contime=datetime.strptime(' '.join([timeStr]), '%d.%m.%Y %H:%M:%S')\n",
    "          \n",
    "            #storing in individual array\n",
    "            time.append(contime)\n",
    "            u.append(float(line[2]))\n",
    "            theta.append(float(line[1]))\n",
    "            \n",
    "        j['datetime']=pd.to_datetime(time)\n",
    "        j=j.set_index('datetime')\n",
    "        j['u']=u\n",
    "        j['dir']=theta\n",
    "    \n",
    "        hourlymean=j.resample('H').mean()\n",
    "        hourlymean=hourlymean[:-1]        \n",
    "        hourlymean=hourlymean.round({'u': 2})\n",
    "        hourlymean.dir = hourlymean.dir.round()\n",
    "        #hourlymean.dir = hourlymean.dir.astype(int)\n",
    "\n",
    "        time=[]\n",
    "        u,theta=[],[]\n",
    "        j = pd.DataFrame()  \n",
    "            \n",
    "        eachanem=eachanem.append(hourlymean)\n",
    "        \n",
    "    result = eachanem.sort_index(axis=0, ascending=True)\n",
    "    result.to_csv('anem'+ str(i) +'.txt', header=None, index=True, sep=' ', mode='a')\n",
    "    eachanem=pd.DataFrame()\n",
    "    result=pd.DataFrame()"
   ]
  },
  {
   "cell_type": "code",
   "execution_count": 37,
   "metadata": {
    "collapsed": true
   },
   "outputs": [],
   "source": [
    "#use this part of the script to sort out file that is not in ascending order.\n",
    "\n",
    "import glob\n",
    "import pandas as pd\n",
    "path =r'unsorted' # use your path\n",
    "j=pd.DataFrame()\n",
    "\n",
    "for i in range (1,8):\n",
    "    \n",
    "    allFiles = glob.glob(path + \"/*anem\" + str(i) + \".txt\") \n",
    "    \n",
    "    for file in allFiles:\n",
    "               \n",
    "        fil=pd.read_csv(file, sep=' ', header=None, comment=',') \n",
    "        result = fil.sort_values(0, axis=0, ascending=True)\n",
    "    \n",
    "        result.to_csv('anem_sorted'+ str(i) +'.txt', header=None, index=False, sep=' ', mode='a')\n",
    "        result=pd.DataFrame()"
   ]
  },
  {
   "cell_type": "code",
   "execution_count": 2,
   "metadata": {},
   "outputs": [
    {
     "data": {
      "text/plain": [
       "30"
      ]
     },
     "execution_count": 2,
     "metadata": {},
     "output_type": "execute_result"
    }
   ],
   "source": []
  }
 ],
 "metadata": {
  "anaconda-cloud": {},
  "kernelspec": {
   "display_name": "Python 3",
   "language": "python",
   "name": "python3"
  },
  "language_info": {
   "codemirror_mode": {
    "name": "ipython",
    "version": 3
   },
   "file_extension": ".py",
   "mimetype": "text/x-python",
   "name": "python",
   "nbconvert_exporter": "python",
   "pygments_lexer": "ipython3",
   "version": "3.6.5"
  }
 },
 "nbformat": 4,
 "nbformat_minor": 1
}
