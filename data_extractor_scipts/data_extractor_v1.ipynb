{
 "cells": [
  {
   "cell_type": "code",
   "execution_count": 1,
   "metadata": {},
   "outputs": [],
   "source": [
    "#Imports\n",
    "import pandas as pd\n",
    "import numpy as np\n",
    "from IPython.core import display as ICD\n",
    "import glob\n",
    "import os\n",
    "pd.set_option('display.max_columns', 100)"
   ]
  },
  {
   "cell_type": "code",
   "execution_count": 2,
   "metadata": {},
   "outputs": [],
   "source": [
    "# General timestamp\n",
    "# ----------------------------------- #\n",
    "#List of some available timestamp, it is possible to include more\n",
    "# B       business day frequency\n",
    "# D       calendar day frequency\n",
    "# W       weekly frequency\n",
    "# M       month end frequency\n",
    "# SM      semi-month end frequency (15th and end of month)\n",
    "# MS      month start frequency\n",
    "# SMS     semi-month start frequency (1st and 15th)\n",
    "# Q       quarter end frequency\n",
    "# QS      quarter start frequency\n",
    "# A       year end frequency\n",
    "# AS      year start frequency\n",
    "# H       hourly frequency\n",
    "# T       minutely frequency\n",
    "# S       secondly frequency\n",
    "# L       milliseonds\n",
    "# U       microseconds\n",
    "# N       nanoseconds\n",
    "time_int='T'\n",
    "#Data folder\n",
    "DATA_FOLDER = r'2018-11-14_Mesures_MoTUS/'\n",
    "AVERAGE_RES_FOLDER = r'average_data/'\n"
   ]
  },
  {
   "cell_type": "code",
   "execution_count": 3,
   "metadata": {
    "scrolled": true
   },
   "outputs": [],
   "source": [
    "###  Anemometer averaging data  ###\n",
    "# ----------------------------------- #\n",
    "items_anem = range(1,8)\n",
    "columns_anem=[1,2,3,6,7]\n",
    "time_stp_position_anem=-1 #Respect to columns_anem\n",
    "\n",
    "for i in items_anem:\n",
    "    allFiles =  glob.glob(DATA_FOLDER + \"*anem\" + str(i) + \"_20Hz.txt\")\n",
    "    for file in allFiles:\n",
    "        df_temp=pd.read_csv(file, header=None, comment=',', error_bad_lines=False,usecols=columns_anem, index_col=time_stp_position_anem)\n",
    "        df_temp.index=pd.to_datetime(df_temp.index,format='%d.%m.%Y %H:%M:%S',errors='coerce')\n",
    "        df_temp=df_temp.resample(time_int).mean()[:-1]\n",
    "        df_temp.to_csv(AVERAGE_RES_FOLDER+'anem'+ str(i) +'.csv', header=None, index=True, sep=',', mode='a')\n",
    "        "
   ]
  },
  {
   "cell_type": "code",
   "execution_count": 4,
   "metadata": {
    "scrolled": true
   },
   "outputs": [
    {
     "name": "stdout",
     "output_type": "stream",
     "text": [
      "['2018-11-14_Mesures_MoTUS\\\\141118TempMat.txt']\n",
      "['2018-11-14_Mesures_MoTUS\\\\141118TempNorth.txt']\n",
      "['2018-11-14_Mesures_MoTUS\\\\141118TempEast.txt']\n",
      "['2018-11-14_Mesures_MoTUS\\\\141118TempSouth.txt']\n",
      "['2018-11-14_Mesures_MoTUS\\\\141118TempWest.txt']\n"
     ]
    }
   ],
   "source": [
    "###  Temperature averaging data  ###\n",
    "# ----------------------------------- #\n",
    "items_temp = [['Mat','North','East','South','West'],['Sensor Ground temperature [°C]','North temperature [°C]','East temperature [°C]','South temperature [°C]','West temperature [°C]']]\n",
    "columns_temp=[0,2]\n",
    "time_stp_position_temp=-1 #Respect to columns_anem\n",
    "#df_tot=pd.DataFrame()\n",
    "for idx,i in enumerate(items_temp[0]):\n",
    "    allFiles =  glob.glob(DATA_FOLDER + \"*Temp\"+i+'.txt')\n",
    "    print(allFiles)\n",
    "    df_item=pd.DataFrame()\n",
    "    for file in allFiles:\n",
    "        df_temp=pd.read_csv(file, header=None, comment=',', error_bad_lines=False,usecols=columns_temp, index_col=time_stp_position_temp)\n",
    "        df_temp.index=pd.to_datetime(df_temp.index,format='%d.%m.%Y %H:%M:%S',errors='coerce')\n",
    "        df_temp=df_temp.resample(time_int).mean()\n",
    "        df_item=pd.concat([df_item, df_temp])\n",
    "    df_item.columns = [items_temp[1][idx]]\n",
    "    if idx==0:\n",
    "        df_tot=df_item\n",
    "    else:\n",
    "        df_tot=df_tot.merge(df_item,how='left', left_index=True,right_index=True)\n",
    "df_tot.to_csv(AVERAGE_RES_FOLDER+'surf_temp'+'.csv', index=True, sep=',', mode='a')\n"
   ]
  },
  {
   "cell_type": "code",
   "execution_count": 5,
   "metadata": {
    "scrolled": true
   },
   "outputs": [],
   "source": [
    "###  Radiometer averaging data  ###\n",
    "# ----------------------------------- #\n",
    "columns_radio=list(range(10))+[11]\n",
    "time_stp_position_temp=-1 #Respect to columns_radio\n",
    "items_radio=['Pyranometer Upper Irradiance [W/m$^2$]','Pyranometer Lower Irradiance [W/m$^2$]',\\\n",
    "             'Pyrgeometer Upper Irradiance [W/m$^2$]','Pyrgeometer Lower Irradiance [W/m$^2$]',\\\n",
    "             'Albedo [-]','Net Solar radiation [W/m$^2$]','Net (total) radiation [W/m$^2$]',\\\n",
    "             'Net Far Infrared radiation [W/m$^2$]','Sky temperature [°C]','Radiometer Ground temperature [°C]']\n",
    "allFiles =  glob.glob(DATA_FOLDER + '*radiometre'+'.txt')\n",
    "for file in allFiles:\n",
    "    df_temp=pd.read_csv(file, header=None, comment=',', error_bad_lines=False,usecols=columns_radio, index_col=time_stp_position_temp)\n",
    "    df_temp.index=pd.to_datetime(df_temp.index,format='%d.%m.%Y %H:%M:%S',errors='coerce')\n",
    "    df_temp=df_temp.resample(time_int).mean()\n",
    "    df_temp.columns = items_radio\n",
    "    df_temp.to_csv(AVERAGE_RES_FOLDER+'radiometer'+'.csv', index=True, sep=',', mode='a')"
   ]
  }
 ],
 "metadata": {
  "kernelspec": {
   "display_name": "Python 3",
   "language": "python",
   "name": "python3"
  },
  "language_info": {
   "codemirror_mode": {
    "name": "ipython",
    "version": 3
   },
   "file_extension": ".py",
   "mimetype": "text/x-python",
   "name": "python",
   "nbconvert_exporter": "python",
   "pygments_lexer": "ipython3",
   "version": "3.6.5"
  }
 },
 "nbformat": 4,
 "nbformat_minor": 2
}
