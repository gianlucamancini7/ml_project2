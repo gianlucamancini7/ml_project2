{
 "cells": [
  {
   "cell_type": "code",
   "execution_count": 1,
   "metadata": {},
   "outputs": [],
   "source": [
    "#Imports\n",
    "import pandas as pd\n",
    "import numpy as np\n",
    "from IPython.core import display as ICD\n",
    "import glob\n",
    "import os\n",
    "from zipfile import ZipFile\n",
    "pd.set_option('display.max_columns', 100)\n",
    "import py7zlib"
   ]
  },
  {
   "cell_type": "code",
   "execution_count": 2,
   "metadata": {},
   "outputs": [
    {
     "name": "stdout",
     "output_type": "stream",
     "text": [
      "### --- MoTUS Data Extractor ---###\n",
      "\n"
     ]
    }
   ],
   "source": [
    "print('### --- MoTUS Data Extractor ---###')\n",
    "print('')"
   ]
  },
  {
   "cell_type": "code",
   "execution_count": 3,
   "metadata": {},
   "outputs": [
    {
     "name": "stdout",
     "output_type": "stream",
     "text": [
      "Time interval:  T\n",
      "Folder with zip files:  /Users/gianlucamancini/Desktop/7zip_files/\n",
      "Folder for save results:  /Users/gianlucamancini/Desktop/\n",
      "\n"
     ]
    }
   ],
   "source": [
    "# General timestamp\n",
    "# ----------------------------------- #\n",
    "#List of some available timestamp, it is possible to include more\n",
    "# B       business day frequency\n",
    "# D       calendar day frequency\n",
    "# W       weekly frequency\n",
    "# M       month end frequency\n",
    "# SM      semi-month end frequency (15th and end of month)\n",
    "# MS      month start frequency\n",
    "# SMS     semi-month start frequency (1st and 15th)\n",
    "# Q       quarter end frequency\n",
    "# QS      quarter start frequency\n",
    "# A       year end frequency\n",
    "# AS      year start frequency\n",
    "# H       hourly frequency\n",
    "# T       minutely frequency\n",
    "# S       secondly frequency\n",
    "# L       milliseonds\n",
    "# U       microseconds\n",
    "# N       nanoseconds\n",
    "time_int='T'\n",
    "#Data folder\n",
    "DATA_FOLDER = r'/Users/gianlucamancini/Desktop/7zip_files/'\n",
    "AVERAGE_RES_FOLDER = r'/Users/gianlucamancini/Desktop/'\n",
    "name_file=\"guru99.txt\"\n",
    "\n",
    "print('Time interval: ',time_int)\n",
    "print('Folder with zip files: ',DATA_FOLDER)\n",
    "print('Folder for save results: ',AVERAGE_RES_FOLDER)\n",
    "print('')"
   ]
  },
  {
   "cell_type": "code",
   "execution_count": 6,
   "metadata": {
    "scrolled": true
   },
   "outputs": [
    {
     "name": "stdout",
     "output_type": "stream",
     "text": [
      "Anemometers in progress...\n",
      "In progress: .DS_Store5_Mesures_MoTUS.7z\r"
     ]
    },
    {
     "ename": "FormatError",
     "evalue": "not a 7z file",
     "output_type": "error",
     "traceback": [
      "\u001b[0;31m---------------------------------------------------------------------------\u001b[0m",
      "\u001b[0;31mFormatError\u001b[0m                               Traceback (most recent call last)",
      "\u001b[0;32m<ipython-input-6-042d9eaf9261>\u001b[0m in \u001b[0;36m<module>\u001b[0;34m()\u001b[0m\n\u001b[1;32m     15\u001b[0m \u001b[0;34m\u001b[0m\u001b[0m\n\u001b[1;32m     16\u001b[0m     \u001b[0mcontent\u001b[0m\u001b[0;34m=\u001b[0m\u001b[0mopen\u001b[0m\u001b[0;34m(\u001b[0m\u001b[0mDATA_FOLDER\u001b[0m\u001b[0;34m+\u001b[0m\u001b[0mzip_folder\u001b[0m \u001b[0;34m,\u001b[0m\u001b[0;34m\"rb\"\u001b[0m\u001b[0;34m)\u001b[0m\u001b[0;34m\u001b[0m\u001b[0m\n\u001b[0;32m---> 17\u001b[0;31m     \u001b[0marchive\u001b[0m \u001b[0;34m=\u001b[0m \u001b[0mpy7zlib\u001b[0m\u001b[0;34m.\u001b[0m\u001b[0mArchive7z\u001b[0m\u001b[0;34m(\u001b[0m\u001b[0mcontent\u001b[0m\u001b[0;34m)\u001b[0m\u001b[0;34m\u001b[0m\u001b[0m\n\u001b[0m\u001b[1;32m     18\u001b[0m \u001b[0;34m\u001b[0m\u001b[0m\n\u001b[1;32m     19\u001b[0m \u001b[0;34m\u001b[0m\u001b[0m\n",
      "\u001b[0;32m~/anaconda3/lib/python3.6/site-packages/py7zlib.py\u001b[0m in \u001b[0;36m__init__\u001b[0;34m(self, file, password)\u001b[0m\n\u001b[1;32m    786\u001b[0m         \u001b[0mself\u001b[0m\u001b[0;34m.\u001b[0m\u001b[0mheader\u001b[0m \u001b[0;34m=\u001b[0m \u001b[0mfile\u001b[0m\u001b[0;34m.\u001b[0m\u001b[0mread\u001b[0m\u001b[0;34m(\u001b[0m\u001b[0mlen\u001b[0m\u001b[0;34m(\u001b[0m\u001b[0mMAGIC_7Z\u001b[0m\u001b[0;34m)\u001b[0m\u001b[0;34m)\u001b[0m\u001b[0;34m\u001b[0m\u001b[0m\n\u001b[1;32m    787\u001b[0m         \u001b[0;32mif\u001b[0m \u001b[0mself\u001b[0m\u001b[0;34m.\u001b[0m\u001b[0mheader\u001b[0m \u001b[0;34m!=\u001b[0m \u001b[0mMAGIC_7Z\u001b[0m\u001b[0;34m:\u001b[0m\u001b[0;34m\u001b[0m\u001b[0m\n\u001b[0;32m--> 788\u001b[0;31m             \u001b[0;32mraise\u001b[0m \u001b[0mFormatError\u001b[0m\u001b[0;34m(\u001b[0m\u001b[0;34m'not a 7z file'\u001b[0m\u001b[0;34m)\u001b[0m\u001b[0;34m\u001b[0m\u001b[0m\n\u001b[0m\u001b[1;32m    789\u001b[0m         \u001b[0mself\u001b[0m\u001b[0;34m.\u001b[0m\u001b[0mversion\u001b[0m \u001b[0;34m=\u001b[0m \u001b[0munpack\u001b[0m\u001b[0;34m(\u001b[0m\u001b[0;34m'BB'\u001b[0m\u001b[0;34m,\u001b[0m \u001b[0mfile\u001b[0m\u001b[0;34m.\u001b[0m\u001b[0mread\u001b[0m\u001b[0;34m(\u001b[0m\u001b[0;36m2\u001b[0m\u001b[0;34m)\u001b[0m\u001b[0;34m)\u001b[0m\u001b[0;34m\u001b[0m\u001b[0m\n\u001b[1;32m    790\u001b[0m \u001b[0;34m\u001b[0m\u001b[0m\n",
      "\u001b[0;31mFormatError\u001b[0m: not a 7z file"
     ]
    }
   ],
   "source": [
    "###  Anemometer averaging data  ###\n",
    "# ----------------------------------- #\n",
    "print('Anemometers in progress...')\n",
    "items_anem = np.arange(1,8)\n",
    "columns_anem=[1,2,3,6,7]\n",
    "time_stp_position_anem=-1 #Respect to columns_anem\n",
    "\n",
    "zip_folders=os.listdir(DATA_FOLDER)\n",
    "\n",
    "\n",
    "for zip_folder in zip_folders:\n",
    "    \n",
    "    print(\"In progress: {}\".format(zip_folder), end=\"\\r\")\n",
    "    \n",
    "    content=open(DATA_FOLDER+zip_folder ,\"rb\")\n",
    "    archive = py7zlib.Archive7z(content)\n",
    "    \n",
    "\n",
    "    for day_file in archive.getnames():\n",
    "        for i in items_anem:\n",
    "            if day_file.endswith(\"anem\" + str(i) +'_20Hz'+'.txt'):\n",
    "                data = archive.getmember(day_file).read().decode('utf-8')\n",
    "                f= open(AVERAGE_RES_FOLDER+\"guru99.txt\",\"w+\")\n",
    "                f.write(data)\n",
    "                f.close()\n",
    "                df_temp=pd.read_csv(AVERAGE_RES_FOLDER+name_file, header=None, comment=',', error_bad_lines=False,usecols=columns_anem, index_col=time_stp_position_anem)\n",
    "                df_temp.index=pd.to_datetime(df_temp.index,format='%d.%m.%Y %H:%M:%S',errors='coerce')\n",
    "                df_temp=df_temp.resample(time_int).mean()[:-1]\n",
    "                df_temp.to_csv(AVERAGE_RES_FOLDER+'anem'+ str(i)+'.csv', header=None, index=True, sep=',', mode='a')\n",
    "print('Anemometers OK') \n",
    "print('')"
   ]
  },
  {
   "cell_type": "code",
   "execution_count": 8,
   "metadata": {
    "scrolled": true
   },
   "outputs": [
    {
     "name": "stdout",
     "output_type": "stream",
     "text": [
      "Temperatures in progress...\n",
      "In progress: .DS_Store5_Mesures_MoTUS.7z\r"
     ]
    },
    {
     "ename": "FormatError",
     "evalue": "not a 7z file",
     "output_type": "error",
     "traceback": [
      "\u001b[0;31m---------------------------------------------------------------------------\u001b[0m",
      "\u001b[0;31mFormatError\u001b[0m                               Traceback (most recent call last)",
      "\u001b[0;32m<ipython-input-8-8d8211a620cf>\u001b[0m in \u001b[0;36m<module>\u001b[0;34m()\u001b[0m\n\u001b[1;32m     11\u001b[0m     \u001b[0mprint\u001b[0m\u001b[0;34m(\u001b[0m\u001b[0;34m\"In progress: {}\"\u001b[0m\u001b[0;34m.\u001b[0m\u001b[0mformat\u001b[0m\u001b[0;34m(\u001b[0m\u001b[0mzip_folder\u001b[0m\u001b[0;34m)\u001b[0m\u001b[0;34m,\u001b[0m \u001b[0mend\u001b[0m\u001b[0;34m=\u001b[0m\u001b[0;34m\"\\r\"\u001b[0m\u001b[0;34m)\u001b[0m\u001b[0;34m\u001b[0m\u001b[0m\n\u001b[1;32m     12\u001b[0m     \u001b[0mcontent\u001b[0m\u001b[0;34m=\u001b[0m\u001b[0mopen\u001b[0m\u001b[0;34m(\u001b[0m\u001b[0mDATA_FOLDER\u001b[0m\u001b[0;34m+\u001b[0m\u001b[0mzip_folder\u001b[0m \u001b[0;34m,\u001b[0m\u001b[0;34m\"rb\"\u001b[0m\u001b[0;34m)\u001b[0m\u001b[0;34m\u001b[0m\u001b[0m\n\u001b[0;32m---> 13\u001b[0;31m     \u001b[0marchive\u001b[0m \u001b[0;34m=\u001b[0m \u001b[0mpy7zlib\u001b[0m\u001b[0;34m.\u001b[0m\u001b[0mArchive7z\u001b[0m\u001b[0;34m(\u001b[0m\u001b[0mcontent\u001b[0m\u001b[0;34m)\u001b[0m\u001b[0;34m\u001b[0m\u001b[0m\n\u001b[0m\u001b[1;32m     14\u001b[0m     \u001b[0mk\u001b[0m\u001b[0;34m=\u001b[0m\u001b[0;36m0\u001b[0m\u001b[0;34m\u001b[0m\u001b[0m\n\u001b[1;32m     15\u001b[0m     \u001b[0;32mfor\u001b[0m \u001b[0mday_file\u001b[0m \u001b[0;32min\u001b[0m \u001b[0marchive\u001b[0m\u001b[0;34m.\u001b[0m\u001b[0mgetnames\u001b[0m\u001b[0;34m(\u001b[0m\u001b[0;34m)\u001b[0m\u001b[0;34m:\u001b[0m\u001b[0;34m\u001b[0m\u001b[0m\n",
      "\u001b[0;32m~/anaconda3/lib/python3.6/site-packages/py7zlib.py\u001b[0m in \u001b[0;36m__init__\u001b[0;34m(self, file, password)\u001b[0m\n\u001b[1;32m    786\u001b[0m         \u001b[0mself\u001b[0m\u001b[0;34m.\u001b[0m\u001b[0mheader\u001b[0m \u001b[0;34m=\u001b[0m \u001b[0mfile\u001b[0m\u001b[0;34m.\u001b[0m\u001b[0mread\u001b[0m\u001b[0;34m(\u001b[0m\u001b[0mlen\u001b[0m\u001b[0;34m(\u001b[0m\u001b[0mMAGIC_7Z\u001b[0m\u001b[0;34m)\u001b[0m\u001b[0;34m)\u001b[0m\u001b[0;34m\u001b[0m\u001b[0m\n\u001b[1;32m    787\u001b[0m         \u001b[0;32mif\u001b[0m \u001b[0mself\u001b[0m\u001b[0;34m.\u001b[0m\u001b[0mheader\u001b[0m \u001b[0;34m!=\u001b[0m \u001b[0mMAGIC_7Z\u001b[0m\u001b[0;34m:\u001b[0m\u001b[0;34m\u001b[0m\u001b[0m\n\u001b[0;32m--> 788\u001b[0;31m             \u001b[0;32mraise\u001b[0m \u001b[0mFormatError\u001b[0m\u001b[0;34m(\u001b[0m\u001b[0;34m'not a 7z file'\u001b[0m\u001b[0;34m)\u001b[0m\u001b[0;34m\u001b[0m\u001b[0m\n\u001b[0m\u001b[1;32m    789\u001b[0m         \u001b[0mself\u001b[0m\u001b[0;34m.\u001b[0m\u001b[0mversion\u001b[0m \u001b[0;34m=\u001b[0m \u001b[0munpack\u001b[0m\u001b[0;34m(\u001b[0m\u001b[0;34m'BB'\u001b[0m\u001b[0;34m,\u001b[0m \u001b[0mfile\u001b[0m\u001b[0;34m.\u001b[0m\u001b[0mread\u001b[0m\u001b[0;34m(\u001b[0m\u001b[0;36m2\u001b[0m\u001b[0;34m)\u001b[0m\u001b[0;34m)\u001b[0m\u001b[0;34m\u001b[0m\u001b[0m\n\u001b[1;32m    790\u001b[0m \u001b[0;34m\u001b[0m\u001b[0m\n",
      "\u001b[0;31mFormatError\u001b[0m: not a 7z file"
     ]
    }
   ],
   "source": [
    "###  Temperature averaging data  ###\n",
    "# ----------------------------------- #\n",
    "print('Temperatures in progress...')\n",
    "items_temp = [['Mat','North','East','South','West'],['Sensor Ground temperature [°C]','North temperature [°C]','East temperature [°C]','South temperature [°C]','West temperature [°C]']]\n",
    "columns_temp=[0,2]\n",
    "time_stp_position_temp=-1 #Respect to columns_anem\n",
    "\n",
    "zip_folders=os.listdir(DATA_FOLDER)\n",
    "\n",
    "for day,zip_folder in enumerate(zip_folders):\n",
    "    print(\"In progress: {}\".format(zip_folder), end=\"\\r\")\n",
    "    content=open(DATA_FOLDER+zip_folder ,\"rb\")\n",
    "    archive = py7zlib.Archive7z(content)\n",
    "    k=0\n",
    "    for day_file in archive.getnames():\n",
    "\n",
    "        for i in items_temp[0]:\n",
    "\n",
    "            if day_file.endswith('Temp'+i+'.txt'):\n",
    "                \n",
    "                data = archive.getmember(day_file).read().decode('utf-8')\n",
    "                f= open(AVERAGE_RES_FOLDER+\"guru99.txt\",\"w+\")\n",
    "                f.write(data)\n",
    "                f.close()\n",
    "                \n",
    "                df_temp=pd.read_csv(AVERAGE_RES_FOLDER+name_file, header=None, comment=',', error_bad_lines=False,usecols=columns_temp, index_col=time_stp_position_temp)\n",
    "                df_temp.index=pd.to_datetime(df_temp.index,format='%d.%m.%Y %H:%M:%S',errors='coerce')\n",
    "                df_temp=df_temp.resample(time_int).mean()\n",
    "                df_temp.columns = [items_temp[1][k]]\n",
    "                if k==0:\n",
    "                    df_tot=df_temp\n",
    "                else:\n",
    "                    df_tot=df_tot.merge(df_temp,how='left', left_index=True,right_index=True)\n",
    "                k=k+1\n",
    "    if day==0:\n",
    "        df_tot.to_csv(AVERAGE_RES_FOLDER+'surf_temp'+'.csv', index=True, sep=',', mode='a')\n",
    "    else:\n",
    "        df_tot.to_csv(AVERAGE_RES_FOLDER+'surf_temp'+'.csv', index=True,header=None,sep=',', mode='a')\n",
    "print('Temperatures OK')\n",
    "print('')"
   ]
  },
  {
   "cell_type": "code",
   "execution_count": 10,
   "metadata": {
    "scrolled": true
   },
   "outputs": [
    {
     "name": "stdout",
     "output_type": "stream",
     "text": [
      "Radiometer in progress...\n",
      "In progress: .DS_Store5_Mesures_MoTUS.7z\r"
     ]
    },
    {
     "ename": "FormatError",
     "evalue": "not a 7z file",
     "output_type": "error",
     "traceback": [
      "\u001b[0;31m---------------------------------------------------------------------------\u001b[0m",
      "\u001b[0;31mFormatError\u001b[0m                               Traceback (most recent call last)",
      "\u001b[0;32m<ipython-input-10-a442f0cdda0d>\u001b[0m in \u001b[0;36m<module>\u001b[0;34m()\u001b[0m\n\u001b[1;32m     11\u001b[0m \u001b[0;34m\u001b[0m\u001b[0m\n\u001b[1;32m     12\u001b[0m     \u001b[0mcontent\u001b[0m\u001b[0;34m=\u001b[0m\u001b[0mopen\u001b[0m\u001b[0;34m(\u001b[0m\u001b[0mDATA_FOLDER\u001b[0m\u001b[0;34m+\u001b[0m\u001b[0mzip_folder\u001b[0m \u001b[0;34m,\u001b[0m\u001b[0;34m\"rb\"\u001b[0m\u001b[0;34m)\u001b[0m\u001b[0;34m\u001b[0m\u001b[0m\n\u001b[0;32m---> 13\u001b[0;31m     \u001b[0marchive\u001b[0m \u001b[0;34m=\u001b[0m \u001b[0mpy7zlib\u001b[0m\u001b[0;34m.\u001b[0m\u001b[0mArchive7z\u001b[0m\u001b[0;34m(\u001b[0m\u001b[0mcontent\u001b[0m\u001b[0;34m)\u001b[0m\u001b[0;34m\u001b[0m\u001b[0m\n\u001b[0m\u001b[1;32m     14\u001b[0m \u001b[0;34m\u001b[0m\u001b[0m\n\u001b[1;32m     15\u001b[0m     \u001b[0;32mfor\u001b[0m \u001b[0mday_file\u001b[0m \u001b[0;32min\u001b[0m \u001b[0marchive\u001b[0m\u001b[0;34m.\u001b[0m\u001b[0mgetnames\u001b[0m\u001b[0;34m(\u001b[0m\u001b[0;34m)\u001b[0m\u001b[0;34m:\u001b[0m\u001b[0;34m\u001b[0m\u001b[0m\n",
      "\u001b[0;32m~/anaconda3/lib/python3.6/site-packages/py7zlib.py\u001b[0m in \u001b[0;36m__init__\u001b[0;34m(self, file, password)\u001b[0m\n\u001b[1;32m    786\u001b[0m         \u001b[0mself\u001b[0m\u001b[0;34m.\u001b[0m\u001b[0mheader\u001b[0m \u001b[0;34m=\u001b[0m \u001b[0mfile\u001b[0m\u001b[0;34m.\u001b[0m\u001b[0mread\u001b[0m\u001b[0;34m(\u001b[0m\u001b[0mlen\u001b[0m\u001b[0;34m(\u001b[0m\u001b[0mMAGIC_7Z\u001b[0m\u001b[0;34m)\u001b[0m\u001b[0;34m)\u001b[0m\u001b[0;34m\u001b[0m\u001b[0m\n\u001b[1;32m    787\u001b[0m         \u001b[0;32mif\u001b[0m \u001b[0mself\u001b[0m\u001b[0;34m.\u001b[0m\u001b[0mheader\u001b[0m \u001b[0;34m!=\u001b[0m \u001b[0mMAGIC_7Z\u001b[0m\u001b[0;34m:\u001b[0m\u001b[0;34m\u001b[0m\u001b[0m\n\u001b[0;32m--> 788\u001b[0;31m             \u001b[0;32mraise\u001b[0m \u001b[0mFormatError\u001b[0m\u001b[0;34m(\u001b[0m\u001b[0;34m'not a 7z file'\u001b[0m\u001b[0;34m)\u001b[0m\u001b[0;34m\u001b[0m\u001b[0m\n\u001b[0m\u001b[1;32m    789\u001b[0m         \u001b[0mself\u001b[0m\u001b[0;34m.\u001b[0m\u001b[0mversion\u001b[0m \u001b[0;34m=\u001b[0m \u001b[0munpack\u001b[0m\u001b[0;34m(\u001b[0m\u001b[0;34m'BB'\u001b[0m\u001b[0;34m,\u001b[0m \u001b[0mfile\u001b[0m\u001b[0;34m.\u001b[0m\u001b[0mread\u001b[0m\u001b[0;34m(\u001b[0m\u001b[0;36m2\u001b[0m\u001b[0;34m)\u001b[0m\u001b[0;34m)\u001b[0m\u001b[0;34m\u001b[0m\u001b[0m\n\u001b[1;32m    790\u001b[0m \u001b[0;34m\u001b[0m\u001b[0m\n",
      "\u001b[0;31mFormatError\u001b[0m: not a 7z file"
     ]
    }
   ],
   "source": [
    "###  Radiometer averaging data  ###\n",
    "# ----------------------------------- #\n",
    "print('Radiometer in progress...')\n",
    "columns_radio=list(range(10))+[11]\n",
    "time_stp_position_temp=-1 #Respect to columns_radio\n",
    "items_radio=['Pyranometer Upper Irradiance [W/m$^2$]','Pyranometer Lower Irradiance [W/m$^2$]',\\\n",
    "             'Pyrgeometer Upper Irradiance [W/m$^2$]','Pyrgeometer Lower Irradiance [W/m$^2$]',\\\n",
    "             'Albedo [-]','Net Solar radiation [W/m$^2$]','Net (total) radiation [W/m$^2$]',\\\n",
    "             'Net Far Infrared radiation [W/m$^2$]','Sky temperature [°C]','Radiometer Ground temperature [°C]']\n",
    "\n",
    "zip_folders=os.listdir(DATA_FOLDER)\n",
    "for day,zip_folder in enumerate(zip_folders):\n",
    "    print(\"In progress: {}\".format(zip_folder), end=\"\\r\")\n",
    "    \n",
    "    content=open(DATA_FOLDER+zip_folder ,\"rb\")\n",
    "    archive = py7zlib.Archive7z(content)\n",
    "    \n",
    "    for day_file in archive.getnames():\n",
    "        if day_file.endswith('radiometre'+'.txt'):\n",
    "            \n",
    "            data = archive.getmember(day_file).read().decode('utf-8')\n",
    "            f= open(AVERAGE_RES_FOLDER+\"guru99.txt\",\"w+\")\n",
    "            f.write(data)\n",
    "            f.close()\n",
    "                \n",
    "            df_temp=pd.read_csv(AVERAGE_RES_FOLDER+name_file, header=None, comment=',', error_bad_lines=False,usecols=columns_radio, index_col=time_stp_position_temp)\n",
    "            df_temp.index=pd.to_datetime(df_temp.index,format='%d.%m.%Y %H:%M:%S',errors='coerce')\n",
    "            df_temp=df_temp.resample(time_int).mean()\n",
    "            df_temp.columns = items_radio\n",
    "            if day==0:\n",
    "                df_temp.to_csv(AVERAGE_RES_FOLDER+'radiometer'+'.csv', index=True, sep=',', mode='a')\n",
    "            else:\n",
    "                df_temp.to_csv(AVERAGE_RES_FOLDER+'radiometer'+'.csv', index=True,header=None, sep=',', mode='a')\n",
    "\n",
    "print('Temperatures OK')\n",
    "print('JOB Finished')"
   ]
  },
  {
   "cell_type": "code",
   "execution_count": null,
   "metadata": {},
   "outputs": [],
   "source": []
  }
 ],
 "metadata": {
  "kernelspec": {
   "display_name": "Python [default]",
   "language": "python",
   "name": "python3"
  },
  "language_info": {
   "codemirror_mode": {
    "name": "ipython",
    "version": 3
   },
   "file_extension": ".py",
   "mimetype": "text/x-python",
   "name": "python",
   "nbconvert_exporter": "python",
   "pygments_lexer": "ipython3",
   "version": "3.6.5"
  }
 },
 "nbformat": 4,
 "nbformat_minor": 2
}
