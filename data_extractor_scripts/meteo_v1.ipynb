{
 "cells": [
  {
   "cell_type": "markdown",
   "metadata": {},
   "source": [
    "Script prepared by Dr. Dasaraden Mauree                 \n",
    "Contact: EPFL                                           \n",
    "  dasaraden.mauree@epfl.ch / dasaraden.mauree@gmail.com  \n",
    "                                                         \n",
    "   use this script to read meteo station data from MoTUS,   \n",
    "   calculate mean data.   "
   ]
  },
  {
   "cell_type": "code",
   "execution_count": 1,
   "metadata": {
    "collapsed": true
   },
   "outputs": [],
   "source": [
    "from IPython.core.interactiveshell import InteractiveShell\n",
    "InteractiveShell.ast_node_interactivity = \"all\""
   ]
  },
  {
   "cell_type": "code",
   "execution_count": 6,
   "metadata": {
    "collapsed": true,
    "scrolled": true
   },
   "outputs": [],
   "source": [
    "###########################################################\n",
    "# Script prepared by Dr. Dasaraden Mauree                 #\n",
    "#  Contact: EPFL                                          # \n",
    "#  dasaraden.mauree@epfl.ch / dasaraden.mauree@gmail.com  #\n",
    "#                                                         #\n",
    "#   use this script to read anemometer data from MoTUS,   #\n",
    "#   calculate hourly mean data and to sort out data in    #\n",
    "#   ascending order.                                      #\n",
    "###########################################################\n",
    "\n",
    "#importing necessary packages\n",
    "\n",
    "import glob\n",
    "import pandas as pd\n",
    "import numpy as np\n",
    "import math\n",
    "from datetime import datetime, timedelta\n",
    "import re\n",
    "\n",
    "\n",
    "path =r'data' # use your path\n",
    "#allFiles = glob.glob(path + \"/*anem*\")\n",
    "j = pd.DataFrame()\n",
    "hourlymean = pd.DataFrame()\n",
    "df=pd.DataFrame()\n",
    "eachday=pd.DataFrame()\n",
    "result=pd.DataFrame()\n",
    "\n",
    "#Declaring all variables \n",
    "press, rh, temp,dew, time=[],[],[],[],[]\n",
    "\n",
    "#Opening file and saving in array\n",
    "allFiles = glob.glob(path + \"/*meteo.txt\") \n",
    "    \n",
    "for file in allFiles:\n",
    "        \n",
    "    fil=pd.read_csv(file, header=None, comment=',', error_bad_lines=False) #for20hz anem\n",
    "    fileArray=np.array(fil)\n",
    "              \n",
    "    for k,line in enumerate(fileArray):\n",
    "    \n",
    "            #Reading time step\n",
    "        timeStr=line[-1]\n",
    "        contime=datetime.strptime(' '.join([timeStr]), '%d.%m.%Y %H:%M:%S')\n",
    "          \n",
    "            #storing in individual array\n",
    "        time.append(contime)\n",
    "        press.append(float(line[0]))\n",
    "        rh.append(float(line[1]))\n",
    "        temp.append(float(line[2]))\n",
    "        dew.append(float(line[3]))\n",
    "            \n",
    "    j['datetime']=pd.to_datetime(time)\n",
    "    j=j.set_index('datetime')\n",
    "    j['Air pressure (hPa)']=press\n",
    "    j['Relative Humidity (%)']=rh\n",
    "    j['Air Temperature (°C)']=temp\n",
    "    j['Dew point (°C)']=dew\n",
    "    \n",
    "    hourlymean=j.resample('H').mean()\n",
    "    hourlymean=hourlymean[:-1]        \n",
    "    hourlymean=hourlymean.round(1)\n",
    "    hourlymean.press = hourlymean.astype(int)\n",
    "\n",
    "    press, rh, temp,dew, time=[],[],[],[],[]\n",
    "    j = pd.DataFrame()\n",
    "    eachday=eachday.append(hourlymean)\n",
    "                   \n",
    "result = eachday.sort_index(axis=0, ascending=True)\n",
    "result.to_csv('meteo.txt', header=True, index=True, sep=' ', mode='a')\n",
    "hourlymean=pd.DataFrame()\n",
    "#result=pd.DataFrame()"
   ]
  }
 ],
 "metadata": {
  "anaconda-cloud": {},
  "kernelspec": {
   "display_name": "Python [default]",
   "language": "python",
   "name": "python3"
  },
  "language_info": {
   "codemirror_mode": {
    "name": "ipython",
    "version": 3
   },
   "file_extension": ".py",
   "mimetype": "text/x-python",
   "name": "python",
   "nbconvert_exporter": "python",
   "pygments_lexer": "ipython3",
   "version": "3.5.2"
  }
 },
 "nbformat": 4,
 "nbformat_minor": 1
}
