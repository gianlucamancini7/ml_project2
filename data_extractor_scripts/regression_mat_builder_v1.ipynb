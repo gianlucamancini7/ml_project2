{
 "cells": [
  {
   "cell_type": "code",
   "execution_count": 1,
   "metadata": {},
   "outputs": [],
   "source": [
    "#Imports\n",
    "import pandas as pd\n",
    "import numpy as np\n",
    "from IPython.core import display as ICD\n",
    "import glob\n",
    "import os\n",
    "pd.set_option('display.max_columns', 100)"
   ]
  },
  {
   "cell_type": "code",
   "execution_count": 2,
   "metadata": {},
   "outputs": [],
   "source": [
    "DATA_FOLDER = r'average_data/'"
   ]
  },
  {
   "cell_type": "code",
   "execution_count": 3,
   "metadata": {},
   "outputs": [],
   "source": [
    "all_anem=glob.glob(DATA_FOLDER + \"anem*\")\n",
    "mast_anem=all_anem[:6]\n",
    "top_anem=all_anem[6]"
   ]
  },
  {
   "cell_type": "code",
   "execution_count": 4,
   "metadata": {},
   "outputs": [],
   "source": [
    "h=np.arange(1.5,22,4)\n",
    "df_list=[]\n",
    "for idx,i in enumerate(mast_anem):\n",
    "    df_temp=pd.read_csv(i, header=None, index_col=0, names=['u','direction','z','sonic_temp'])\n",
    "    df_temp['h']=h[idx]\n",
    "    df_list.append(df_temp)\n",
    "mast_anem_df = pd.concat(df_list)\n",
    "#mast_anem_df.head()"
   ]
  },
  {
   "cell_type": "code",
   "execution_count": 5,
   "metadata": {},
   "outputs": [],
   "source": [
    "rad_df = pd.read_csv(DATA_FOLDER+'radiometer.csv',index_col=0)\n",
    "temp_df = pd.read_csv(DATA_FOLDER+'surf_temp.csv',index_col=0)\n",
    "top_anem_df = pd.read_csv(top_anem,index_col=0,names=['u_top','direction_top','z_top','sonic_temp_top'])"
   ]
  },
  {
   "cell_type": "code",
   "execution_count": 6,
   "metadata": {},
   "outputs": [],
   "source": [
    "time_var_df = top_anem_df.merge(rad_df,how='left', left_index=True,right_index=True)\n",
    "time_var_df = time_var_df.merge(temp_df,how='left', left_index=True,right_index=True)\n",
    "#time_var_df.head()"
   ]
  },
  {
   "cell_type": "code",
   "execution_count": 7,
   "metadata": {},
   "outputs": [],
   "source": [
    "tot_df=mast_anem_df.merge(time_var_df,how='left', left_index=True,right_index=True)\n",
    "tot_df = tot_df.dropna(axis=0, how='any')\n",
    "tot_df = tot_df.drop(columns=['Albedo [-]'])\n",
    "#tot_df"
   ]
  },
  {
   "cell_type": "code",
   "execution_count": 8,
   "metadata": {},
   "outputs": [],
   "source": [
    "tot_df.to_csv('regression_mat'+'.csv', index=True, sep=',', mode='a')"
   ]
  }
 ],
 "metadata": {
  "kernelspec": {
   "display_name": "Python 3",
   "language": "python",
   "name": "python3"
  },
  "language_info": {
   "codemirror_mode": {
    "name": "ipython",
    "version": 3
   },
   "file_extension": ".py",
   "mimetype": "text/x-python",
   "name": "python",
   "nbconvert_exporter": "python",
   "pygments_lexer": "ipython3",
   "version": "3.6.5"
  }
 },
 "nbformat": 4,
 "nbformat_minor": 2
}
