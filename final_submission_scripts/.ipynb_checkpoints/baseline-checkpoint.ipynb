{
 "cells": [
  {
   "cell_type": "code",
   "execution_count": null,
   "metadata": {},
   "outputs": [],
   "source": [
    "import matplotlib\n",
    "matplotlib.use('Agg') # Must be before importing matplotlib.pyplot or pylab!\n",
    "import matplotlib.pyplot as plt\n",
    "import pandas as pd\n",
    "import numpy as np\n",
    "pd.set_option('display.max_columns', 100)"
   ]
  },
  {
   "cell_type": "code",
   "execution_count": null,
   "metadata": {},
   "outputs": [],
   "source": [
    "# import scikit learn packages\n",
    "from sklearn.linear_model import Ridge\n",
    "from sklearn.model_selection import train_test_split\n",
    "from sklearn.metrics import mean_squared_error\n",
    "from sklearn.metrics import r2_score\n",
    "from sklearn.preprocessing import StandardScaler\n",
    "\n",
    "from sklearn.pipeline import make_pipeline"
   ]
  },
  {
   "cell_type": "code",
   "execution_count": null,
   "metadata": {},
   "outputs": [],
   "source": [
    "from helpers import *"
   ]
  },
  {
   "cell_type": "markdown",
   "metadata": {},
   "source": [
    "**Settings**\n",
    "\n",
    "*Boleans*\n",
    "- ``seasonwise``: If set to ``True`` perform 4 different regression splitting the dataset season by season. Otherwise perform one single regression.\n",
    "- ``feature_selection``: If set to ``True`` filter only season selected by random forest features selection (80% importance, 13 out of 20 features). Otherwise utilise all the 20 features.\n",
    "- ``output_y_only``: If set to ``True`` perform regression considering only ``u_y`` as output. Otherwise consider speed in both $x$ and $y$.\n",
    "\n",
    "*Parameters*\n",
    "- ``rnd_state``: Seed state used in the splitting of the dataset. Default in all algorithms is $50$.\n",
    "- ``alphas``: Possible choice of regularization parameter optimized by the ridge regression. Default is `` np.logspace(-10,5,200)``.\n",
    "- ``deg``: Degree of the polynomial expansion. Default is $3$.\n",
    "- ``train_dim``,``test_dim``,``validate_dim``: Dimension of the splitting. Default are respectively $0.6$, $0.2$ and $0.2$. "
   ]
  },
  {
   "cell_type": "code",
   "execution_count": null,
   "metadata": {},
   "outputs": [],
   "source": [
    "seasonwise = True\n",
    "feature_selection = False\n",
    "output_y_only = True\n",
    "rnd_state=50\n",
    "alphas = np.array([1e-4,1e-4])\n",
    "deg = 2\n",
    "train_dim = 0.01\n",
    "test_dim = 0.39\n",
    "validate_dim = 0.6\n",
    "\n",
    "print('-seasonwise: ',seasonwise,'    -feature_selection: ',feature_selection,'    -output_y_only: ',output_y_only)\n",
    "\n",
    "seasons_list = ['spring','summer','autumn','winter']\n",
    "\n",
    "consistency_splitting(train_dim, test_dim ,validate_dim)\n",
    "\n",
    "if output_y_only:\n",
    "    alphas = [alphas[0]]\n",
    "\n",
    "model = make_pipeline(StandardScaler(), Ridge(alphas))\n",
    "print(model)\n",
    "print('')"
   ]
  },
  {
   "cell_type": "code",
   "execution_count": null,
   "metadata": {},
   "outputs": [],
   "source": [
    "if seasonwise==False:\n",
    "    feature_selection = False"
   ]
  },
  {
   "cell_type": "markdown",
   "metadata": {},
   "source": [
    "Paths of the scripts. "
   ]
  },
  {
   "cell_type": "code",
   "execution_count": null,
   "metadata": {},
   "outputs": [],
   "source": [
    "#Local\n",
    "DATA_FOLDER = r'../data_extractor_scripts/'\n",
    "RESULTS_FOLDER = r'./'\n",
    "#Server\n",
    "# DATA_FOLDER = '~/scripts/'\n",
    "# RESULTS_FOLDER = '/raid/motus/results/ridgeregression/'"
   ]
  },
  {
   "cell_type": "code",
   "execution_count": null,
   "metadata": {},
   "outputs": [],
   "source": [
    "tot_df=pd.read_csv(DATA_FOLDER+'regression_mat_year.csv',index_col=0)"
   ]
  },
  {
   "cell_type": "code",
   "execution_count": null,
   "metadata": {},
   "outputs": [],
   "source": [
    "if feature_selection:\n",
    "    df_features_sel = pd.read_csv('feature_for_ridge.txt',header=None)\n",
    "    df_features_sel = df_features_sel.drop(df_features_sel.columns[0], axis=1)\n",
    "    lst_features_sel=np.array(df_features_sel).tolist()"
   ]
  },
  {
   "cell_type": "markdown",
   "metadata": {},
   "source": [
    "Transform absolute value and direction in vector components"
   ]
  },
  {
   "cell_type": "code",
   "execution_count": null,
   "metadata": {},
   "outputs": [],
   "source": [
    "tot_df = vectorize_wind_speed(tot_df)"
   ]
  },
  {
   "cell_type": "markdown",
   "metadata": {},
   "source": [
    "Split season by season"
   ]
  },
  {
   "cell_type": "code",
   "execution_count": null,
   "metadata": {},
   "outputs": [],
   "source": [
    "if seasonwise:\n",
    "    df_spring, df_summer, df_autumn, df_winter = season_splitter(tot_df)\n",
    "    season_dfs=[df_spring, df_summer, df_autumn, df_winter]\n",
    "    \n",
    "else:\n",
    "    season_dfs=[tot_df]"
   ]
  },
  {
   "cell_type": "code",
   "execution_count": null,
   "metadata": {},
   "outputs": [],
   "source": [
    "#Empty dataframes\n",
    "mses_results=[]\n",
    "r_2s_results=[]\n",
    "mag_avg_pred_results=[]\n",
    "mag_avg_true_results=[]"
   ]
  },
  {
   "cell_type": "code",
   "execution_count": null,
   "metadata": {
    "scrolled": true
   },
   "outputs": [],
   "source": [
    "for index,df in enumerate(season_dfs):\n",
    "    if len(season_dfs)>2:\n",
    "        names=seasons_list\n",
    "    else:\n",
    "        names=['allyear']\n",
    "    \n",
    "    #Printing progress\n",
    "    print('Period under optimization: ',names[index])\n",
    "    \n",
    "    #Dividing X and y\n",
    "    X = df.drop(columns=['u_x', 'u_y','u_z'])\n",
    "    if feature_selection:\n",
    "        print('Features considered: ',lst_features_sel[index])\n",
    "        print('')\n",
    "        X=np.array(X[lst_features_sel[index]])\n",
    "        h_position=lst_features_sel[index].index('h')\n",
    "    else:\n",
    "        X=np.array(X)\n",
    "    \n",
    "    #Chose 1D or 2D output\n",
    "    if output_y_only:\n",
    "        y = np.array(df['u_y']) \n",
    "    else:\n",
    "        y = np.array(df[['u_x', 'u_y']])\n",
    "    \n",
    "    \n",
    "    #Splitting Matrices\n",
    "    X_tr, X_temp, y_tr, y_temp = train_test_split(X, y, test_size=test_dim+validate_dim, random_state=rnd_state)\n",
    "    X_te, X_va, y_te, y_va = train_test_split(X_temp, y_temp, test_size=validate_dim/(test_dim+validate_dim), random_state=rnd_state)\n",
    "    X_temp = None\n",
    "    y_temp = None\n",
    "    \n",
    "    #Make a list with differet heights\n",
    "    if feature_selection:\n",
    "        X_te_hs, y_te_hs = split_hs_test(X_te,y_te,h_pos=h_position)\n",
    "    else:\n",
    "        X_te_hs, y_te_hs = split_hs_test(X_te,y_te)\n",
    "\n",
    "    #Fit the model \n",
    "    model.fit(X_tr,y_tr)\n",
    "    \n",
    "    y_pred_hs=[]\n",
    "    mag_avg_pred=[]\n",
    "    #Computing and saving the predictions and the average magnitude\n",
    "    for hs in X_te_hs:\n",
    "        ans=model.predict(hs)\n",
    "        y_pred_hs.append(ans)\n",
    "        \n",
    "        #ans=np.sqrt(np.sum(np.square(ans),axis=1)).mean()\n",
    "        ans=magnitude_avg(ans)\n",
    "        #print(ans.shape)\n",
    "        mag_avg_pred.append(ans)\n",
    "    mag_avg_pred.append(names[index])\n",
    "    mag_avg_pred_results.append(mag_avg_pred)\n",
    "\n",
    "    \n",
    "    mses=[]\n",
    "    mag_avg_true=[]\n",
    "    #Computing and saving r_2 metric\n",
    "    for idx,i in enumerate(y_pred_hs):\n",
    "        mses.append(mean_squared_error(y_te_hs[idx],i))\n",
    "        ans=y_te_hs[idx]\n",
    "        #ans=np.sqrt(np.sum(np.square(ans),axis=1)).mean()\n",
    "        ans=magnitude_avg(ans)\n",
    "        mag_avg_true.append(ans)\n",
    "    mses.append(names[index])\n",
    "    mag_avg_true.append(names[index])\n",
    "    mses_results.append(mses)\n",
    "    mag_avg_true_results.append(mag_avg_true)\n",
    "    \n",
    "    r_2s=[]\n",
    "    #Plot and save graphs. Save or show can be chosen in bolean save.\n",
    "    for idx,i in enumerate(y_pred_hs):\n",
    "        r_2s.append(r2_score(y_te_hs[idx],i))\n",
    "    r_2s.append(names[index])\n",
    "    r_2s_results.append(r_2s)\n",
    "    \n",
    "    if output_y_only:\n",
    "        plot_ys_single(y_pred_hs,y_te_hs,RESULTS_FOLDER+'/images/',save=True,name=(names[index]+'-'))\n",
    "    else:\n",
    "        plot_ys(y_pred_hs,y_te_hs,RESULTS_FOLDER+'/images/',save=True,name=(names[index]+'-'))\n",
    "    "
   ]
  },
  {
   "cell_type": "markdown",
   "metadata": {},
   "source": [
    "Save results in .txt in the target results folder. "
   ]
  },
  {
   "cell_type": "code",
   "execution_count": null,
   "metadata": {},
   "outputs": [],
   "source": [
    "mses_results_df=pd.DataFrame(mses_results)\n",
    "mses_results_df.to_csv(RESULTS_FOLDER+'mses_results.txt',header=None, sep=',', mode='a')"
   ]
  },
  {
   "cell_type": "code",
   "execution_count": null,
   "metadata": {},
   "outputs": [],
   "source": [
    "r_2s_results_df=pd.DataFrame(r_2s_results)\n",
    "r_2s_results_df.to_csv(RESULTS_FOLDER+'r_2s_results.txt',header=None, sep=',', mode='a')"
   ]
  },
  {
   "cell_type": "code",
   "execution_count": null,
   "metadata": {},
   "outputs": [],
   "source": [
    "pd.DataFrame(mag_avg_pred_results).to_csv(RESULTS_FOLDER+'magnitude_average_pred.txt',header=None, sep=',', mode='a')\n",
    "pd.DataFrame(mag_avg_true_results).to_csv(RESULTS_FOLDER+'magnitude_average_true.txt',header=None, sep=',', mode='a')"
   ]
  },
  {
   "cell_type": "code",
   "execution_count": null,
   "metadata": {},
   "outputs": [],
   "source": [
    "print('JOB Finished')"
   ]
  },
  {
   "cell_type": "code",
   "execution_count": null,
   "metadata": {},
   "outputs": [],
   "source": []
  }
 ],
 "metadata": {
  "kernelspec": {
   "display_name": "Python 3",
   "language": "python",
   "name": "python3"
  },
  "language_info": {
   "codemirror_mode": {
    "name": "ipython",
    "version": 3
   },
   "file_extension": ".py",
   "mimetype": "text/x-python",
   "name": "python",
   "nbconvert_exporter": "python",
   "pygments_lexer": "ipython3",
   "version": "3.6.5"
  }
 },
 "nbformat": 4,
 "nbformat_minor": 2
}
