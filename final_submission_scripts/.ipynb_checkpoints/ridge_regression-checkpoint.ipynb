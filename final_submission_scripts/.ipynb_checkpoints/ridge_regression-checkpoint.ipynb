{
 "cells": [
  {
   "cell_type": "code",
   "execution_count": null,
   "metadata": {},
   "outputs": [],
   "source": [
    "import pandas as pd\n",
    "import numpy as np\n",
    "from IPython.core import display as ICD\n",
    "import seaborn as sns\n",
    "import glob\n",
    "import scipy\n",
    "import os\n",
    "pd.set_option('display.max_columns', 100)"
   ]
  },
  {
   "cell_type": "code",
   "execution_count": null,
   "metadata": {},
   "outputs": [],
   "source": [
    "# import scikit learn packages\n",
    "\n",
    "from sklearn.linear_model import Ridge\n",
    "from sklearn.model_selection import cross_val_predict\n",
    "from sklearn.model_selection import cross_val_score\n",
    "from sklearn.model_selection import train_test_split\n",
    "from sklearn.metrics import mean_squared_error\n",
    "from sklearn.metrics import r2_score\n",
    "from sklearn.linear_model import RidgeCV\n",
    "from sklearn.preprocessing import StandardScaler\n",
    "from sklearn.preprocessing import PolynomialFeatures\n",
    "from sklearn.decomposition import PCA\n",
    "\n",
    "from sklearn.pipeline import make_pipeline"
   ]
  },
  {
   "cell_type": "code",
   "execution_count": null,
   "metadata": {},
   "outputs": [],
   "source": [
    "from helpers import *"
   ]
  },
  {
   "cell_type": "code",
   "execution_count": null,
   "metadata": {},
   "outputs": [],
   "source": [
    "#Local\n",
    "DATA_FOLDER = r'../data_extractor_scripts/'\n",
    "RESULTS_FOLDER = r'./'\n",
    "#Server\n",
    "# DATA_FOLDER = '~/scripts/'\n",
    "# RESULTS_FOLDER = '/raid/motus/results/ridgeregression/'"
   ]
  },
  {
   "cell_type": "code",
   "execution_count": null,
   "metadata": {},
   "outputs": [],
   "source": [
    "tot_df=pd.read_csv(DATA_FOLDER+'regression_mat_year.csv',index_col=0)"
   ]
  },
  {
   "cell_type": "markdown",
   "metadata": {},
   "source": [
    "Transform absolute value and direction in vector components"
   ]
  },
  {
   "cell_type": "code",
   "execution_count": null,
   "metadata": {},
   "outputs": [],
   "source": [
    "tot_df = vectorize_wind_speed(tot_df)"
   ]
  },
  {
   "cell_type": "markdown",
   "metadata": {},
   "source": [
    "Split train and test and take columns considered"
   ]
  },
  {
   "cell_type": "code",
   "execution_count": null,
   "metadata": {},
   "outputs": [],
   "source": [
    "X = np.array(tot_df.drop(columns=['u_x', 'u_y','u_z']))\n",
    "y = np.array(tot_df[['u_x', 'u_y']])"
   ]
  },
  {
   "cell_type": "code",
   "execution_count": null,
   "metadata": {
    "scrolled": true
   },
   "outputs": [],
   "source": [
    "X_tr, X_te, y_tr, y_te = train_test_split(X, y, test_size=0.95, random_state=42)"
   ]
  },
  {
   "cell_type": "markdown",
   "metadata": {},
   "source": [
    "Split the test for different heighs"
   ]
  },
  {
   "cell_type": "code",
   "execution_count": null,
   "metadata": {},
   "outputs": [],
   "source": [
    "X_te_hs, y_te_hs = split_hs_test(X_te,y_te)"
   ]
  },
  {
   "cell_type": "markdown",
   "metadata": {},
   "source": [
    "Regression"
   ]
  },
  {
   "cell_type": "code",
   "execution_count": null,
   "metadata": {},
   "outputs": [],
   "source": [
    "alphas=np.logspace(-10,5,3)\n",
    "degrees=np.arange(1,3)\n",
    "\n",
    "mses_results=[]\n",
    "r_2s_results=[]\n",
    "mag_avg_pred_results=[]\n",
    "mag_avg_true_results=[]\n",
    "for deg in degrees:\n",
    "    print('Degree in processing: ',deg)\n",
    "    #define pipeline\n",
    "    model = make_pipeline(StandardScaler(),PCA(n_components=12),PolynomialFeatures(deg,include_bias=True), RidgeCV(alphas))\n",
    "\n",
    "    model.fit(X_tr,y_tr)\n",
    "    y_pred_hs=[]\n",
    "    mag_avg_pred=[]\n",
    "    for hs in X_te_hs:\n",
    "        ans=model.predict(hs)\n",
    "        y_pred_hs.append(ans)\n",
    "        ans=np.sqrt(ans[:,0]**2+ans[:,1]**2).mean()\n",
    "        mag_avg_pred.append(ans)\n",
    "    mag_avg_pred.append(deg)\n",
    "    mag_avg_pred_results.append(mag_avg_pred)\n",
    "    #pd.DataFrame(mag_avg_pred).to_csv(RESULTS_FOLDER+'magnitude_average_pred'+'str(deg)'+'.txt',header=None, sep=',', mode='a')\n",
    "\n",
    "    \n",
    "    mses=[]\n",
    "    mag_avg_true=[]\n",
    "    for idx,i in enumerate(y_pred_hs):\n",
    "        mses.append(mean_squared_error(y_te_hs[idx],i))\n",
    "        ans=y_te_hs[idx]\n",
    "        ans=np.sqrt(ans[:,0]**2+ans[:,1]**2).mean()\n",
    "        mag_avg_true.append(ans)\n",
    "    mses.append(deg)\n",
    "    mag_avg_true.append(deg)\n",
    "    mses_results.append(mses)\n",
    "    mag_avg_true_results.append(mag_avg_true)\n",
    "    #pd.DataFrame(mses).to_csv(RESULTS_FOLDER+'mses_results.txt',header=None, sep=',', mode='a')\n",
    "    #pd.DataFrame(mag_avg_true).to_csv(RESULTS_FOLDER+'magnitude_average_true.txt',header=None, sep=',', mode='a')\n",
    "    \n",
    "    r_2s=[]\n",
    "    for idx,i in enumerate(y_pred_hs):\n",
    "        r_2s.append(r2_score(y_te_hs[idx],i))\n",
    "    r_2s.append(deg)\n",
    "    #pd.DataFrame(r_2s).to_csv(RESULTS_FOLDER+'r_2s_results.txt',header=None, sep=',', mode='a')\n",
    "    r_2s_results.append(r_2s)\n",
    "    \n",
    "    plot_ys(y_pred_hs,y_te_hs,RESULTS_FOLDER+'/images/',save=True,name=('deg'+str(deg)+'-'))"
   ]
  },
  {
   "cell_type": "code",
   "execution_count": null,
   "metadata": {},
   "outputs": [],
   "source": [
    "mses_results_df=pd.DataFrame(mses_results)\n",
    "mses_results_df.to_csv(RESULTS_FOLDER+'mses_results.txt',header=None, sep=',', mode='a')"
   ]
  },
  {
   "cell_type": "code",
   "execution_count": null,
   "metadata": {},
   "outputs": [],
   "source": [
    "r_2s_results_df=pd.DataFrame(r_2s_results)\n",
    "r_2s_results_df.to_csv(RESULTS_FOLDER+'r_2s_results.txt',header=None, sep=',', mode='a')"
   ]
  },
  {
   "cell_type": "code",
   "execution_count": null,
   "metadata": {},
   "outputs": [],
   "source": [
    "pd.DataFrame(mag_avg_pred_results).to_csv(RESULTS_FOLDER+'magnitude_average_pred.txt',header=None, sep=',', mode='a')\n",
    "pd.DataFrame(mag_avg_true_results).to_csv(RESULTS_FOLDER+'magnitude_average_true.txt',header=None, sep=',', mode='a')"
   ]
  },
  {
   "cell_type": "code",
   "execution_count": null,
   "metadata": {},
   "outputs": [],
   "source": []
  },
  {
   "cell_type": "code",
   "execution_count": null,
   "metadata": {},
   "outputs": [],
   "source": [
    "print('JOB Finished')"
   ]
  }
 ],
 "metadata": {
  "kernelspec": {
   "display_name": "Python 3",
   "language": "python",
   "name": "python3"
  },
  "language_info": {
   "codemirror_mode": {
    "name": "ipython",
    "version": 3
   },
   "file_extension": ".py",
   "mimetype": "text/x-python",
   "name": "python",
   "nbconvert_exporter": "python",
   "pygments_lexer": "ipython3",
   "version": "3.6.5"
  }
 },
 "nbformat": 4,
 "nbformat_minor": 2
}
