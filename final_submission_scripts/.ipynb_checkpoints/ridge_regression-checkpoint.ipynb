{
 "cells": [
  {
   "cell_type": "code",
   "execution_count": 1,
   "metadata": {},
   "outputs": [],
   "source": [
    "import matplotlib\n",
    "matplotlib.use('Agg') # Must be before importing matplotlib.pyplot or pylab!\n",
    "import matplotlib.pyplot as plt\n",
    "import pandas as pd\n",
    "import numpy as np\n",
    "from IPython.core import display as ICD\n",
    "import seaborn as sns\n",
    "import glob\n",
    "import scipy\n",
    "import os\n",
    "pd.set_option('display.max_columns', 100)"
   ]
  },
  {
   "cell_type": "code",
   "execution_count": 2,
   "metadata": {},
   "outputs": [],
   "source": [
    "# import scikit learn packages\n",
    "\n",
    "from sklearn.linear_model import Ridge\n",
    "from sklearn.model_selection import cross_val_predict\n",
    "from sklearn.model_selection import cross_val_score\n",
    "from sklearn.model_selection import train_test_split\n",
    "from sklearn.metrics import mean_squared_error\n",
    "from sklearn.metrics import r2_score\n",
    "from sklearn.linear_model import RidgeCV\n",
    "from sklearn.preprocessing import StandardScaler\n",
    "from sklearn.preprocessing import PolynomialFeatures\n",
    "from sklearn.decomposition import PCA\n",
    "\n",
    "from sklearn.pipeline import make_pipeline"
   ]
  },
  {
   "cell_type": "code",
   "execution_count": 3,
   "metadata": {},
   "outputs": [],
   "source": [
    "from helpers import *"
   ]
  },
  {
   "cell_type": "markdown",
   "metadata": {},
   "source": [
    "**Parameters**"
   ]
  },
  {
   "cell_type": "code",
   "execution_count": 4,
   "metadata": {},
   "outputs": [
    {
     "name": "stdout",
     "output_type": "stream",
     "text": [
      "Consistent Split\n",
      "\n"
     ]
    }
   ],
   "source": [
    "seasonwise = True\n",
    "feature_selection = True\n",
    "alphas = np.logspace(-10,5,3)\n",
    "deg = 2\n",
    "train_dim = 0.01\n",
    "test_dim = 0.39\n",
    "validate_dim = 0.6\n",
    "\n",
    "seasons_list = ['spring','summer','autumn','winter']\n",
    "\n",
    "consistency_splitting(train_dim, test_dim ,validate_dim)\n",
    "\n",
    "model = make_pipeline(StandardScaler(),PolynomialFeatures(deg,include_bias=True), RidgeCV(alphas))"
   ]
  },
  {
   "cell_type": "code",
   "execution_count": 5,
   "metadata": {},
   "outputs": [],
   "source": [
    "if seasonwise==False:\n",
    "    feature_selection = False"
   ]
  },
  {
   "cell_type": "code",
   "execution_count": 6,
   "metadata": {},
   "outputs": [],
   "source": [
    "#Local\n",
    "DATA_FOLDER = r'../data_extractor_scripts/'\n",
    "RESULTS_FOLDER = r'./'\n",
    "#Server\n",
    "# DATA_FOLDER = '~/scripts/'\n",
    "# RESULTS_FOLDER = '/raid/motus/results/ridgeregression/'"
   ]
  },
  {
   "cell_type": "code",
   "execution_count": 7,
   "metadata": {},
   "outputs": [],
   "source": [
    "tot_df=pd.read_csv(DATA_FOLDER+'regression_mat_year.csv',index_col=0)"
   ]
  },
  {
   "cell_type": "code",
   "execution_count": 10,
   "metadata": {},
   "outputs": [
    {
     "name": "stdout",
     "output_type": "stream",
     "text": [
      "[ 0 14 28 42]\n"
     ]
    }
   ],
   "source": [
    "if feature_selection:\n",
    "    df_features_sel = pd.read_csv('feature_for_ridge_original.txt',header=None)\n",
    "    \n",
    "#     def season_features_transform(df):\n",
    "#         feature_seasonwise=[]\n",
    "#         prev_bol=False\n",
    "#         for row_count,row in enumerate(df_features_sel[0]):\n",
    "#             season_row=[]\n",
    "#             for s in seasons_list:\n",
    "#                 season_row.append(row==s.capitalize())\n",
    "#             #print(prev_bol,sum(season_row)==1)\n",
    "#             if prev_bol==True and (sum(season_row)==1)==False:\n",
    "#                 feature_seasonwise.append(season_features)        \n",
    "#             if (sum(season_row)==1):\n",
    "#                 season_features=[]\n",
    "#             else:\n",
    "#                 season_features.append(row[:-1])\n",
    "#             prev_bol=sum(season_row)==1\n",
    "#         return feature_seasonwise\n",
    "\n",
    "    def season_features_transform(df_features_sel):\n",
    "        season_position=[]\n",
    "        for row_count,row in enumerate(df_features_sel[0]):\n",
    "            season_row=[]\n",
    "            for s in seasons_list:\n",
    "                season_row.append(row==s.capitalize())\n",
    "            season_position.append(sum(season_row)==1)\n",
    "        season_pos_idx=np.where(season_position)[0]\n",
    "        feature_seasonwise=[]\n",
    "        print(season_pos_idx)\n",
    "        for interval in range(season_pos_idx.shape[0]-1):\n",
    "            season_temp=[]\n",
    "            for entry in range(season_pos_idx[interval]+1,season_pos_idx[interval+1]):\n",
    "                season_temp.append(df_features_sel[0][entry][:-1])\n",
    "            feature_seasonwise.append(season_temp)\n",
    "        feature_seasonwise.append(list(map(lambda i:i[:-1],df_features_sel[0][42+1:].tolist())))\n",
    "        return feature_seasonwise\n",
    "        \n",
    "    lst_features_sel = season_features_transform(df_features_sel)"
   ]
  },
  {
   "cell_type": "markdown",
   "metadata": {},
   "source": [
    "Transform absolute value and direction in vector components"
   ]
  },
  {
   "cell_type": "code",
   "execution_count": 12,
   "metadata": {},
   "outputs": [],
   "source": [
    "tot_df = vectorize_wind_speed(tot_df)"
   ]
  },
  {
   "cell_type": "markdown",
   "metadata": {},
   "source": [
    "Split season by season"
   ]
  },
  {
   "cell_type": "code",
   "execution_count": 13,
   "metadata": {},
   "outputs": [],
   "source": [
    "if seasonwise:\n",
    "    df_spring, df_summer, df_autumn, df_winter = season_splitter(tot_df)\n",
    "    season_dfs=[df_spring, df_summer, df_autumn, df_winter]\n",
    "    \n",
    "else:\n",
    "    season_dfs=[tot_df]"
   ]
  },
  {
   "cell_type": "code",
   "execution_count": 14,
   "metadata": {},
   "outputs": [],
   "source": [
    "#Empty dataframes\n",
    "mses_results=[]\n",
    "r_2s_results=[]\n",
    "mag_avg_pred_results=[]\n",
    "mag_avg_true_results=[]"
   ]
  },
  {
   "cell_type": "code",
   "execution_count": 15,
   "metadata": {
    "scrolled": true
   },
   "outputs": [
    {
     "name": "stdout",
     "output_type": "stream",
     "text": [
      "Period under optimization:  spring\n",
      "Index(['u_z', 'sonic_temp', 'h', 'u_top_z', 'sonic_temp_top',\n",
      "       'Pyranometer Upper Irradiance [W/m$^2$]',\n",
      "       'Pyranometer Lower Irradiance [W/m$^2$]',\n",
      "       'Pyrgeometer Upper Irradiance [W/m$^2$]',\n",
      "       'Pyrgeometer Lower Irradiance [W/m$^2$]',\n",
      "       'Net Solar radiation [W/m$^2$]', 'Net (total) radiation [W/m$^2$]',\n",
      "       'Net Far Infrared radiation [W/m$^2$]', 'Sky temperature [°C]',\n",
      "       'Radiometer Ground temperature [°C]', 'Sensor Ground temperature [°C]',\n",
      "       'North temperature [°C]', 'East temperature [°C]',\n",
      "       'South temperature [°C]', 'West temperature [°C]', 'u_x', 'u_y',\n",
      "       'u_top_x', 'u_top_y'],\n",
      "      dtype='object')\n",
      "['h', 'u_top_y', 'u_top_x', 'sonic_temp', 'u_top_z', 'Net Solar radiation [W/m$^2$]', 'Pyranometer Upper Irradiance [W/m$^2$]', 'Net (total) radiation [W/m$^2$]', 'Net Far Infrared radiation [W/m$^2$]', 'Pyranometer Lower Irradiance [W/m$^2$]', 'North temperature [°C]', 'sonic_temp_top', 'Sensor Ground temperature [°C]']\n",
      "X_te_hs.shape:  [  17.5           0.91072419   -1.36115392   26.73088059   -0.28957224\n",
      "  244.03016238  262.48573003  124.13829572 -119.89186663   18.4555677\n",
      "   32.263        26.57686585   36.91666667]\n",
      "Period under optimization:  summer\n",
      "Index(['u_z', 'sonic_temp', 'h', 'u_top_z', 'sonic_temp_top',\n",
      "       'Pyranometer Upper Irradiance [W/m$^2$]',\n",
      "       'Pyranometer Lower Irradiance [W/m$^2$]',\n",
      "       'Pyrgeometer Upper Irradiance [W/m$^2$]',\n",
      "       'Pyrgeometer Lower Irradiance [W/m$^2$]',\n",
      "       'Net Solar radiation [W/m$^2$]', 'Net (total) radiation [W/m$^2$]',\n",
      "       'Net Far Infrared radiation [W/m$^2$]', 'Sky temperature [°C]',\n",
      "       'Radiometer Ground temperature [°C]', 'Sensor Ground temperature [°C]',\n",
      "       'North temperature [°C]', 'East temperature [°C]',\n",
      "       'South temperature [°C]', 'West temperature [°C]', 'u_x', 'u_y',\n",
      "       'u_top_x', 'u_top_y'],\n",
      "      dtype='object')\n",
      "['h', 'u_top_y', 'u_top_x', 'sonic_temp', 'u_top_z', 'Net Solar radiation [W/m$^2$]', 'Pyranometer Upper Irradiance [W/m$^2$]', 'Pyranometer Lower Irradiance [W/m$^2$]', 'Net (total) radiation [W/m$^2$]', 'Net Far Infrared radiation [W/m$^2$]', 'East temperature [°C]', 'Pyrgeometer Upper Irradiance [W/m$^2$]', 'Sky temperature [°C']\n"
     ]
    },
    {
     "ename": "KeyError",
     "evalue": "\"['Sky temperature [°C'] not in index\"",
     "output_type": "error",
     "traceback": [
      "\u001b[1;31m---------------------------------------------------------------------------\u001b[0m",
      "\u001b[1;31mKeyError\u001b[0m                                  Traceback (most recent call last)",
      "\u001b[1;32m<ipython-input-15-d521458c87ec>\u001b[0m in \u001b[0;36m<module>\u001b[1;34m()\u001b[0m\n\u001b[0;32m     13\u001b[0m     \u001b[0mprint\u001b[0m\u001b[1;33m(\u001b[0m\u001b[0mlst_features_sel\u001b[0m\u001b[1;33m[\u001b[0m\u001b[0mindex\u001b[0m\u001b[1;33m]\u001b[0m\u001b[1;33m)\u001b[0m\u001b[1;33m\u001b[0m\u001b[0m\n\u001b[0;32m     14\u001b[0m     \u001b[1;32mif\u001b[0m \u001b[0mfeature_selection\u001b[0m\u001b[1;33m:\u001b[0m\u001b[1;33m\u001b[0m\u001b[0m\n\u001b[1;32m---> 15\u001b[1;33m         \u001b[0mX\u001b[0m\u001b[1;33m=\u001b[0m\u001b[0mnp\u001b[0m\u001b[1;33m.\u001b[0m\u001b[0marray\u001b[0m\u001b[1;33m(\u001b[0m\u001b[0mX\u001b[0m\u001b[1;33m[\u001b[0m\u001b[0mlst_features_sel\u001b[0m\u001b[1;33m[\u001b[0m\u001b[0mindex\u001b[0m\u001b[1;33m]\u001b[0m\u001b[1;33m]\u001b[0m\u001b[1;33m)\u001b[0m\u001b[1;33m\u001b[0m\u001b[0m\n\u001b[0m\u001b[0;32m     16\u001b[0m         \u001b[0mh_position\u001b[0m\u001b[1;33m=\u001b[0m\u001b[0mlst_features_sel\u001b[0m\u001b[1;33m[\u001b[0m\u001b[0mindex\u001b[0m\u001b[1;33m]\u001b[0m\u001b[1;33m.\u001b[0m\u001b[0mindex\u001b[0m\u001b[1;33m(\u001b[0m\u001b[1;34m'h'\u001b[0m\u001b[1;33m)\u001b[0m\u001b[1;33m\u001b[0m\u001b[0m\n\u001b[0;32m     17\u001b[0m     \u001b[1;32melse\u001b[0m\u001b[1;33m:\u001b[0m\u001b[1;33m\u001b[0m\u001b[0m\n",
      "\u001b[1;32m~\\Anaconda3\\lib\\site-packages\\pandas\\core\\frame.py\u001b[0m in \u001b[0;36m__getitem__\u001b[1;34m(self, key)\u001b[0m\n\u001b[0;32m   2677\u001b[0m         \u001b[1;32mif\u001b[0m \u001b[0misinstance\u001b[0m\u001b[1;33m(\u001b[0m\u001b[0mkey\u001b[0m\u001b[1;33m,\u001b[0m \u001b[1;33m(\u001b[0m\u001b[0mSeries\u001b[0m\u001b[1;33m,\u001b[0m \u001b[0mnp\u001b[0m\u001b[1;33m.\u001b[0m\u001b[0mndarray\u001b[0m\u001b[1;33m,\u001b[0m \u001b[0mIndex\u001b[0m\u001b[1;33m,\u001b[0m \u001b[0mlist\u001b[0m\u001b[1;33m)\u001b[0m\u001b[1;33m)\u001b[0m\u001b[1;33m:\u001b[0m\u001b[1;33m\u001b[0m\u001b[0m\n\u001b[0;32m   2678\u001b[0m             \u001b[1;31m# either boolean or fancy integer index\u001b[0m\u001b[1;33m\u001b[0m\u001b[1;33m\u001b[0m\u001b[0m\n\u001b[1;32m-> 2679\u001b[1;33m             \u001b[1;32mreturn\u001b[0m \u001b[0mself\u001b[0m\u001b[1;33m.\u001b[0m\u001b[0m_getitem_array\u001b[0m\u001b[1;33m(\u001b[0m\u001b[0mkey\u001b[0m\u001b[1;33m)\u001b[0m\u001b[1;33m\u001b[0m\u001b[0m\n\u001b[0m\u001b[0;32m   2680\u001b[0m         \u001b[1;32melif\u001b[0m \u001b[0misinstance\u001b[0m\u001b[1;33m(\u001b[0m\u001b[0mkey\u001b[0m\u001b[1;33m,\u001b[0m \u001b[0mDataFrame\u001b[0m\u001b[1;33m)\u001b[0m\u001b[1;33m:\u001b[0m\u001b[1;33m\u001b[0m\u001b[0m\n\u001b[0;32m   2681\u001b[0m             \u001b[1;32mreturn\u001b[0m \u001b[0mself\u001b[0m\u001b[1;33m.\u001b[0m\u001b[0m_getitem_frame\u001b[0m\u001b[1;33m(\u001b[0m\u001b[0mkey\u001b[0m\u001b[1;33m)\u001b[0m\u001b[1;33m\u001b[0m\u001b[0m\n",
      "\u001b[1;32m~\\Anaconda3\\lib\\site-packages\\pandas\\core\\frame.py\u001b[0m in \u001b[0;36m_getitem_array\u001b[1;34m(self, key)\u001b[0m\n\u001b[0;32m   2721\u001b[0m             \u001b[1;32mreturn\u001b[0m \u001b[0mself\u001b[0m\u001b[1;33m.\u001b[0m\u001b[0m_take\u001b[0m\u001b[1;33m(\u001b[0m\u001b[0mindexer\u001b[0m\u001b[1;33m,\u001b[0m \u001b[0maxis\u001b[0m\u001b[1;33m=\u001b[0m\u001b[1;36m0\u001b[0m\u001b[1;33m)\u001b[0m\u001b[1;33m\u001b[0m\u001b[0m\n\u001b[0;32m   2722\u001b[0m         \u001b[1;32melse\u001b[0m\u001b[1;33m:\u001b[0m\u001b[1;33m\u001b[0m\u001b[0m\n\u001b[1;32m-> 2723\u001b[1;33m             \u001b[0mindexer\u001b[0m \u001b[1;33m=\u001b[0m \u001b[0mself\u001b[0m\u001b[1;33m.\u001b[0m\u001b[0mloc\u001b[0m\u001b[1;33m.\u001b[0m\u001b[0m_convert_to_indexer\u001b[0m\u001b[1;33m(\u001b[0m\u001b[0mkey\u001b[0m\u001b[1;33m,\u001b[0m \u001b[0maxis\u001b[0m\u001b[1;33m=\u001b[0m\u001b[1;36m1\u001b[0m\u001b[1;33m)\u001b[0m\u001b[1;33m\u001b[0m\u001b[0m\n\u001b[0m\u001b[0;32m   2724\u001b[0m             \u001b[1;32mreturn\u001b[0m \u001b[0mself\u001b[0m\u001b[1;33m.\u001b[0m\u001b[0m_take\u001b[0m\u001b[1;33m(\u001b[0m\u001b[0mindexer\u001b[0m\u001b[1;33m,\u001b[0m \u001b[0maxis\u001b[0m\u001b[1;33m=\u001b[0m\u001b[1;36m1\u001b[0m\u001b[1;33m)\u001b[0m\u001b[1;33m\u001b[0m\u001b[0m\n\u001b[0;32m   2725\u001b[0m \u001b[1;33m\u001b[0m\u001b[0m\n",
      "\u001b[1;32m~\\Anaconda3\\lib\\site-packages\\pandas\\core\\indexing.py\u001b[0m in \u001b[0;36m_convert_to_indexer\u001b[1;34m(self, obj, axis, is_setter)\u001b[0m\n\u001b[0;32m   1325\u001b[0m                 \u001b[1;32mif\u001b[0m \u001b[0mmask\u001b[0m\u001b[1;33m.\u001b[0m\u001b[0many\u001b[0m\u001b[1;33m(\u001b[0m\u001b[1;33m)\u001b[0m\u001b[1;33m:\u001b[0m\u001b[1;33m\u001b[0m\u001b[0m\n\u001b[0;32m   1326\u001b[0m                     raise KeyError('{mask} not in index'\n\u001b[1;32m-> 1327\u001b[1;33m                                    .format(mask=objarr[mask]))\n\u001b[0m\u001b[0;32m   1328\u001b[0m \u001b[1;33m\u001b[0m\u001b[0m\n\u001b[0;32m   1329\u001b[0m                 \u001b[1;32mreturn\u001b[0m \u001b[0mcom\u001b[0m\u001b[1;33m.\u001b[0m\u001b[0m_values_from_object\u001b[0m\u001b[1;33m(\u001b[0m\u001b[0mindexer\u001b[0m\u001b[1;33m)\u001b[0m\u001b[1;33m\u001b[0m\u001b[0m\n",
      "\u001b[1;31mKeyError\u001b[0m: \"['Sky temperature [°C'] not in index\""
     ]
    }
   ],
   "source": [
    "for index,df in enumerate(season_dfs):\n",
    "    if len(season_dfs)>2:\n",
    "        names=seasons_list\n",
    "    else:\n",
    "        names=['allyear']\n",
    "    \n",
    "    #Printing progress\n",
    "    print('Period under optimization: ',names[index])\n",
    "    \n",
    "    #Dividing X and y\n",
    "    X = df.drop(columns=['u_x', 'u_y','u_z'])\n",
    "    print(df.columns)\n",
    "    print(lst_features_sel[index])\n",
    "    if feature_selection:\n",
    "        X=np.array(X[lst_features_sel[index]])\n",
    "        h_position=lst_features_sel[index].index('h')\n",
    "    else:\n",
    "        X=np.array(X)   \n",
    "    y = np.array(df[['u_x', 'u_y']])\n",
    "    \n",
    "    #Splitting Matrices\n",
    "    X_tr, X_temp, y_tr, y_temp = train_test_split(X, y, test_size=test_dim+validate_dim, random_state=50)\n",
    "    X_te, X_va, y_te, y_va = train_test_split(X_temp, y_temp, test_size=validate_dim/(test_dim+validate_dim), random_state=50)\n",
    "    X_temp = None\n",
    "    y_temp = None\n",
    "    \n",
    "    print ('X_te_hs.shape: ',X_te[0])\n",
    "    #Make a list with differet heights\n",
    "    if feature_selection:\n",
    "        X_te_hs, y_te_hs = split_hs_test(X_te,y_te,h_pos=h_position)\n",
    "    else:\n",
    "        X_te_hs, y_te_hs = split_hs_test(X_te,y_te)\n",
    "    #print ('X_te_hs.shape: ',X_te_hs[0][3,:])\n",
    "    \n",
    "    #Fit the model \n",
    "    model.fit(X_tr,y_tr)\n",
    "    \n",
    "    y_pred_hs=[]\n",
    "    mag_avg_pred=[]\n",
    "    for hs in X_te_hs:\n",
    "        ans=model.predict(hs)\n",
    "        y_pred_hs.append(ans)\n",
    "        ans=np.sqrt(ans[:,0]**2+ans[:,1]**2).mean()\n",
    "        mag_avg_pred.append(ans)\n",
    "    mag_avg_pred.append(names[index])\n",
    "    mag_avg_pred_results.append(mag_avg_pred)\n",
    "\n",
    "    \n",
    "    mses=[]\n",
    "    mag_avg_true=[]\n",
    "    for idx,i in enumerate(y_pred_hs):\n",
    "        mses.append(mean_squared_error(y_te_hs[idx],i))\n",
    "        ans=y_te_hs[idx]\n",
    "        ans=np.sqrt(ans[:,0]**2+ans[:,1]**2).mean()\n",
    "        mag_avg_true.append(ans)\n",
    "    mses.append(names[index])\n",
    "    mag_avg_true.append(names[index])\n",
    "    mses_results.append(mses)\n",
    "    mag_avg_true_results.append(mag_avg_true)\n",
    "    \n",
    "    r_2s=[]\n",
    "    for idx,i in enumerate(y_pred_hs):\n",
    "        r_2s.append(r2_score(y_te_hs[idx],i))\n",
    "    r_2s.append(names[index])\n",
    "    r_2s_results.append(r_2s)\n",
    "    \n",
    "    plot_ys(y_pred_hs,y_te_hs,RESULTS_FOLDER+'/images/',save=True,name=(names[index]+'-'))"
   ]
  },
  {
   "cell_type": "code",
   "execution_count": null,
   "metadata": {},
   "outputs": [],
   "source": [
    "mses_results_df=pd.DataFrame(mses_results)\n",
    "mses_results_df.to_csv(RESULTS_FOLDER+'mses_results.txt',header=None, sep=',', mode='a')"
   ]
  },
  {
   "cell_type": "code",
   "execution_count": null,
   "metadata": {},
   "outputs": [],
   "source": [
    "r_2s_results_df=pd.DataFrame(r_2s_results)\n",
    "r_2s_results_df.to_csv(RESULTS_FOLDER+'r_2s_results.txt',header=None, sep=',', mode='a')"
   ]
  },
  {
   "cell_type": "code",
   "execution_count": null,
   "metadata": {},
   "outputs": [],
   "source": [
    "pd.DataFrame(mag_avg_pred_results).to_csv(RESULTS_FOLDER+'magnitude_average_pred.txt',header=None, sep=',', mode='a')\n",
    "pd.DataFrame(mag_avg_true_results).to_csv(RESULTS_FOLDER+'magnitude_average_true.txt',header=None, sep=',', mode='a')"
   ]
  },
  {
   "cell_type": "code",
   "execution_count": null,
   "metadata": {},
   "outputs": [],
   "source": [
    "print('JOB Finished')"
   ]
  },
  {
   "cell_type": "code",
   "execution_count": null,
   "metadata": {},
   "outputs": [],
   "source": []
  }
 ],
 "metadata": {
  "kernelspec": {
   "display_name": "Python 3",
   "language": "python",
   "name": "python3"
  },
  "language_info": {
   "codemirror_mode": {
    "name": "ipython",
    "version": 3
   },
   "file_extension": ".py",
   "mimetype": "text/x-python",
   "name": "python",
   "nbconvert_exporter": "python",
   "pygments_lexer": "ipython3",
   "version": "3.6.5"
  }
 },
 "nbformat": 4,
 "nbformat_minor": 2
}
