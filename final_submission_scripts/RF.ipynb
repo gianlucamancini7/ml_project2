{
 "cells": [
  {
   "cell_type": "code",
   "execution_count": 46,
   "metadata": {},
   "outputs": [],
   "source": [
    "\n",
    "# coding: utf-8\n",
    "\n",
    "# In[3]:\n",
    "\n",
    "\n",
    "import pandas as pd\n",
    "import numpy as np\n",
    "#import matplotlib as mpl\n",
    "#mpl.use('Agg')\n",
    "import matplotlib.pyplot as plt\n",
    "\n",
    "from sklearn.model_selection import train_test_split\n",
    "from sklearn.ensemble import RandomForestClassifier\n",
    "from sklearn.preprocessing import StandardScaler\n",
    "from sklearn.pipeline import make_pipeline\n",
    "from sklearn.preprocessing import KBinsDiscretizer\n",
    "from helpers import season_splitter\n",
    "from helpers import plot_ys\n",
    "from helpers import split_hs_test\n",
    "pd.set_option('display.max_columns', 100)\n",
    "\n"
   ]
  },
  {
   "cell_type": "code",
   "execution_count": 53,
   "metadata": {},
   "outputs": [],
   "source": [
    "# In[ ]:\n",
    "\n",
    "INPUT_FOLDER = ''\n",
    "OUTPUT_FOLDER = ''\n",
    "\n",
    "# # Load and preprocess the data\n",
    "\n",
    "# In[65]:\n",
    "\n",
    "filetxt = open(OUTPUT_FOLDER + \"FS_RF_seasons.txt\", \"w\")\n",
    "foridge = open(OUTPUT_FOLDER + \"FS_RF_seasons_for_regression.txt\", \"w\")\n",
    "\n",
    "#for i,season in enumerate([\"Spring\",\"Summer\",\"Autumn\",\"Winter\"]):\n",
    "#for i,season in enumerate([\"Spring\"]):\n",
    "# In[66]:\n",
    "tot_df=pd.read_csv(INPUT_FOLDER + 'regression_mat_year.csv',index_col=0)\n",
    "tot_df = season_splitter(tot_df)\n",
    "tot_df = tot_df[1]\n",
    "# create columns with coordinate velocities output\n",
    "tot_df['u_x']=tot_df['u']*np.cos(np.radians(tot_df['direction']))\n",
    "tot_df['u_y']=tot_df['u']*np.sin(np.radians(tot_df['direction']))\n",
    "# create columns with coordinate velocities input top mast anemometer\n",
    "tot_df['u_top_x']=tot_df['u_top']*np.cos(np.radians(tot_df['direction_top']))\n",
    "tot_df['u_top_y']=tot_df['u_top']*np.sin(np.radians(tot_df['direction_top']))\n",
    "# drop the columns which are not used anymore\n",
    "tot_df=tot_df.drop(columns=['u', 'u_top', 'direction', 'direction_top'])\n",
    "tot_df=tot_df.iloc[0:,:]\n",
    "\n",
    "\n",
    "# # Random forest feature selection\n",
    "# Pipeline: Discretize the output -> Random forest\n",
    "# <br>Output: u_x, u_y, z\n",
    "\n",
    "# ## Prepare the input and output\n",
    "\n",
    "# In[12]:\n",
    "\n",
    "\n",
    "x = np.array(tot_df.drop(columns=['u_x', 'u_y','u_z']))\n",
    "y_continue = np.array(tot_df[['u_x', 'u_y']])\n",
    "\n",
    "\n",
    "# ## Discretize the output\n",
    "\n",
    "# In[13]:\n",
    "\n",
    "\n",
    "discretizer = KBinsDiscretizer(n_bins=20, encode='ordinal', strategy='uniform')\n",
    "discretizer.fit(y_continue)\n",
    "y_disc = discretizer.transform(y_continue)\n",
    "\n",
    "\n",
    "# ## Split train and test\n",
    "\n",
    "# In[14]:\n",
    "\n",
    "\n",
    "x_tr, x_te, y_tr, y_te = train_test_split(x, y_disc, test_size=0.2, random_state=50)\n",
    "x_tr, x_ev, y_tr, y_ev = train_test_split(x_tr, y_tr, test_size=0.6, random_state=50)"
   ]
  },
  {
   "cell_type": "code",
   "execution_count": 67,
   "metadata": {},
   "outputs": [
    {
     "name": "stdout",
     "output_type": "stream",
     "text": [
      "[[10.  7.]\n",
      " [ 7.  7.]\n",
      " [ 8.  9.]\n",
      " ...\n",
      " [ 9.  8.]\n",
      " [12.  7.]\n",
      " [ 9.  6.]]\n"
     ]
    },
    {
     "ename": "NameError",
     "evalue": "name 'y' is not defined",
     "output_type": "error",
     "traceback": [
      "\u001b[0;31m---------------------------------------------------------------------------\u001b[0m",
      "\u001b[0;31mNameError\u001b[0m                                 Traceback (most recent call last)",
      "\u001b[0;32m<ipython-input-67-76404aa96ca8>\u001b[0m in \u001b[0;36m<module>\u001b[0;34m()\u001b[0m\n\u001b[1;32m      1\u001b[0m \u001b[0;32mprint\u001b[0m \u001b[0my_te\u001b[0m\u001b[0;34m\u001b[0m\u001b[0m\n\u001b[0;32m----> 2\u001b[0;31m \u001b[0;32mprint\u001b[0m \u001b[0my\u001b[0m\u001b[0;34m\u001b[0m\u001b[0m\n\u001b[0m",
      "\u001b[0;31mNameError\u001b[0m: name 'y' is not defined"
     ]
    }
   ],
   "source": [
    "print y_te\n",
    "print y"
   ]
  },
  {
   "cell_type": "code",
   "execution_count": 54,
   "metadata": {},
   "outputs": [
    {
     "name": "stdout",
     "output_type": "stream",
     "text": [
      "Random forest for one season finished\n"
     ]
    }
   ],
   "source": [
    " # ## Random forest\n",
    "\n",
    "    # In[15]:\n",
    "    \n",
    "    #y_tr_cont = discretizer.inverse_transform(y_tr)\n",
    "\n",
    "\n",
    "    # In[16]:\n",
    "\n",
    "\n",
    "rf = RandomForestClassifier(n_estimators=200, max_depth=None, criterion='gini', random_state=0)\n",
    "rf.fit(x_tr, y_tr)\n",
    "print(\"Random forest for one season finished\")\n",
    "\n",
    "# Prediction\n",
    "#y_pred = rf.predict(x_te)\n",
    "\n",
    "# Transfer back to the original data\n",
    "#y_pred = discretizer.inverse_transform(y_pred)\n",
    "#y_te = discretizer.inverse_transform(y_te)\n"
   ]
  },
  {
   "cell_type": "code",
   "execution_count": 65,
   "metadata": {},
   "outputs": [
    {
     "ename": "ValueError",
     "evalue": "operands could not be broadcast together with shapes (5341,2) (5464,2) ",
     "output_type": "error",
     "traceback": [
      "\u001b[0;31m---------------------------------------------------------------------------\u001b[0m",
      "\u001b[0;31mValueError\u001b[0m                                Traceback (most recent call last)",
      "\u001b[0;32m<ipython-input-65-cb3fa773bd37>\u001b[0m in \u001b[0;36m<module>\u001b[0;34m()\u001b[0m\n\u001b[1;32m     11\u001b[0m     \u001b[0my_te_hs\u001b[0m\u001b[0;34m.\u001b[0m\u001b[0mappend\u001b[0m\u001b[0;34m(\u001b[0m\u001b[0mans\u001b[0m\u001b[0;34m)\u001b[0m\u001b[0;34m\u001b[0m\u001b[0m\n\u001b[1;32m     12\u001b[0m \u001b[0;32mfor\u001b[0m \u001b[0mi\u001b[0m \u001b[0;32min\u001b[0m \u001b[0mrange\u001b[0m\u001b[0;34m(\u001b[0m\u001b[0mlen\u001b[0m\u001b[0;34m(\u001b[0m\u001b[0my_te_hs\u001b[0m\u001b[0;34m)\u001b[0m\u001b[0;34m)\u001b[0m\u001b[0;34m:\u001b[0m\u001b[0;34m\u001b[0m\u001b[0m\n\u001b[0;32m---> 13\u001b[0;31m     \u001b[0mans\u001b[0m \u001b[0;34m=\u001b[0m \u001b[0mnp\u001b[0m\u001b[0;34m.\u001b[0m\u001b[0mmean\u001b[0m\u001b[0;34m(\u001b[0m\u001b[0mnp\u001b[0m\u001b[0;34m.\u001b[0m\u001b[0msquare\u001b[0m\u001b[0;34m(\u001b[0m\u001b[0my_te_hs\u001b[0m\u001b[0;34m[\u001b[0m\u001b[0mi\u001b[0m\u001b[0;34m]\u001b[0m\u001b[0;34m-\u001b[0m\u001b[0my_pred_hs\u001b[0m\u001b[0;34m[\u001b[0m\u001b[0mi\u001b[0m\u001b[0;34m]\u001b[0m\u001b[0;34m)\u001b[0m\u001b[0;34m)\u001b[0m\u001b[0;34m\u001b[0m\u001b[0m\n\u001b[0m\u001b[1;32m     14\u001b[0m     \u001b[0mmse\u001b[0m\u001b[0;34m.\u001b[0m\u001b[0mappend\u001b[0m\u001b[0;34m(\u001b[0m\u001b[0mans\u001b[0m\u001b[0;34m)\u001b[0m\u001b[0;34m\u001b[0m\u001b[0m\n",
      "\u001b[0;31mValueError\u001b[0m: operands could not be broadcast together with shapes (5341,2) (5464,2) "
     ]
    }
   ],
   "source": [
    "x_te_hs, y_te_hs_ = split_hs_test(x_te,y_te)\n",
    "y_pred_hs=[]\n",
    "y_te_hs=[]\n",
    "mse = []\n",
    "for hs in x_te_hs:\n",
    "    ans=rf.predict(hs)\n",
    "    #ans=discretizer.inverse_transform(ans)\n",
    "    y_pred_hs.append(ans)\n",
    "for hs in y_te_hs_:\n",
    "    #ans=discretizer.inverse_transform(hs)\n",
    "    y_te_hs.append(ans)\n",
    "for i in range(len(y_te_hs)):\n",
    "    ans = np.mean(np.square(y_te_hs[i]-y_pred_hs[i]))\n",
    "    mse.append(ans)"
   ]
  },
  {
   "cell_type": "code",
   "execution_count": 66,
   "metadata": {},
   "outputs": [
    {
     "name": "stdout",
     "output_type": "stream",
     "text": [
      "[]\n",
      "[[9. 8.]\n",
      " [9. 8.]\n",
      " [9. 7.]\n",
      " ...\n",
      " [9. 8.]\n",
      " [8. 7.]\n",
      " [9. 8.]]\n",
      "[[-0.37087667  0.47688029]\n",
      " [-0.54953379  0.63073709]\n",
      " [-0.45609205  0.88924382]\n",
      " ...\n",
      " [-0.91082134  0.01616873]\n",
      " [ 0.42543056 -1.34194208]\n",
      " [-0.35319209 -1.65395052]]\n"
     ]
    }
   ],
   "source": [
    "print mse\n",
    "print y_pred_hs[1]\n",
    "print y_continue\n"
   ]
  },
  {
   "cell_type": "code",
   "execution_count": 63,
   "metadata": {},
   "outputs": [],
   "source": [
    "# Plot the prediction result\n",
    "plot_ys(y_pred_hs,y_te_hs,OUTPUT_FOLDER,save=True,interval=[0,500],name='graph')"
   ]
  },
  {
   "cell_type": "code",
   "execution_count": null,
   "metadata": {},
   "outputs": [],
   "source": [
    "# ## Print the result(feature importance)\n",
    "\n",
    "    # In[18]:\n",
    "\n",
    "\n",
    "feat_labels = tot_df.drop(columns=['u_x', 'u_y','u_z']).columns\n",
    "\n",
    "\n",
    "# In[74]:\n",
    "importances = rf.feature_importances_\n",
    "indices = np.argsort(importances)[::-1]\n",
    "important_features = []\n",
    "importance_accum = 0\n",
    "#open(\"feature_importance.txt\", 'w').close\n",
    "filetxt.write(\"\\n For the %s: \\n\" % season)\n",
    "for f in range(x_tr.shape[1]):\n",
    "    print(\"%2d) %-*s %f\" % (f + 1, 50, feat_labels[indices[f]], importances[indices[f]]))\n",
    "    filetxt.write(\"%2d) %-*s %f \\n\" % (f + 1, 50, feat_labels[indices[f]], importances[indices[f]]))\n",
    "    if importance_accum < 0.80:\n",
    "        importance_accum = importance_accum + importances[indices[f]]\n",
    "        important_features.append(feat_labels[indices[f]])\n",
    "plt.figure()\n",
    "plt.title(\"Feature importances for season %s\" % season)\n",
    "plt.bar(range(x_tr.shape[1]), importances, color=\"b\", align=\"center\")\n",
    "plt.xticks(range(x_tr.shape[1]), feat_labels, fontsize=5, rotation=90)\n",
    "plt.subplots_adjust(bottom=0.20)\n",
    "plt.grid()\n",
    "plt.savefig(OUTPUT_FOLDER + 'The_%s.eps' % season)\n",
    "filetxt.write(\"\\n The top 80% important features are: \\n\")\n",
    "for i in range(len(important_features)):\n",
    "    filetxt.write(\"%s \\n\" % important_features[i])\n",
    "filetxt.write(\"%i features on %i\" % (len(important_features), x_tr.shape[1]))\n",
    "foridge.write(\"%s\\n\" % season)\n",
    "for i in range(len(important_features)):\n",
    "    foridge.write(\"%s\\n\" % important_features[i])\n",
    "filetxt.close()\n",
    "foridge.close()"
   ]
  }
 ],
 "metadata": {
  "kernelspec": {
   "display_name": "Python 2",
   "language": "python",
   "name": "python2"
  },
  "language_info": {
   "codemirror_mode": {
    "name": "ipython",
    "version": 2
   },
   "file_extension": ".py",
   "mimetype": "text/x-python",
   "name": "python",
   "nbconvert_exporter": "python",
   "pygments_lexer": "ipython2",
   "version": "2.7.3"
  }
 },
 "nbformat": 4,
 "nbformat_minor": 2
}
