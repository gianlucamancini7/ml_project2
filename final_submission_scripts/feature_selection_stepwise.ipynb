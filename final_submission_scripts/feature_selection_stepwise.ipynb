{
 "cells": [
  {
   "cell_type": "code",
   "execution_count": 46,
   "metadata": {},
   "outputs": [],
   "source": [
    "import pandas as pd\n",
    "import numpy as np\n",
    "import matplotlib.pyplot as plt\n",
    "from IPython.core import display as ICD\n",
    "import seaborn as sns\n",
    "import glob\n",
    "import scipy\n",
    "import os\n",
    "pd.set_option('display.max_columns', 100)\n",
    "from helpers import *"
   ]
  },
  {
   "cell_type": "code",
   "execution_count": 2,
   "metadata": {},
   "outputs": [],
   "source": [
    "from sklearn.feature_selection import RFECV\n",
    "from sklearn.linear_model import RidgeCV\n",
    "from sklearn.model_selection import train_test_split\n",
    "import statsmodels.api as sm\n",
    "from sklearn.preprocessing import StandardScaler"
   ]
  },
  {
   "cell_type": "code",
   "execution_count": 3,
   "metadata": {},
   "outputs": [],
   "source": [
    "DATA_FOLDER = './'"
   ]
  },
  {
   "cell_type": "code",
   "execution_count": 4,
   "metadata": {},
   "outputs": [
    {
     "data": {
      "text/plain": [
       "['neural_network.ipynb',\n",
       " 'regression_mat_year.csv',\n",
       " 'ridge_regression.ipynb',\n",
       " '.ipynb_checkpoints',\n",
       " 'feature_selection_rf.ipynb',\n",
       " 'feature_selection_stepwise.ipynb']"
      ]
     },
     "execution_count": 4,
     "metadata": {},
     "output_type": "execute_result"
    }
   ],
   "source": [
    "os.listdir(DATA_FOLDER)"
   ]
  },
  {
   "cell_type": "markdown",
   "metadata": {},
   "source": [
    "### Regression matrix manipulation"
   ]
  },
  {
   "cell_type": "markdown",
   "metadata": {},
   "source": [
    "Importing regression matrix"
   ]
  },
  {
   "cell_type": "code",
   "execution_count": 48,
   "metadata": {},
   "outputs": [],
   "source": [
    "tot_df=pd.read_csv(DATA_FOLDER+'regression_mat_year.csv',index_col=0)"
   ]
  },
  {
   "cell_type": "markdown",
   "metadata": {},
   "source": [
    "Transform absolute value and direction in vector components"
   ]
  },
  {
   "cell_type": "code",
   "execution_count": 49,
   "metadata": {},
   "outputs": [],
   "source": [
    "tot_df=vectorize_wind_speed(tot_df)"
   ]
  },
  {
   "cell_type": "code",
   "execution_count": 9,
   "metadata": {},
   "outputs": [
    {
     "data": {
      "text/plain": [
       "(535470, 23)"
      ]
     },
     "execution_count": 9,
     "metadata": {},
     "output_type": "execute_result"
    }
   ],
   "source": [
    "tot_df.shape"
   ]
  },
  {
   "cell_type": "markdown",
   "metadata": {},
   "source": [
    "Shorten the matrix for developping purposes"
   ]
  },
  {
   "cell_type": "code",
   "execution_count": 12,
   "metadata": {},
   "outputs": [
    {
     "data": {
      "text/plain": [
       "(535470, 23)"
      ]
     },
     "execution_count": 12,
     "metadata": {},
     "output_type": "execute_result"
    }
   ],
   "source": [
    "tot_df_small=tot_df\n",
    "tot_df_small.shape"
   ]
  },
  {
   "cell_type": "markdown",
   "metadata": {},
   "source": [
    "### Splitting Data pandas"
   ]
  },
  {
   "cell_type": "code",
   "execution_count": 14,
   "metadata": {},
   "outputs": [],
   "source": [
    "tot_df_small_tr, tot_df_small_te=split_data(tot_df_small,0.3)"
   ]
  },
  {
   "cell_type": "code",
   "execution_count": 15,
   "metadata": {},
   "outputs": [],
   "source": [
    "tot_df_tr, tot_df_te=split_data(tot_df,0.3)"
   ]
  },
  {
   "cell_type": "markdown",
   "metadata": {},
   "source": [
    "### Standardize the features pandas"
   ]
  },
  {
   "cell_type": "code",
   "execution_count": 16,
   "metadata": {},
   "outputs": [],
   "source": [
    "# for trying small dataset and debugging purposes\n",
    "X_small_tr_standard=(tot_df_small_tr.drop(columns=['u_x', 'u_y','u_z'])-tot_df_small_tr.drop(columns=['u_x', 'u_y','u_z']).mean(axis=0))/tot_df_small_tr.drop(columns=['u_x', 'u_y','u_z']).std(axis=0)"
   ]
  },
  {
   "cell_type": "code",
   "execution_count": 17,
   "metadata": {},
   "outputs": [],
   "source": [
    "X_tr_standard=(tot_df_tr.drop(columns=['u_x', 'u_y','u_z'])-tot_df_tr.drop(columns=['u_x', 'u_y','u_z']).mean(axis=0))/tot_df_tr.drop(columns=['u_x', 'u_y','u_z']).std(axis=0)"
   ]
  },
  {
   "cell_type": "code",
   "execution_count": 18,
   "metadata": {},
   "outputs": [],
   "source": [
    "y_tr_small=tot_df_small_tr[['u_x','u_y']]"
   ]
  },
  {
   "cell_type": "code",
   "execution_count": 19,
   "metadata": {},
   "outputs": [],
   "source": [
    "y_tr=tot_df_tr[['u_x','u_y']]"
   ]
  },
  {
   "cell_type": "code",
   "execution_count": 20,
   "metadata": {},
   "outputs": [],
   "source": [
    "# for trying small dataset and debugging purposes\n",
    "X_small_te_standard=(tot_df_small_te.drop(columns=['u_x', 'u_y','u_z'])-tot_df_small_te.drop(columns=['u_x', 'u_y','u_z']).mean(axis=0))/tot_df_small_te.drop(columns=['u_x', 'u_y','u_z']).std(axis=0)"
   ]
  },
  {
   "cell_type": "code",
   "execution_count": 21,
   "metadata": {},
   "outputs": [],
   "source": [
    "X_te_standard=(tot_df_te.drop(columns=['u_x', 'u_y','u_z'])-tot_df_te.drop(columns=['u_x', 'u_y','u_z']).mean(axis=0))/tot_df_te.drop(columns=['u_x', 'u_y','u_z']).std(axis=0)"
   ]
  },
  {
   "cell_type": "code",
   "execution_count": 22,
   "metadata": {},
   "outputs": [],
   "source": [
    "y_te_small=tot_df_small_te[['u_x','u_y']]"
   ]
  },
  {
   "cell_type": "code",
   "execution_count": 23,
   "metadata": {},
   "outputs": [],
   "source": [
    "y_te=tot_df_te[['u_x','u_y']]"
   ]
  },
  {
   "cell_type": "markdown",
   "metadata": {},
   "source": [
    "# Stepwise feature selection for one year"
   ]
  },
  {
   "cell_type": "markdown",
   "metadata": {},
   "source": [
    "A method to define the most important number of features is backward selection: in this case at the beginning all the features are considered to be important. From a physical point of view, however, it is clear that the free stream wind speed `u_top_x`, `u_top_y` and `h` are going to be important. As a consequence forward feature selection will be implemented. The null hypothesis is that the true regression matrix is only composed by the three columns chosen and at every step a column will be added if the improvement in the value of $R^2$ is more unlikly than the significant level chosen. Then Bidirectional elimination is also implemented: consequently a backward step will be implemented to check if the new column added has a strong covariance with one the previous added columns. In this way the order to addition of the columns won't matter."
   ]
  },
  {
   "cell_type": "code",
   "execution_count": 24,
   "metadata": {},
   "outputs": [],
   "source": [
    "def stepwise_selection(X, y, \n",
    "                       initial_list=[], \n",
    "                       threshold_in=0.005, \n",
    "                       threshold_out = 0.1, \n",
    "                       verbose=True):\n",
    "    \n",
    "    # the threshold in is specified at 0.01 confidence level for the output meaning that for each\\\n",
    "    # velocity component is going to be 0.005 using bonferroni method\n",
    "    \"\"\" Perform a forward-backward feature selection \n",
    "    based on p-value from statsmodels.api.OLS\n",
    "    Arguments:\n",
    "        X - pandas.DataFrame with candidate features\n",
    "        y - list-like with the target\n",
    "        initial_list - list of features to start with (column names of X)\n",
    "        threshold_in - include a feature if its p-value < threshold_in\n",
    "        threshold_out - exclude a feature if its p-value > threshold_out\n",
    "        verbose - whether to print the sequence of inclusions and exclusions\n",
    "    Returns: list of selected features \n",
    "    Always set threshold_in < threshold_out to avoid infinite looping.\n",
    "    See https://en.wikipedia.org/wiki/Stepwise_regression for the details\n",
    "    \"\"\"\n",
    "    \n",
    "    included = list(initial_list)\n",
    "    while True:\n",
    "        changed=False\n",
    "        # forward step\n",
    "        excluded = list(set(X.columns)-set(included))\n",
    "        \n",
    "        # make a new series with a set of index being the columns you start with\n",
    "        new_pval = pd.Series(index=excluded)\n",
    "        \n",
    "        for new_column in excluded:\n",
    "            # make the model by adding a column. N.B the order to addition of columns doesn't matter since \n",
    "            # all parameters are added one by one and then the most unlikely is selected on the base that the\n",
    "            # hypothesis of having the estimators being B=0\n",
    "            \n",
    "            model = sm.OLS(y, sm.add_constant(pd.DataFrame(X[included+[new_column]]))).fit()\n",
    "            # the parameter used to calculate a two tail relative significance level can be obtained\n",
    "            #based on the R square value of the regression and the \n",
    "            \n",
    "            new_pval[new_column] = model.pvalues[new_column]\n",
    "        \n",
    "        # add the column which produced the most unluckily p value\n",
    "        best_pval = new_pval.min()\n",
    "        \n",
    "        # here it starts the backward step. this is useful to contract the order of selection of the features\n",
    "        # the order of selection matters so the features will only be kept if their removal is significant\n",
    "        if best_pval < threshold_in:\n",
    "            best_feature = new_pval.argmin()\n",
    "            included.append(best_feature)\n",
    "            changed=True\n",
    "            if verbose:\n",
    "                print('Add  {:30} with p-value {:.6}'.format(best_feature, best_pval))\n",
    "\n",
    "        # backward step\n",
    "        model = sm.OLS(y, sm.add_constant(pd.DataFrame(X[included]))).fit()\n",
    "        # use all coefs except intercept\n",
    "        pvalues = model.pvalues.iloc[1:]\n",
    "        worst_pval = pvalues.max() # null if pvalues is empty\n",
    "        if worst_pval > threshold_out:\n",
    "            changed=True\n",
    "            worst_feature = pvalues.argmax()\n",
    "            included.remove(worst_feature)\n",
    "            if verbose:\n",
    "                print('Drop {:30} with p-value {:.6}'.format(worst_feature, worst_pval))\n",
    "        if not changed:\n",
    "            break\n",
    "    return included"
   ]
  },
  {
   "cell_type": "markdown",
   "metadata": {},
   "source": [
    "Perform the stepwise feature selection for the horizontal velocity of u"
   ]
  },
  {
   "cell_type": "code",
   "execution_count": 25,
   "metadata": {},
   "outputs": [
    {
     "name": "stderr",
     "output_type": "stream",
     "text": [
      "/Users/gianlucamancini/anaconda3/lib/python3.6/site-packages/ipykernel/__main__.py:49: FutureWarning: 'argmin' is deprecated, use 'idxmin' instead. The behavior of 'argmin'\n",
      "will be corrected to return the positional minimum in the future.\n",
      "Use 'series.values.argmin' to get the position of the minimum now.\n"
     ]
    },
    {
     "name": "stdout",
     "output_type": "stream",
     "text": [
      "Add  East temperature [°C]          with p-value 0.0\n",
      "Add  Net Solar radiation [W/m$^2$]  with p-value 0.0\n",
      "Add  Net Far Infrared radiation [W/m$^2$] with p-value 8.08656e-114\n",
      "Add  u_top_z                        with p-value 1.93059e-104\n",
      "Add  sonic_temp                     with p-value 2.21019e-56\n",
      "Add  South temperature [°C]         with p-value 6.98168e-185\n",
      "Drop East temperature [°C]          with p-value 0.344227\n"
     ]
    },
    {
     "name": "stderr",
     "output_type": "stream",
     "text": [
      "/Users/gianlucamancini/anaconda3/lib/python3.6/site-packages/ipykernel/__main__.py:62: FutureWarning: 'argmax' is deprecated, use 'idxmax' instead. The behavior of 'argmax'\n",
      "will be corrected to return the positional maximum in the future.\n",
      "Use 'series.values.argmax' to get the position of the maximum now.\n"
     ]
    },
    {
     "name": "stdout",
     "output_type": "stream",
     "text": [
      "Add  North temperature [°C]         with p-value 2.44192e-32\n",
      "Add  West temperature [°C]          with p-value 6.31725e-36\n",
      "Add  Pyranometer Lower Irradiance [W/m$^2$] with p-value 3.01788e-24\n",
      "Add  sonic_temp_top                 with p-value 1.0122e-10\n",
      "Add  Sensor Ground temperature [°C] with p-value 1.1434e-08\n",
      "resulting features:\n",
      "['u_top_y', 'u_top_x', 'h', 'Net Solar radiation [W/m$^2$]', 'Net Far Infrared radiation [W/m$^2$]', 'u_top_z', 'sonic_temp', 'South temperature [°C]', 'North temperature [°C]', 'West temperature [°C]', 'Pyranometer Lower Irradiance [W/m$^2$]', 'sonic_temp_top', 'Sensor Ground temperature [°C]']\n"
     ]
    }
   ],
   "source": [
    "result = stepwise_selection(X_small_tr_standard, y_tr_small.iloc[:,0], initial_list=['u_top_y', 'u_top_x','h'])\n",
    "\n",
    "print('resulting features:')\n",
    "print(result)"
   ]
  },
  {
   "cell_type": "markdown",
   "metadata": {},
   "source": [
    "Perform the stepwise feature selection for the vertical velocity of u"
   ]
  },
  {
   "cell_type": "code",
   "execution_count": 26,
   "metadata": {},
   "outputs": [
    {
     "name": "stderr",
     "output_type": "stream",
     "text": [
      "/Users/gianlucamancini/anaconda3/lib/python3.6/site-packages/ipykernel/__main__.py:49: FutureWarning: 'argmin' is deprecated, use 'idxmin' instead. The behavior of 'argmin'\n",
      "will be corrected to return the positional minimum in the future.\n",
      "Use 'series.values.argmin' to get the position of the minimum now.\n"
     ]
    },
    {
     "name": "stdout",
     "output_type": "stream",
     "text": [
      "Add  u_top_z                        with p-value 2.15848e-33\n",
      "Add  Net Far Infrared radiation [W/m$^2$] with p-value 2.63548e-33\n",
      "Add  Net (total) radiation [W/m$^2$] with p-value 3.71178e-59\n",
      "Add  Sensor Ground temperature [°C] with p-value 1.22336e-28\n",
      "Add  North temperature [°C]         with p-value 1.7022e-23\n",
      "Add  Sky temperature [°C]           with p-value 3.39554e-44\n",
      "Drop Sensor Ground temperature [°C] with p-value 0.210017\n"
     ]
    },
    {
     "name": "stderr",
     "output_type": "stream",
     "text": [
      "/Users/gianlucamancini/anaconda3/lib/python3.6/site-packages/ipykernel/__main__.py:62: FutureWarning: 'argmax' is deprecated, use 'idxmax' instead. The behavior of 'argmax'\n",
      "will be corrected to return the positional maximum in the future.\n",
      "Use 'series.values.argmax' to get the position of the maximum now.\n"
     ]
    },
    {
     "name": "stdout",
     "output_type": "stream",
     "text": [
      "Add  Pyranometer Lower Irradiance [W/m$^2$] with p-value 2.96997e-30\n",
      "Add  East temperature [°C]          with p-value 2.04665e-06\n",
      "Add  sonic_temp                     with p-value 4.59873e-06\n",
      "Add  sonic_temp_top                 with p-value 3.13838e-77\n",
      "Drop h                              with p-value 0.245042\n",
      "Add  West temperature [°C]          with p-value 1.29486e-06\n",
      "Add  Radiometer Ground temperature [°C] with p-value 0.000103304\n",
      "Drop Net Far Infrared radiation [W/m$^2$] with p-value 0.292728\n",
      "Add  South temperature [°C]         with p-value 0.000134724\n",
      "resulting features:\n",
      "['u_top_y', 'u_top_x', 'u_top_z', 'Net (total) radiation [W/m$^2$]', 'North temperature [°C]', 'Sky temperature [°C]', 'Pyranometer Lower Irradiance [W/m$^2$]', 'East temperature [°C]', 'sonic_temp', 'sonic_temp_top', 'West temperature [°C]', 'Radiometer Ground temperature [°C]', 'South temperature [°C]']\n"
     ]
    }
   ],
   "source": [
    "result = stepwise_selection(X_small_tr_standard, y_tr_small.iloc[:,1], initial_list=['u_top_y', 'u_top_x','h'])\n",
    "\n",
    "print('resulting features:')\n",
    "print(result)"
   ]
  },
  {
   "cell_type": "code",
   "execution_count": null,
   "metadata": {},
   "outputs": [],
   "source": [
    "tot_df_small_standard.columns.values"
   ]
  },
  {
   "cell_type": "markdown",
   "metadata": {},
   "source": [
    "# Stepwise feature selection for each season"
   ]
  },
  {
   "cell_type": "code",
   "execution_count": 28,
   "metadata": {},
   "outputs": [],
   "source": [
    "df_spring, df_summer, df_autumn, df_winter=season_splitter(tot_df)"
   ]
  },
  {
   "cell_type": "code",
   "execution_count": 29,
   "metadata": {},
   "outputs": [],
   "source": [
    "df_spring_tr, df_spring_te=split_data(df_spring,0.3)\n",
    "df_summer_tr, df_summer_te=split_data(df_summer,0.3)\n",
    "df_autumn_tr, df_autumn_te=split_data(df_autumn,0.3)\n",
    "df_winter_tr, df_winter_te=split_data(df_winter,0.3)"
   ]
  },
  {
   "cell_type": "code",
   "execution_count": 41,
   "metadata": {},
   "outputs": [],
   "source": [
    "X_spring_tr_standard=(df_spring_tr.drop(columns=['u_x', 'u_y','u_z'])-df_spring_tr.drop(columns=['u_x', 'u_y','u_z']).mean(axis=0))/df_spring_tr.drop(columns=['u_x', 'u_y','u_z']).std(axis=0)\n",
    "X_autumn_tr_standard=(df_autumn_tr.drop(columns=['u_x', 'u_y','u_z'])-df_autumn_tr.drop(columns=['u_x', 'u_y','u_z']).mean(axis=0))/df_autumn_tr.drop(columns=['u_x', 'u_y','u_z']).std(axis=0)\n",
    "X_summer_tr_standard=(df_summer_tr.drop(columns=['u_x', 'u_y','u_z'])-df_summer_tr.drop(columns=['u_x', 'u_y','u_z']).mean(axis=0))/df_summer_tr.drop(columns=['u_x', 'u_y','u_z']).std(axis=0)\n",
    "X_winter_tr_standard=(df_winter_tr.drop(columns=['u_x', 'u_y','u_z'])-df_winter_tr.drop(columns=['u_x', 'u_y','u_z']).mean(axis=0))/df_winter_tr.drop(columns=['u_x', 'u_y','u_z']).std(axis=0)"
   ]
  },
  {
   "cell_type": "code",
   "execution_count": 31,
   "metadata": {},
   "outputs": [],
   "source": [
    "y_spring_tr=df_spring_tr[['u_x','u_y']]\n",
    "y_summer_tr=df_summer_tr[['u_x','u_y']]\n",
    "y_autumn_tr=df_autumn_tr[['u_x','u_y']]\n",
    "y_winter_tr=df_winter_tr[['u_x','u_y']]"
   ]
  },
  {
   "cell_type": "code",
   "execution_count": 39,
   "metadata": {},
   "outputs": [],
   "source": [
    "X_spring_te_standard=(df_spring_te.drop(columns=['u_x', 'u_y','u_z'])-df_spring_te.drop(columns=['u_x', 'u_y','u_z']).mean(axis=0))/df_spring_te.drop(columns=['u_x', 'u_y','u_z']).std(axis=0)\n",
    "X_autumn_te_standard=(df_autumn_te.drop(columns=['u_x', 'u_y','u_z'])-df_autumn_te.drop(columns=['u_x', 'u_y','u_z']).mean(axis=0))/df_autumn_te.drop(columns=['u_x', 'u_y','u_z']).std(axis=0)\n",
    "X_summer_te_standard=(df_summer_te.drop(columns=['u_x', 'u_y','u_z'])-df_summer_te.drop(columns=['u_x', 'u_y','u_z']).mean(axis=0))/df_summer_te.drop(columns=['u_x', 'u_y','u_z']).std(axis=0)\n",
    "X_winter_te_standard=(df_winter_te.drop(columns=['u_x', 'u_y','u_z'])-df_winter_te.drop(columns=['u_x', 'u_y','u_z']).mean(axis=0))/df_winter_te.drop(columns=['u_x', 'u_y','u_z']).std(axis=0)"
   ]
  },
  {
   "cell_type": "code",
   "execution_count": 33,
   "metadata": {},
   "outputs": [],
   "source": [
    "y_spring_te=df_spring_te[['u_x','u_y']]\n",
    "y_summer_te=df_summer_te[['u_x','u_y']]\n",
    "y_autumn_te=df_autumn_te[['u_x','u_y']]\n",
    "y_winter_te=df_winter_te[['u_x','u_y']]"
   ]
  },
  {
   "cell_type": "markdown",
   "metadata": {},
   "source": [
    "### Spring"
   ]
  },
  {
   "cell_type": "markdown",
   "metadata": {},
   "source": [
    "Perform the stepwise feature selection for the horizontal velocity of u"
   ]
  },
  {
   "cell_type": "code",
   "execution_count": 34,
   "metadata": {},
   "outputs": [
    {
     "name": "stderr",
     "output_type": "stream",
     "text": [
      "/Users/gianlucamancini/anaconda3/lib/python3.6/site-packages/ipykernel/__main__.py:49: FutureWarning: 'argmin' is deprecated, use 'idxmin' instead. The behavior of 'argmin'\n",
      "will be corrected to return the positional minimum in the future.\n",
      "Use 'series.values.argmin' to get the position of the minimum now.\n"
     ]
    },
    {
     "name": "stdout",
     "output_type": "stream",
     "text": [
      "Add  Net Solar radiation [W/m$^2$]  with p-value 0.0\n",
      "Add  u_top_z                        with p-value 2.36356e-46\n",
      "Add  Net Far Infrared radiation [W/m$^2$] with p-value 6.03955e-16\n",
      "Add  sonic_temp                     with p-value 2.5763e-09\n",
      "Add  Radiometer Ground temperature [°C] with p-value 1.45747e-69\n",
      "Drop Net Far Infrared radiation [W/m$^2$] with p-value 0.539045\n"
     ]
    },
    {
     "name": "stderr",
     "output_type": "stream",
     "text": [
      "/Users/gianlucamancini/anaconda3/lib/python3.6/site-packages/ipykernel/__main__.py:62: FutureWarning: 'argmax' is deprecated, use 'idxmax' instead. The behavior of 'argmax'\n",
      "will be corrected to return the positional maximum in the future.\n",
      "Use 'series.values.argmax' to get the position of the maximum now.\n"
     ]
    },
    {
     "name": "stdout",
     "output_type": "stream",
     "text": [
      "Add  West temperature [°C]          with p-value 5.82356e-44\n",
      "Add  East temperature [°C]          with p-value 6.20289e-10\n",
      "Add  South temperature [°C]         with p-value 2.23759e-16\n",
      "Drop Net Solar radiation [W/m$^2$]  with p-value 0.460525\n",
      "Add  sonic_temp_top                 with p-value 0.000147081\n",
      "Add  Sensor Ground temperature [°C] with p-value 8.48581e-05\n",
      "Add  North temperature [°C]         with p-value 1.92986e-07\n",
      "resulting features:\n",
      "['u_top_y', 'u_top_x', 'h', 'u_top_z', 'sonic_temp', 'Radiometer Ground temperature [°C]', 'West temperature [°C]', 'East temperature [°C]', 'South temperature [°C]', 'sonic_temp_top', 'Sensor Ground temperature [°C]', 'North temperature [°C]']\n"
     ]
    }
   ],
   "source": [
    "result = stepwise_selection(X_spring_tr_standard, y_spring_tr.iloc[:,0], initial_list=['u_top_y', 'u_top_x','h'])\n",
    "\n",
    "print('resulting features:')\n",
    "print(result)"
   ]
  },
  {
   "cell_type": "markdown",
   "metadata": {},
   "source": [
    "Perform the stepwise feature selection for the vertical velocity of u"
   ]
  },
  {
   "cell_type": "code",
   "execution_count": 35,
   "metadata": {},
   "outputs": [
    {
     "name": "stderr",
     "output_type": "stream",
     "text": [
      "/Users/gianlucamancini/anaconda3/lib/python3.6/site-packages/ipykernel/__main__.py:49: FutureWarning: 'argmin' is deprecated, use 'idxmin' instead. The behavior of 'argmin'\n",
      "will be corrected to return the positional minimum in the future.\n",
      "Use 'series.values.argmin' to get the position of the minimum now.\n"
     ]
    },
    {
     "name": "stdout",
     "output_type": "stream",
     "text": [
      "Add  Sky temperature [°C]           with p-value 1.64183e-08\n",
      "Add  sonic_temp_top                 with p-value 4.11106e-14\n",
      "Add  Net Far Infrared radiation [W/m$^2$] with p-value 8.65484e-11\n",
      "Add  North temperature [°C]         with p-value 4.63508e-06\n",
      "Add  Pyranometer Lower Irradiance [W/m$^2$] with p-value 3.00878e-05\n",
      "Add  Net (total) radiation [W/m$^2$] with p-value 2.86421e-06\n",
      "Add  East temperature [°C]          with p-value 0.000845914\n",
      "Drop sonic_temp_top                 with p-value 0.296544\n"
     ]
    },
    {
     "name": "stderr",
     "output_type": "stream",
     "text": [
      "/Users/gianlucamancini/anaconda3/lib/python3.6/site-packages/ipykernel/__main__.py:62: FutureWarning: 'argmax' is deprecated, use 'idxmax' instead. The behavior of 'argmax'\n",
      "will be corrected to return the positional maximum in the future.\n",
      "Use 'series.values.argmax' to get the position of the maximum now.\n"
     ]
    },
    {
     "name": "stdout",
     "output_type": "stream",
     "text": [
      "Add  Pyrgeometer Lower Irradiance [W/m$^2$] with p-value 0.00116689\n",
      "Add  Radiometer Ground temperature [°C] with p-value 0.00259041\n",
      "resulting features:\n",
      "['u_top_y', 'u_top_x', 'h', 'Sky temperature [°C]', 'Net Far Infrared radiation [W/m$^2$]', 'North temperature [°C]', 'Pyranometer Lower Irradiance [W/m$^2$]', 'Net (total) radiation [W/m$^2$]', 'East temperature [°C]', 'Pyrgeometer Lower Irradiance [W/m$^2$]', 'Radiometer Ground temperature [°C]']\n"
     ]
    }
   ],
   "source": [
    "result = stepwise_selection(X_spring_tr_standard, y_spring_tr.iloc[:,1], initial_list=['u_top_y', 'u_top_x','h'])\n",
    "\n",
    "print('resulting features:')\n",
    "print(result)"
   ]
  },
  {
   "cell_type": "markdown",
   "metadata": {},
   "source": [
    "### Summer"
   ]
  },
  {
   "cell_type": "markdown",
   "metadata": {},
   "source": [
    "Perform the stepwise feature selection for the vertical velocity of u"
   ]
  },
  {
   "cell_type": "code",
   "execution_count": 36,
   "metadata": {},
   "outputs": [
    {
     "name": "stderr",
     "output_type": "stream",
     "text": [
      "/Users/gianlucamancini/anaconda3/lib/python3.6/site-packages/ipykernel/__main__.py:49: FutureWarning: 'argmin' is deprecated, use 'idxmin' instead. The behavior of 'argmin'\n",
      "will be corrected to return the positional minimum in the future.\n",
      "Use 'series.values.argmin' to get the position of the minimum now.\n",
      "/Users/gianlucamancini/anaconda3/lib/python3.6/site-packages/ipykernel/__main__.py:62: FutureWarning: 'argmax' is deprecated, use 'idxmax' instead. The behavior of 'argmax'\n",
      "will be corrected to return the positional maximum in the future.\n",
      "Use 'series.values.argmax' to get the position of the maximum now.\n"
     ]
    },
    {
     "name": "stdout",
     "output_type": "stream",
     "text": [
      "Add  Net Solar radiation [W/m$^2$]  with p-value 0.0\n",
      "Drop h                              with p-value 0.562422\n",
      "Add  u_top_z                        with p-value 2.14012e-49\n",
      "Add  Net (total) radiation [W/m$^2$] with p-value 1.67741e-37\n",
      "Add  Pyranometer Upper Irradiance [W/m$^2$] with p-value 1.41071e-05\n",
      "Add  sonic_temp                     with p-value 4.99485e-08\n",
      "Add  South temperature [°C]         with p-value 5.72628e-59\n",
      "Drop Pyranometer Upper Irradiance [W/m$^2$] with p-value 0.124046\n",
      "Add  East temperature [°C]          with p-value 4.00664e-10\n",
      "Add  sonic_temp_top                 with p-value 1.84885e-07\n",
      "Add  h                              with p-value 1.13923e-10\n",
      "Add  Radiometer Ground temperature [°C] with p-value 0.000366695\n",
      "Add  Sky temperature [°C]           with p-value 8.21858e-07\n",
      "Add  Pyrgeometer Upper Irradiance [W/m$^2$] with p-value 2.44039e-07\n",
      "Add  West temperature [°C]          with p-value 0.00034787\n",
      "Add  Pyranometer Lower Irradiance [W/m$^2$] with p-value 0.00119032\n",
      "Add  North temperature [°C]         with p-value 8.91165e-05\n",
      "Add  Sensor Ground temperature [°C] with p-value 0.000519214\n",
      "resulting features:\n",
      "['u_top_y', 'u_top_x', 'Net Solar radiation [W/m$^2$]', 'u_top_z', 'Net (total) radiation [W/m$^2$]', 'sonic_temp', 'South temperature [°C]', 'East temperature [°C]', 'sonic_temp_top', 'h', 'Radiometer Ground temperature [°C]', 'Sky temperature [°C]', 'Pyrgeometer Upper Irradiance [W/m$^2$]', 'West temperature [°C]', 'Pyranometer Lower Irradiance [W/m$^2$]', 'North temperature [°C]', 'Sensor Ground temperature [°C]']\n"
     ]
    }
   ],
   "source": [
    "result = stepwise_selection(X_summer_tr_standard, y_summer_tr.iloc[:,0], initial_list=['u_top_y', 'u_top_x','h'])\n",
    "\n",
    "print('resulting features:')\n",
    "print(result)"
   ]
  },
  {
   "cell_type": "markdown",
   "metadata": {},
   "source": [
    "Perform the stepwise feature selection for the vertical velocity of u"
   ]
  },
  {
   "cell_type": "code",
   "execution_count": 37,
   "metadata": {
    "scrolled": true
   },
   "outputs": [
    {
     "name": "stderr",
     "output_type": "stream",
     "text": [
      "/Users/gianlucamancini/anaconda3/lib/python3.6/site-packages/ipykernel/__main__.py:49: FutureWarning: 'argmin' is deprecated, use 'idxmin' instead. The behavior of 'argmin'\n",
      "will be corrected to return the positional minimum in the future.\n",
      "Use 'series.values.argmin' to get the position of the minimum now.\n"
     ]
    },
    {
     "name": "stdout",
     "output_type": "stream",
     "text": [
      "Add  Pyrgeometer Upper Irradiance [W/m$^2$] with p-value 3.00676e-63\n",
      "Add  Pyranometer Upper Irradiance [W/m$^2$] with p-value 1.63034e-06\n",
      "Add  sonic_temp                     with p-value 0.00388025\n",
      "Add  sonic_temp_top                 with p-value 5.51518e-153\n",
      "Add  u_top_z                        with p-value 7.03443e-08\n",
      "resulting features:\n",
      "['u_top_y', 'u_top_x', 'h', 'Pyrgeometer Upper Irradiance [W/m$^2$]', 'Pyranometer Upper Irradiance [W/m$^2$]', 'sonic_temp', 'sonic_temp_top', 'u_top_z']\n"
     ]
    }
   ],
   "source": [
    "result = stepwise_selection(X_summer_tr_standard, y_summer_tr.iloc[:,1], initial_list=['u_top_y', 'u_top_x','h'])\n",
    "\n",
    "print('resulting features:')\n",
    "print(result)"
   ]
  },
  {
   "cell_type": "markdown",
   "metadata": {},
   "source": [
    "### Winter"
   ]
  },
  {
   "cell_type": "markdown",
   "metadata": {},
   "source": [
    "Perform the stepwise feature selection for the vertical velocity of u"
   ]
  },
  {
   "cell_type": "code",
   "execution_count": 42,
   "metadata": {},
   "outputs": [
    {
     "name": "stderr",
     "output_type": "stream",
     "text": [
      "/Users/gianlucamancini/anaconda3/lib/python3.6/site-packages/ipykernel/__main__.py:49: FutureWarning: 'argmin' is deprecated, use 'idxmin' instead. The behavior of 'argmin'\n",
      "will be corrected to return the positional minimum in the future.\n",
      "Use 'series.values.argmin' to get the position of the minimum now.\n"
     ]
    },
    {
     "name": "stdout",
     "output_type": "stream",
     "text": [
      "Add  Net Solar radiation [W/m$^2$]  with p-value 3.55438e-58\n",
      "Add  sonic_temp                     with p-value 5.92245e-39\n",
      "Add  Pyrgeometer Lower Irradiance [W/m$^2$] with p-value 1.5673e-45\n",
      "Add  sonic_temp_top                 with p-value 7.31263e-06\n",
      "Drop Net Solar radiation [W/m$^2$]  with p-value 0.208103\n"
     ]
    },
    {
     "name": "stderr",
     "output_type": "stream",
     "text": [
      "/Users/gianlucamancini/anaconda3/lib/python3.6/site-packages/ipykernel/__main__.py:62: FutureWarning: 'argmax' is deprecated, use 'idxmax' instead. The behavior of 'argmax'\n",
      "will be corrected to return the positional maximum in the future.\n",
      "Use 'series.values.argmax' to get the position of the maximum now.\n"
     ]
    },
    {
     "name": "stdout",
     "output_type": "stream",
     "text": [
      "Add  East temperature [°C]          with p-value 0.000269281\n",
      "Add  North temperature [°C]         with p-value 0.00134734\n",
      "Add  Sensor Ground temperature [°C] with p-value 0.00459355\n",
      "resulting features:\n",
      "['u_top_y', 'u_top_x', 'h', 'sonic_temp', 'Pyrgeometer Lower Irradiance [W/m$^2$]', 'sonic_temp_top', 'East temperature [°C]', 'North temperature [°C]', 'Sensor Ground temperature [°C]']\n"
     ]
    }
   ],
   "source": [
    "result = stepwise_selection(X_winter_tr_standard, y_winter_tr.iloc[:,0], initial_list=['u_top_y', 'u_top_x','h'])\n",
    "\n",
    "print('resulting features:')\n",
    "print(result)"
   ]
  },
  {
   "cell_type": "markdown",
   "metadata": {},
   "source": [
    "Perform the stepwise feature selection for the vertical velocity of u"
   ]
  },
  {
   "cell_type": "code",
   "execution_count": 43,
   "metadata": {},
   "outputs": [
    {
     "name": "stderr",
     "output_type": "stream",
     "text": [
      "/Users/gianlucamancini/anaconda3/lib/python3.6/site-packages/ipykernel/__main__.py:49: FutureWarning: 'argmin' is deprecated, use 'idxmin' instead. The behavior of 'argmin'\n",
      "will be corrected to return the positional minimum in the future.\n",
      "Use 'series.values.argmin' to get the position of the minimum now.\n"
     ]
    },
    {
     "name": "stdout",
     "output_type": "stream",
     "text": [
      "Add  u_top_z                        with p-value 6.73822e-26\n",
      "Add  sonic_temp                     with p-value 1.22286e-26\n",
      "Add  Pyrgeometer Upper Irradiance [W/m$^2$] with p-value 5.76596e-05\n",
      "Add  Sky temperature [°C]           with p-value 6.27406e-19\n",
      "resulting features:\n",
      "['u_top_y', 'u_top_x', 'h', 'u_top_z', 'sonic_temp', 'Pyrgeometer Upper Irradiance [W/m$^2$]', 'Sky temperature [°C]']\n"
     ]
    }
   ],
   "source": [
    "result = stepwise_selection(X_winter_tr_standard, y_winter_tr.iloc[:,1], initial_list=['u_top_y', 'u_top_x','h'])\n",
    "\n",
    "print('resulting features:')\n",
    "print(result)"
   ]
  },
  {
   "cell_type": "markdown",
   "metadata": {},
   "source": [
    "### Autumn"
   ]
  },
  {
   "cell_type": "markdown",
   "metadata": {},
   "source": [
    "Perform the stepwise feature selection for the vertical velocity of u"
   ]
  },
  {
   "cell_type": "code",
   "execution_count": 44,
   "metadata": {},
   "outputs": [
    {
     "name": "stderr",
     "output_type": "stream",
     "text": [
      "/Users/gianlucamancini/anaconda3/lib/python3.6/site-packages/ipykernel/__main__.py:49: FutureWarning: 'argmin' is deprecated, use 'idxmin' instead. The behavior of 'argmin'\n",
      "will be corrected to return the positional minimum in the future.\n",
      "Use 'series.values.argmin' to get the position of the minimum now.\n"
     ]
    },
    {
     "name": "stdout",
     "output_type": "stream",
     "text": [
      "Add  Pyranometer Lower Irradiance [W/m$^2$] with p-value 1.2576e-224\n",
      "Add  u_top_z                        with p-value 7.10814e-78\n",
      "Add  Pyrgeometer Upper Irradiance [W/m$^2$] with p-value 9.89929e-35\n",
      "Add  Net Far Infrared radiation [W/m$^2$] with p-value 1.14009e-14\n",
      "Add  sonic_temp_top                 with p-value 5.42044e-70\n",
      "Add  South temperature [°C]         with p-value 5.42091e-62\n",
      "Drop Pyranometer Lower Irradiance [W/m$^2$] with p-value 0.268612\n"
     ]
    },
    {
     "name": "stderr",
     "output_type": "stream",
     "text": [
      "/Users/gianlucamancini/anaconda3/lib/python3.6/site-packages/ipykernel/__main__.py:62: FutureWarning: 'argmax' is deprecated, use 'idxmax' instead. The behavior of 'argmax'\n",
      "will be corrected to return the positional maximum in the future.\n",
      "Use 'series.values.argmax' to get the position of the maximum now.\n"
     ]
    },
    {
     "name": "stdout",
     "output_type": "stream",
     "text": [
      "Add  North temperature [°C]         with p-value 4.51031e-20\n",
      "Add  sonic_temp                     with p-value 4.52847e-12\n",
      "Add  East temperature [°C]          with p-value 1.21693e-06\n",
      "Add  Net (total) radiation [W/m$^2$] with p-value 3.19671e-11\n",
      "Add  Sensor Ground temperature [°C] with p-value 2.09764e-11\n",
      "Add  Radiometer Ground temperature [°C] with p-value 8.3854e-06\n",
      "Add  West temperature [°C]          with p-value 0.000892906\n",
      "resulting features:\n",
      "['u_top_y', 'u_top_x', 'h', 'u_top_z', 'Pyrgeometer Upper Irradiance [W/m$^2$]', 'Net Far Infrared radiation [W/m$^2$]', 'sonic_temp_top', 'South temperature [°C]', 'North temperature [°C]', 'sonic_temp', 'East temperature [°C]', 'Net (total) radiation [W/m$^2$]', 'Sensor Ground temperature [°C]', 'Radiometer Ground temperature [°C]', 'West temperature [°C]']\n"
     ]
    }
   ],
   "source": [
    "result = stepwise_selection(X_autumn_tr_standard, y_autumn_tr.iloc[:,0], initial_list=['u_top_y', 'u_top_x','h'])\n",
    "\n",
    "print('resulting features:')\n",
    "print(result)"
   ]
  },
  {
   "cell_type": "markdown",
   "metadata": {},
   "source": [
    "Perform the stepwise feature selection for the vertical velocity of u"
   ]
  },
  {
   "cell_type": "code",
   "execution_count": 45,
   "metadata": {},
   "outputs": [
    {
     "name": "stderr",
     "output_type": "stream",
     "text": [
      "/Users/gianlucamancini/anaconda3/lib/python3.6/site-packages/ipykernel/__main__.py:49: FutureWarning: 'argmin' is deprecated, use 'idxmin' instead. The behavior of 'argmin'\n",
      "will be corrected to return the positional minimum in the future.\n",
      "Use 'series.values.argmin' to get the position of the minimum now.\n"
     ]
    },
    {
     "name": "stdout",
     "output_type": "stream",
     "text": [
      "Add  Pyrgeometer Upper Irradiance [W/m$^2$] with p-value 3.82433e-36\n",
      "Add  Net (total) radiation [W/m$^2$] with p-value 1.14854e-14\n",
      "Add  North temperature [°C]         with p-value 5.55712e-14\n",
      "Add  Pyranometer Upper Irradiance [W/m$^2$] with p-value 3.50709e-36\n",
      "Add  East temperature [°C]          with p-value 1.73524e-11\n",
      "Add  South temperature [°C]         with p-value 5.78652e-11\n",
      "Add  Sky temperature [°C]           with p-value 6.12514e-07\n",
      "Add  u_top_z                        with p-value 8.12656e-07\n",
      "resulting features:\n",
      "['u_top_y', 'u_top_x', 'h', 'Pyrgeometer Upper Irradiance [W/m$^2$]', 'Net (total) radiation [W/m$^2$]', 'North temperature [°C]', 'Pyranometer Upper Irradiance [W/m$^2$]', 'East temperature [°C]', 'South temperature [°C]', 'Sky temperature [°C]', 'u_top_z']\n"
     ]
    }
   ],
   "source": [
    "result = stepwise_selection(X_autumn_tr_standard, y_autumn_tr.iloc[:,1], initial_list=['u_top_y', 'u_top_x','h'])\n",
    "\n",
    "print('resulting features:')\n",
    "print(result)"
   ]
  },
  {
   "cell_type": "code",
   "execution_count": null,
   "metadata": {},
   "outputs": [],
   "source": []
  },
  {
   "cell_type": "code",
   "execution_count": null,
   "metadata": {},
   "outputs": [],
   "source": []
  },
  {
   "cell_type": "code",
   "execution_count": null,
   "metadata": {},
   "outputs": [],
   "source": []
  },
  {
   "cell_type": "code",
   "execution_count": null,
   "metadata": {},
   "outputs": [],
   "source": []
  },
  {
   "cell_type": "code",
   "execution_count": null,
   "metadata": {},
   "outputs": [],
   "source": []
  },
  {
   "cell_type": "code",
   "execution_count": null,
   "metadata": {},
   "outputs": [],
   "source": []
  },
  {
   "cell_type": "code",
   "execution_count": null,
   "metadata": {},
   "outputs": [],
   "source": [
    "def forward_selection(X, y, \n",
    "                       initial_list=[], \n",
    "                       threshold_in=0.005, \n",
    "                       threshold_out = 0.1, \n",
    "                       verbose=True):\n",
    "    \n",
    "    # the threshold in is specified at 0.01 confidence level for the output meaning that for each\\\n",
    "    # velocity component is going to be 0.005 using bonferroni method\n",
    "    \"\"\" Perform a forward-backward feature selection \n",
    "    based on p-value from statsmodels.api.OLS\n",
    "    Arguments:\n",
    "        X - pandas.DataFrame with candidate features\n",
    "        y - list-like with the target\n",
    "        initial_list - list of features to start with (column names of X)\n",
    "        threshold_in - include a feature if its p-value < threshold_in\n",
    "        threshold_out - exclude a feature if its p-value > threshold_out\n",
    "        verbose - whether to print the sequence of inclusions and exclusions\n",
    "    Returns: list of selected features \n",
    "    Always set threshold_in < threshold_out to avoid infinite looping.\n",
    "    See https://en.wikipedia.org/wiki/Stepwise_regression for the details\n",
    "    \"\"\"\n",
    "    \n",
    "    included = list(initial_list)\n",
    "    while True:\n",
    "        changed=False\n",
    "        # forward step\n",
    "        excluded = list(set(X.columns)-set(included))\n",
    "        \n",
    "        # make a new series with a set of index being the columns you start with\n",
    "        new_pval = pd.Series(index=excluded)\n",
    "        \n",
    "        for new_column in excluded:\n",
    "            # make the model by adding a column. N.B the order to addition of columns doesn't matter since \n",
    "            # all parameters are added one by one and then the most unlikely is selected on the base that the\n",
    "            # hypothesis of having the estimators being B=0\n",
    "            \n",
    "            model = sm.OLS(y, sm.add_constant(pd.DataFrame(X[included+[new_column]]))).fit()\n",
    "            # the parameter used to calculate f distribution is the R square value of the regression and the \n",
    "            # relative significance level\n",
    "            new_pval[new_column] = model.f_pvalue\n",
    "        \n",
    "        # add the column which produced the most unluckily p value\n",
    "        best_pval = new_pval.min()\n",
    "        \n",
    "        # here it starts the backward step. this is useful to contract the order of selection of the features\n",
    "        # the order of selection matters so the features will only be kept if their removal is significant\n",
    "        if best_pval < threshold_in:\n",
    "            best_feature = new_pval.argmin()\n",
    "            included.append(best_feature)\n",
    "            changed=True\n",
    "            if verbose:\n",
    "                print('Add  {:30} with p-value {:.6}'.format(best_feature, best_pval))\n",
    "\n",
    "#         # backward step\n",
    "#         model = sm.OLS(y, sm.add_constant(pd.DataFrame(X[included]))).fit()\n",
    "#         # use all coefs except intercept\n",
    "#         pvalues = model.pvalues.iloc[1:]\n",
    "#         worst_pval = pvalues.max() # null if pvalues is empty\n",
    "#         if worst_pval > threshold_out:\n",
    "#             changed=True\n",
    "#             worst_feature = pvalues.argmax()\n",
    "#             included.remove(worst_feature)\n",
    "#             if verbose:\n",
    "#                 print('Drop {:30} with p-value {:.6}'.format(worst_feature, worst_pval))\n",
    "#         if not changed:\n",
    "#             break\n",
    "    return included"
   ]
  },
  {
   "cell_type": "markdown",
   "metadata": {},
   "source": [
    "# Backward feature selection"
   ]
  },
  {
   "cell_type": "code",
   "execution_count": null,
   "metadata": {},
   "outputs": [],
   "source": [
    "alphas=np.logspace(-1,10,100)\n",
    "\n",
    "#leave one out cv method is used\n",
    "estimator = RidgeCV(alphas, cv=None, store_cv_values=True)\n",
    "selector=RFECV(estimator, min_features_to_select=3, step=1, verbose=False, cv=5)\n",
    "selector = selector.fit(X_tr_scaled_small, y_tr_small[:,0].reshape(-1, 1))\n",
    "selector.support_"
   ]
  },
  {
   "cell_type": "code",
   "execution_count": null,
   "metadata": {},
   "outputs": [],
   "source": [
    "alphas=np.logspace(-1,10,100)\n",
    "\n",
    "#leave one out cv method is used\n",
    "estimator = RidgeCV(alphas, cv=None, store_cv_values=True)\n",
    "selector=RFECV(estimator, min_features_to_select=3, step=1, verbose=False, cv=5)\n",
    "selector = selector.fit(X_tr_scaled_small, y_tr_small[:,1].reshape(-1, 1))\n",
    "selector.support_"
   ]
  },
  {
   "cell_type": "code",
   "execution_count": null,
   "metadata": {},
   "outputs": [],
   "source": [
    "len(tot_df_small_standard.drop(columns=['u_x', 'u_y','u_z']).columns.values)\n"
   ]
  }
 ],
 "metadata": {
  "kernelspec": {
   "display_name": "Python [conda env:anaconda3]",
   "language": "python",
   "name": "conda-env-anaconda3-py"
  },
  "language_info": {
   "codemirror_mode": {
    "name": "ipython",
    "version": 3
   },
   "file_extension": ".py",
   "mimetype": "text/x-python",
   "name": "python",
   "nbconvert_exporter": "python",
   "pygments_lexer": "ipython3",
   "version": "3.6.5"
  }
 },
 "nbformat": 4,
 "nbformat_minor": 2
}
