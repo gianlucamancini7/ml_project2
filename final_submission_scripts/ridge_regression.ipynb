{
 "cells": [
  {
   "cell_type": "code",
   "execution_count": 1,
   "metadata": {},
   "outputs": [],
   "source": [
    "import matplotlib\n",
    "matplotlib.use('Agg') # Must be before importing matplotlib.pyplot or pylab!\n",
    "import matplotlib.pyplot as plt\n",
    "import pandas as pd\n",
    "import numpy as np\n",
    "from IPython.core import display as ICD\n",
    "import seaborn as sns\n",
    "import glob\n",
    "import scipy\n",
    "import os\n",
    "pd.set_option('display.max_columns', 100)"
   ]
  },
  {
   "cell_type": "code",
   "execution_count": 2,
   "metadata": {},
   "outputs": [],
   "source": [
    "# import scikit learn packages\n",
    "\n",
    "from sklearn.linear_model import Ridge\n",
    "from sklearn.model_selection import cross_val_predict\n",
    "from sklearn.model_selection import cross_val_score\n",
    "from sklearn.model_selection import train_test_split\n",
    "from sklearn.metrics import mean_squared_error\n",
    "from sklearn.metrics import r2_score\n",
    "from sklearn.linear_model import RidgeCV\n",
    "from sklearn.preprocessing import StandardScaler\n",
    "from sklearn.preprocessing import PolynomialFeatures\n",
    "from sklearn.decomposition import PCA\n",
    "\n",
    "from sklearn.pipeline import make_pipeline"
   ]
  },
  {
   "cell_type": "code",
   "execution_count": 3,
   "metadata": {},
   "outputs": [],
   "source": [
    "from helpers import *"
   ]
  },
  {
   "cell_type": "markdown",
   "metadata": {},
   "source": [
    "**Parameters**"
   ]
  },
  {
   "cell_type": "code",
   "execution_count": 4,
   "metadata": {},
   "outputs": [
    {
     "name": "stdout",
     "output_type": "stream",
     "text": [
      "Consistent Split\n",
      "\n"
     ]
    }
   ],
   "source": [
    "seasonwise = True\n",
    "feature_selection = True\n",
    "rnd_state=50\n",
    "alphas = np.logspace(-10,5,3)\n",
    "deg = 2\n",
    "train_dim = 0.01\n",
    "test_dim = 0.39\n",
    "validate_dim = 0.6\n",
    "\n",
    "seasons_list = ['spring','summer','autumn','winter']\n",
    "\n",
    "consistency_splitting(train_dim, test_dim ,validate_dim)\n",
    "\n",
    "model = make_pipeline(StandardScaler(),PolynomialFeatures(deg,include_bias=True), RidgeCV(alphas))"
   ]
  },
  {
   "cell_type": "code",
   "execution_count": 5,
   "metadata": {},
   "outputs": [],
   "source": [
    "if seasonwise==False:\n",
    "    feature_selection = False"
   ]
  },
  {
   "cell_type": "code",
   "execution_count": 6,
   "metadata": {},
   "outputs": [],
   "source": [
    "#Local\n",
    "DATA_FOLDER = r'../data_extractor_scripts/'\n",
    "RESULTS_FOLDER = r'./'\n",
    "#Server\n",
    "# DATA_FOLDER = '~/scripts/'\n",
    "# RESULTS_FOLDER = '/raid/motus/results/ridgeregression/'"
   ]
  },
  {
   "cell_type": "code",
   "execution_count": 7,
   "metadata": {},
   "outputs": [],
   "source": [
    "tot_df=pd.read_csv(DATA_FOLDER+'regression_mat_year.csv',index_col=0)"
   ]
  },
  {
   "cell_type": "code",
   "execution_count": 8,
   "metadata": {},
   "outputs": [],
   "source": [
    "if feature_selection:\n",
    "    df_features_sel = pd.read_csv('feature_for_ridge.txt',header=None)\n",
    "    df_features_sel = df_features_sel.drop(df_features_sel.columns[0], axis=1)"
   ]
  },
  {
   "cell_type": "code",
   "execution_count": 9,
   "metadata": {},
   "outputs": [
    {
     "data": {
      "text/plain": [
       "[['h',\n",
       "  'u_top_y',\n",
       "  'u_top_x',\n",
       "  'sonic_temp',\n",
       "  'u_top_z',\n",
       "  'Net Solar radiation [W/m$^2$]',\n",
       "  'Net (total) radiation [W/m$^2$]',\n",
       "  'Pyranometer Upper Irradiance [W/m$^2$]',\n",
       "  'Net Far Infrared radiation [W/m$^2$]',\n",
       "  'Pyranometer Lower Irradiance [W/m$^2$]',\n",
       "  'North temperature [°C]',\n",
       "  'sonic_temp_top',\n",
       "  'Sensor Ground temperature [°C]'],\n",
       " ['h',\n",
       "  'u_top_y',\n",
       "  'u_top_x',\n",
       "  'sonic_temp',\n",
       "  'u_top_z',\n",
       "  'Net Solar radiation [W/m$^2$]',\n",
       "  'Pyranometer Upper Irradiance [W/m$^2$]',\n",
       "  'Pyranometer Lower Irradiance [W/m$^2$]',\n",
       "  'Net (total) radiation [W/m$^2$]',\n",
       "  'Net Far Infrared radiation [W/m$^2$]',\n",
       "  'East temperature [°C]',\n",
       "  'Sky temperature [°C]',\n",
       "  'Pyrgeometer Upper Irradiance [W/m$^2$]'],\n",
       " ['h',\n",
       "  'u_top_y',\n",
       "  'u_top_x',\n",
       "  'sonic_temp',\n",
       "  'u_top_z',\n",
       "  'Net Far Infrared radiation [W/m$^2$]',\n",
       "  'East temperature [°C]',\n",
       "  'sonic_temp_top',\n",
       "  'Net Solar radiation [W/m$^2$]',\n",
       "  'North temperature [°C]',\n",
       "  'Pyranometer Upper Irradiance [W/m$^2$]',\n",
       "  'Net (total) radiation [W/m$^2$]',\n",
       "  'Sensor Ground temperature [°C]'],\n",
       " ['h',\n",
       "  'u_top_y',\n",
       "  'u_top_x',\n",
       "  'sonic_temp',\n",
       "  'u_top_z',\n",
       "  'sonic_temp_top',\n",
       "  'Net Far Infrared radiation [W/m$^2$]',\n",
       "  'Sensor Ground temperature [°C]',\n",
       "  'North temperature [°C]',\n",
       "  'East temperature [°C]',\n",
       "  'South temperature [°C]',\n",
       "  'West temperature [°C]',\n",
       "  'Pyranometer Lower Irradiance [W/m$^2$]']]"
      ]
     },
     "execution_count": 9,
     "metadata": {},
     "output_type": "execute_result"
    }
   ],
   "source": [
    "lst_features_sel=np.array(df_features_sel).tolist()\n",
    "lst_features_sel"
   ]
  },
  {
   "cell_type": "markdown",
   "metadata": {},
   "source": [
    "Transform absolute value and direction in vector components"
   ]
  },
  {
   "cell_type": "code",
   "execution_count": 10,
   "metadata": {},
   "outputs": [],
   "source": [
    "tot_df = vectorize_wind_speed(tot_df)"
   ]
  },
  {
   "cell_type": "markdown",
   "metadata": {},
   "source": [
    "Split season by season"
   ]
  },
  {
   "cell_type": "code",
   "execution_count": 11,
   "metadata": {},
   "outputs": [],
   "source": [
    "if seasonwise:\n",
    "    df_spring, df_summer, df_autumn, df_winter = season_splitter(tot_df)\n",
    "    season_dfs=[df_spring, df_summer, df_autumn, df_winter]\n",
    "    \n",
    "else:\n",
    "    season_dfs=[tot_df]"
   ]
  },
  {
   "cell_type": "code",
   "execution_count": 12,
   "metadata": {},
   "outputs": [],
   "source": [
    "#Empty dataframes\n",
    "mses_results=[]\n",
    "r_2s_results=[]\n",
    "mag_avg_pred_results=[]\n",
    "mag_avg_true_results=[]"
   ]
  },
  {
   "cell_type": "code",
   "execution_count": 13,
   "metadata": {
    "scrolled": true
   },
   "outputs": [
    {
     "name": "stdout",
     "output_type": "stream",
     "text": [
      "Period under optimization:  spring\n",
      "Index(['u_z', 'sonic_temp', 'h', 'u_top_z', 'sonic_temp_top',\n",
      "       'Pyranometer Upper Irradiance [W/m$^2$]',\n",
      "       'Pyranometer Lower Irradiance [W/m$^2$]',\n",
      "       'Pyrgeometer Upper Irradiance [W/m$^2$]',\n",
      "       'Pyrgeometer Lower Irradiance [W/m$^2$]',\n",
      "       'Net Solar radiation [W/m$^2$]', 'Net (total) radiation [W/m$^2$]',\n",
      "       'Net Far Infrared radiation [W/m$^2$]', 'Sky temperature [°C]',\n",
      "       'Radiometer Ground temperature [°C]', 'Sensor Ground temperature [°C]',\n",
      "       'North temperature [°C]', 'East temperature [°C]',\n",
      "       'South temperature [°C]', 'West temperature [°C]', 'u_x', 'u_y',\n",
      "       'u_top_x', 'u_top_y'],\n",
      "      dtype='object')\n",
      "['h', 'u_top_y', 'u_top_x', 'sonic_temp', 'u_top_z', 'Net Solar radiation [W/m$^2$]', 'Net (total) radiation [W/m$^2$]', 'Pyranometer Upper Irradiance [W/m$^2$]', 'Net Far Infrared radiation [W/m$^2$]', 'Pyranometer Lower Irradiance [W/m$^2$]', 'North temperature [°C]', 'sonic_temp_top', 'Sensor Ground temperature [°C]']\n",
      "X_te_hs.shape:  [  17.5           0.91072419   -1.36115392   26.73088059   -0.28957224\n",
      "  244.03016238  124.13829572  262.48573003 -119.89186663   18.4555677\n",
      "   32.263        26.57686585   36.91666667]\n",
      "Period under optimization:  summer\n",
      "Index(['u_z', 'sonic_temp', 'h', 'u_top_z', 'sonic_temp_top',\n",
      "       'Pyranometer Upper Irradiance [W/m$^2$]',\n",
      "       'Pyranometer Lower Irradiance [W/m$^2$]',\n",
      "       'Pyrgeometer Upper Irradiance [W/m$^2$]',\n",
      "       'Pyrgeometer Lower Irradiance [W/m$^2$]',\n",
      "       'Net Solar radiation [W/m$^2$]', 'Net (total) radiation [W/m$^2$]',\n",
      "       'Net Far Infrared radiation [W/m$^2$]', 'Sky temperature [°C]',\n",
      "       'Radiometer Ground temperature [°C]', 'Sensor Ground temperature [°C]',\n",
      "       'North temperature [°C]', 'East temperature [°C]',\n",
      "       'South temperature [°C]', 'West temperature [°C]', 'u_x', 'u_y',\n",
      "       'u_top_x', 'u_top_y'],\n",
      "      dtype='object')\n",
      "['h', 'u_top_y', 'u_top_x', 'sonic_temp', 'u_top_z', 'Net Solar radiation [W/m$^2$]', 'Pyranometer Upper Irradiance [W/m$^2$]', 'Pyranometer Lower Irradiance [W/m$^2$]', 'Net (total) radiation [W/m$^2$]', 'Net Far Infrared radiation [W/m$^2$]', 'East temperature [°C]', 'Sky temperature [°C]', 'Pyrgeometer Upper Irradiance [W/m$^2$]']\n",
      "X_te_hs.shape:  [ 2.15000000e+01  2.67306316e+00 -2.60746602e+00  3.23377227e+01\n",
      " -3.66308256e-01  2.94277431e+02  2.83905857e+02 -1.03715734e+01\n",
      "  1.80249505e+02 -1.14027926e+02  2.77586667e+01  1.87798981e+01\n",
      "  4.11835423e+02]\n",
      "Period under optimization:  autumn\n",
      "Index(['u_z', 'sonic_temp', 'h', 'u_top_z', 'sonic_temp_top',\n",
      "       'Pyranometer Upper Irradiance [W/m$^2$]',\n",
      "       'Pyranometer Lower Irradiance [W/m$^2$]',\n",
      "       'Pyrgeometer Upper Irradiance [W/m$^2$]',\n",
      "       'Pyrgeometer Lower Irradiance [W/m$^2$]',\n",
      "       'Net Solar radiation [W/m$^2$]', 'Net (total) radiation [W/m$^2$]',\n",
      "       'Net Far Infrared radiation [W/m$^2$]', 'Sky temperature [°C]',\n",
      "       'Radiometer Ground temperature [°C]', 'Sensor Ground temperature [°C]',\n",
      "       'North temperature [°C]', 'East temperature [°C]',\n",
      "       'South temperature [°C]', 'West temperature [°C]', 'u_x', 'u_y',\n",
      "       'u_top_x', 'u_top_y'],\n",
      "      dtype='object')\n",
      "['h', 'u_top_y', 'u_top_x', 'sonic_temp', 'u_top_z', 'Net Far Infrared radiation [W/m$^2$]', 'East temperature [°C]', 'sonic_temp_top', 'Net Solar radiation [W/m$^2$]', 'North temperature [°C]', 'Pyranometer Upper Irradiance [W/m$^2$]', 'Net (total) radiation [W/m$^2$]', 'Sensor Ground temperature [°C]']\n",
      "X_te_hs.shape:  [ 2.15000000e+01 -3.16874014e+00 -1.13033324e+00  2.98725137e+00\n",
      " -4.33716475e-02 -3.72717696e+01  9.09100000e+00  3.39190072e+00\n",
      "  1.36246791e+02  2.56533333e+00  1.59177264e+02  9.89750211e+01\n",
      "  3.15766667e+00]\n",
      "Period under optimization:  winter\n",
      "Index(['u_z', 'sonic_temp', 'h', 'u_top_z', 'sonic_temp_top',\n",
      "       'Pyranometer Upper Irradiance [W/m$^2$]',\n",
      "       'Pyranometer Lower Irradiance [W/m$^2$]',\n",
      "       'Pyrgeometer Upper Irradiance [W/m$^2$]',\n",
      "       'Pyrgeometer Lower Irradiance [W/m$^2$]',\n",
      "       'Net Solar radiation [W/m$^2$]', 'Net (total) radiation [W/m$^2$]',\n",
      "       'Net Far Infrared radiation [W/m$^2$]', 'Sky temperature [°C]',\n",
      "       'Radiometer Ground temperature [°C]', 'Sensor Ground temperature [°C]',\n",
      "       'North temperature [°C]', 'East temperature [°C]',\n",
      "       'South temperature [°C]', 'West temperature [°C]', 'u_x', 'u_y',\n",
      "       'u_top_x', 'u_top_y'],\n",
      "      dtype='object')\n",
      "['h', 'u_top_y', 'u_top_x', 'sonic_temp', 'u_top_z', 'sonic_temp_top', 'Net Far Infrared radiation [W/m$^2$]', 'Sensor Ground temperature [°C]', 'North temperature [°C]', 'East temperature [°C]', 'South temperature [°C]', 'West temperature [°C]', 'Pyranometer Lower Irradiance [W/m$^2$]']\n",
      "X_te_hs.shape:  [  5.5          4.84827962   1.86018937   1.46179879  -0.12485976\n",
      "   0.67118421 -14.35773632   3.99366667   1.76766667   4.45266667\n",
      "   3.15566667   0.86566667  14.27230562]\n"
     ]
    }
   ],
   "source": [
    "for index,df in enumerate(season_dfs):\n",
    "    if len(season_dfs)>2:\n",
    "        names=seasons_list\n",
    "    else:\n",
    "        names=['allyear']\n",
    "    \n",
    "    #Printing progress\n",
    "    print('Period under optimization: ',names[index])\n",
    "    \n",
    "    #Dividing X and y\n",
    "    X = df.drop(columns=['u_x', 'u_y','u_z'])\n",
    "    print(df.columns)\n",
    "    print(lst_features_sel[index])\n",
    "    if feature_selection:\n",
    "        X=np.array(X[lst_features_sel[index]])\n",
    "        h_position=lst_features_sel[index].index('h')\n",
    "    else:\n",
    "        X=np.array(X)   \n",
    "    y = np.array(df[['u_x', 'u_y']])\n",
    "    \n",
    "    #Splitting Matrices\n",
    "    X_tr, X_temp, y_tr, y_temp = train_test_split(X, y, test_size=test_dim+validate_dim, random_state=rnd_state)\n",
    "    X_te, X_va, y_te, y_va = train_test_split(X_temp, y_temp, test_size=validate_dim/(test_dim+validate_dim), random_state=rnd_state)\n",
    "    X_temp = None\n",
    "    y_temp = None\n",
    "    \n",
    "    print ('X_te_hs.shape: ',X_te[0])\n",
    "    #Make a list with differet heights\n",
    "    if feature_selection:\n",
    "        X_te_hs, y_te_hs = split_hs_test(X_te,y_te,h_pos=h_position)\n",
    "    else:\n",
    "        X_te_hs, y_te_hs = split_hs_test(X_te,y_te)\n",
    "    #print ('X_te_hs.shape: ',X_te_hs[0][3,:])\n",
    "    \n",
    "    #Fit the model \n",
    "    model.fit(X_tr,y_tr)\n",
    "    \n",
    "    y_pred_hs=[]\n",
    "    mag_avg_pred=[]\n",
    "    for hs in X_te_hs:\n",
    "        ans=model.predict(hs)\n",
    "        y_pred_hs.append(ans)\n",
    "        ans=np.sqrt(ans[:,0]**2+ans[:,1]**2).mean()\n",
    "        mag_avg_pred.append(ans)\n",
    "    mag_avg_pred.append(names[index])\n",
    "    mag_avg_pred_results.append(mag_avg_pred)\n",
    "\n",
    "    \n",
    "    mses=[]\n",
    "    mag_avg_true=[]\n",
    "    for idx,i in enumerate(y_pred_hs):\n",
    "        mses.append(mean_squared_error(y_te_hs[idx],i))\n",
    "        ans=y_te_hs[idx]\n",
    "        ans=np.sqrt(ans[:,0]**2+ans[:,1]**2).mean()\n",
    "        mag_avg_true.append(ans)\n",
    "    mses.append(names[index])\n",
    "    mag_avg_true.append(names[index])\n",
    "    mses_results.append(mses)\n",
    "    mag_avg_true_results.append(mag_avg_true)\n",
    "    \n",
    "    r_2s=[]\n",
    "    for idx,i in enumerate(y_pred_hs):\n",
    "        r_2s.append(r2_score(y_te_hs[idx],i))\n",
    "    r_2s.append(names[index])\n",
    "    r_2s_results.append(r_2s)\n",
    "    \n",
    "    plot_ys(y_pred_hs,y_te_hs,RESULTS_FOLDER+'/images/',save=True,name=(names[index]+'-'))"
   ]
  },
  {
   "cell_type": "code",
   "execution_count": null,
   "metadata": {},
   "outputs": [],
   "source": [
    "mses_results_df=pd.DataFrame(mses_results)\n",
    "mses_results_df.to_csv(RESULTS_FOLDER+'mses_results.txt',header=None, sep=',', mode='a')"
   ]
  },
  {
   "cell_type": "code",
   "execution_count": null,
   "metadata": {},
   "outputs": [],
   "source": [
    "r_2s_results_df=pd.DataFrame(r_2s_results)\n",
    "r_2s_results_df.to_csv(RESULTS_FOLDER+'r_2s_results.txt',header=None, sep=',', mode='a')"
   ]
  },
  {
   "cell_type": "code",
   "execution_count": null,
   "metadata": {},
   "outputs": [],
   "source": [
    "pd.DataFrame(mag_avg_pred_results).to_csv(RESULTS_FOLDER+'magnitude_average_pred.txt',header=None, sep=',', mode='a')\n",
    "pd.DataFrame(mag_avg_true_results).to_csv(RESULTS_FOLDER+'magnitude_average_true.txt',header=None, sep=',', mode='a')"
   ]
  },
  {
   "cell_type": "code",
   "execution_count": null,
   "metadata": {},
   "outputs": [],
   "source": [
    "print('JOB Finished')"
   ]
  },
  {
   "cell_type": "code",
   "execution_count": null,
   "metadata": {},
   "outputs": [],
   "source": []
  }
 ],
 "metadata": {
  "kernelspec": {
   "display_name": "Python 3",
   "language": "python",
   "name": "python3"
  },
  "language_info": {
   "codemirror_mode": {
    "name": "ipython",
    "version": 3
   },
   "file_extension": ".py",
   "mimetype": "text/x-python",
   "name": "python",
   "nbconvert_exporter": "python",
   "pygments_lexer": "ipython3",
   "version": "3.6.5"
  }
 },
 "nbformat": 4,
 "nbformat_minor": 2
}
