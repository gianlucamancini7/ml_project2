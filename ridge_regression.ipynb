{
 "cells": [
  {
   "cell_type": "code",
   "execution_count": 1,
   "metadata": {},
   "outputs": [],
   "source": [
    "import pandas as pd\n",
    "import numpy as np\n",
    "import matplotlib.pyplot as plt\n",
    "from IPython.core import display as ICD\n",
    "import seaborn as sns\n",
    "import glob\n",
    "import scipy\n",
    "import os\n",
    "pd.set_option('display.max_columns', 100)"
   ]
  },
  {
   "cell_type": "code",
   "execution_count": 2,
   "metadata": {},
   "outputs": [],
   "source": [
    "# import scikit learn packages\n",
    "\n",
    "from sklearn.linear_model import Ridge\n",
    "from sklearn.model_selection import cross_val_predict\n",
    "from sklearn.model_selection import cross_val_score\n",
    "from sklearn.metrics import confusion_matrix\n",
    "from sklearn.model_selection import train_test_split\n",
    "from sklearn.metrics import mean_squared_error\n",
    "from sklearn.linear_model import RidgeCV\n",
    "from sklearn.preprocessing import StandardScaler\n",
    "from sklearn.preprocessing import PolynomialFeatures\n",
    "from sklearn.decomposition import PCA\n",
    "\n",
    "from sklearn.pipeline import make_pipeline"
   ]
  },
  {
   "cell_type": "code",
   "execution_count": 3,
   "metadata": {},
   "outputs": [],
   "source": [
    "DATA_FOLDER = './data_extractor_scripts/'"
   ]
  },
  {
   "cell_type": "markdown",
   "metadata": {},
   "source": [
    "### Regression matrix manipulation"
   ]
  },
  {
   "cell_type": "markdown",
   "metadata": {},
   "source": [
    "Here we are going to handle the albedo case if needed"
   ]
  },
  {
   "cell_type": "code",
   "execution_count": null,
   "metadata": {},
   "outputs": [],
   "source": [
    "# tot_df[tot_df['Albedo [-]']==-np.inf]\n",
    "#tot_df.index[np.isinf(tot_df).any(1)]\n",
    "#tot_df.columns.to_series()[np.isinf(tot_df).any()]\n",
    "#plt.plot(tot_df['Albedo [-]'].drop(np.inf))\n",
    "#tot_df[~tot_df.isin([np.inf, -np.inf]).any(1)]['Albedo [-]'].plot()"
   ]
  },
  {
   "cell_type": "markdown",
   "metadata": {},
   "source": [
    "Importing regression matrix"
   ]
  },
  {
   "cell_type": "code",
   "execution_count": null,
   "metadata": {},
   "outputs": [],
   "source": [
    "tot_df=pd.read_csv()"
   ]
  },
  {
   "cell_type": "markdown",
   "metadata": {},
   "source": [
    "Transform absolute value and direction in vector components"
   ]
  },
  {
   "cell_type": "code",
   "execution_count": null,
   "metadata": {},
   "outputs": [],
   "source": [
    "# create columns with coordinate velocities output\n",
    "tot_df['u_x']=tot_df['u']*np.cos(np.radians(tot_df['direction']))\n",
    "tot_df['u_y']=tot_df['u']*np.sin(np.radians(tot_df['direction']))"
   ]
  },
  {
   "cell_type": "code",
   "execution_count": null,
   "metadata": {},
   "outputs": [],
   "source": [
    "# create columns with coordinate velocities input top mast anemometer\n",
    "tot_df['u_top_x']=tot_df['u_top']*np.cos(np.radians(tot_df['direction_top']))\n",
    "tot_df['u_top_y']=tot_df['u_top']*np.sin(np.radians(tot_df['direction_top']))"
   ]
  },
  {
   "cell_type": "code",
   "execution_count": null,
   "metadata": {},
   "outputs": [],
   "source": [
    "# drop the columns which are not used anymore\n",
    "tot_df=tot_df.drop(columns=['u', 'u_top', 'direction', 'direction_top'])"
   ]
  },
  {
   "cell_type": "markdown",
   "metadata": {},
   "source": [
    "### Splitting Data"
   ]
  },
  {
   "cell_type": "code",
   "execution_count": null,
   "metadata": {},
   "outputs": [],
   "source": [
    "X = np.array(tot_df.drop(columns=['u_x', 'u_y']))\n",
    "y = np.array(tot_df[['u_x', 'u_y']])"
   ]
  },
  {
   "cell_type": "code",
   "execution_count": null,
   "metadata": {
    "scrolled": true
   },
   "outputs": [],
   "source": [
    "X_tr, X_te, y_tr, y_te = train_test_split(X, y, test_size=0.5, random_state=42)"
   ]
  },
  {
   "cell_type": "markdown",
   "metadata": {},
   "source": [
    "### Regression"
   ]
  },
  {
   "cell_type": "code",
   "execution_count": null,
   "metadata": {},
   "outputs": [],
   "source": [
    "#plot functions\n",
    "def plot_ys(y_pred,y_te,interval=[100,200]):\n",
    "\n",
    "    fig=plt.figure(figsize=(16,12))\n",
    "\n",
    "    plt.subplot(221)\n",
    "    plt.gca().set_title('u_x')\n",
    "    plt.plot(y_pred[interval[0]:interval[1],0],'r-',label='u_x_pred')\n",
    "    plt.plot(y_te[interval[0]:interval[1],0],'b-',label='u_x_test')\n",
    "    plt.xlabel('t')\n",
    "    plt.ylabel('u_x')\n",
    "    plt.legend()\n",
    "\n",
    "    plt.subplot(222)\n",
    "    plt.gca().set_title('u_y')\n",
    "    plt.plot(y_pred[interval[0]:interval[1],1],'r-',label='u_y_pred')\n",
    "    plt.plot(y_te[interval[0]:interval[1],1],'b-',label='u_y_test')\n",
    "    plt.xlabel('t')\n",
    "    plt.ylabel('u_y')\n",
    "    plt.legend()\n",
    "\n",
    "    plt.show()"
   ]
  },
  {
   "cell_type": "markdown",
   "metadata": {},
   "source": [
    "Optimize the ridge regression parameter"
   ]
  },
  {
   "cell_type": "code",
   "execution_count": null,
   "metadata": {},
   "outputs": [],
   "source": [
    "alphas=np.logspace(-1,10,100)\n",
    "\n",
    "#leave one out method is used\n",
    "clf_cv = RidgeCV(alphas, cv=None, store_cv_values=True)\n",
    "clf_cv.fit(X_tr, y_tr) \n",
    "\n",
    "# number of datapoints, number of targets, number of alphas\n",
    "# it already contains the mse\n",
    "mse_all_folds=clf_cv.cv_values_\n",
    "mse_means=np.mean(mse_all_folds, axis=0)\n",
    "ax=plt.gca()\n",
    "u_x,=ax.plot(alphas,mse_means[0],'r-',label='MSE u_x')\n",
    "u_y,=ax.plot(alphas,mse_means[1],'b-',label='MSE u_y')\n",
    "plt.xscale('log')\n",
    "plt.xlabel('Alphas')\n",
    "plt.ylabel('MSE')\n",
    "ax.legend()"
   ]
  },
  {
   "cell_type": "markdown",
   "metadata": {},
   "source": [
    "Optimize the ridge regression parameter with standardization"
   ]
  },
  {
   "cell_type": "code",
   "execution_count": null,
   "metadata": {},
   "outputs": [],
   "source": [
    "alphas=np.logspace(-1,10,100)\n",
    "\n",
    "#stadardize the data\n",
    "\n",
    "scaler = StandardScaler()\n",
    "#define mean and standard based on the test data\n",
    "scaler.fit(X_tr)\n",
    "X_tr_scaled=scaler.transform(X_tr)\n",
    "X_te_scaled=scaler.transform(X_te)\n",
    "\n",
    "\n",
    "#leave one out method is used\n",
    "clf_cv = RidgeCV(alphas, cv=None, store_cv_values=True)\n",
    "clf_cv.fit(X_tr_scaled, y_tr) \n",
    "\n",
    "# number of datapoints, number of targets, number of alphas\n",
    "# it already contains the mse\n",
    "mse_all_folds=clf_cv.cv_values_\n",
    "mse_means=np.mean(mse_all_folds, axis=0)\n",
    "ax=plt.gca()\n",
    "\n",
    "u_x_mse_train,=ax.plot(alphas,mse_means[0],'r-',label='MSE u_x train')\n",
    "u_y_mse_train,=ax.plot(alphas,mse_means[1],'b-',label='MSE u_y train')\n",
    "u_mean_mse_train,=ax.plot(alphas,np.mean(mse_means, axis=0),'g-',label='MSE u mean train')\n",
    "\n",
    "mse_u_test=[]\n",
    "\n",
    "for alpha in alphas:\n",
    "    \n",
    "    clf = Ridge(alpha)\n",
    "    clf.fit(X_tr_scaled, y_tr) \n",
    "    mse_u_test.append(mean_squared_error(y_te,clf.predict(X_te_scaled)))\n",
    "\n",
    "u_mse_test,=ax.plot(alphas,mse_u_test,'g--',label='MSE u mean test')\n",
    "\n",
    "plt.xscale('log')\n",
    "plt.xlabel('Alphas')\n",
    "plt.ylabel('MSE')\n",
    "ax.legend()"
   ]
  },
  {
   "cell_type": "code",
   "execution_count": null,
   "metadata": {},
   "outputs": [],
   "source": [
    "plot_ys(clf_cv.predict(X_te_scaled),y_te)"
   ]
  },
  {
   "cell_type": "markdown",
   "metadata": {},
   "source": [
    "Optimize the ridge regression parameter with standardization and polynomial feature expansion"
   ]
  },
  {
   "cell_type": "code",
   "execution_count": null,
   "metadata": {},
   "outputs": [],
   "source": [
    "alphas=np.logspace(-10,10,100)\n",
    "degree=5\n",
    "\n",
    "#define pipeline\n",
    "model = make_pipeline(StandardScaler(),PolynomialFeatures(degree), RidgeCV(alphas))\n",
    "\n",
    "model.fit(X_tr,y_tr)\n",
    "y_pred3 = model.predict(X_te)\n",
    "\n",
    "mse = mean_squared_error(y_te,y_pred3)\n",
    "mse"
   ]
  },
  {
   "cell_type": "code",
   "execution_count": null,
   "metadata": {},
   "outputs": [],
   "source": [
    "plot_ys(y_pred3,y_te,[200,300])"
   ]
  },
  {
   "cell_type": "markdown",
   "metadata": {},
   "source": [
    "Ridge regression with PCA"
   ]
  },
  {
   "cell_type": "code",
   "execution_count": null,
   "metadata": {},
   "outputs": [],
   "source": [
    "alphas=np.logspace(-10,10,100)\n",
    "\n",
    "#define pipeline\n",
    "model = make_pipeline(PCA(n_components = 3), RidgeCV(alphas))\n",
    "\n",
    "model.fit(X_tr,y_tr)\n",
    "y_pred4 = model.predict(X_te)\n",
    "\n",
    "mse = mean_squared_error(y_te,y_pred4)\n",
    "mse\n",
    "#0.31212712287932676"
   ]
  },
  {
   "cell_type": "code",
   "execution_count": null,
   "metadata": {},
   "outputs": [],
   "source": [
    "plot_ys(y_pred4,y_te)"
   ]
  },
  {
   "cell_type": "markdown",
   "metadata": {},
   "source": [
    "Get the mean squared error"
   ]
  },
  {
   "cell_type": "code",
   "execution_count": null,
   "metadata": {
    "scrolled": true
   },
   "outputs": [],
   "source": []
  },
  {
   "cell_type": "code",
   "execution_count": null,
   "metadata": {},
   "outputs": [],
   "source": []
  }
 ],
 "metadata": {
  "kernelspec": {
   "display_name": "Python 3",
   "language": "python",
   "name": "python3"
  },
  "language_info": {
   "codemirror_mode": {
    "name": "ipython",
    "version": 3
   },
   "file_extension": ".py",
   "mimetype": "text/x-python",
   "name": "python",
   "nbconvert_exporter": "python",
   "pygments_lexer": "ipython3",
   "version": "3.6.5"
  }
 },
 "nbformat": 4,
 "nbformat_minor": 2
}
