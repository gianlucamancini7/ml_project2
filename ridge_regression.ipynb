{
 "cells": [
  {
   "cell_type": "code",
   "execution_count": 1,
   "metadata": {},
   "outputs": [],
   "source": [
    "import pandas as pd\n",
    "import numpy as np\n",
    "import matplotlib.pyplot as plt\n",
    "from IPython.core import display as ICD\n",
    "import seaborn as sns\n",
    "import glob\n",
    "import scipy\n",
    "import os\n",
    "pd.set_option('display.max_columns', 100)"
   ]
  },
  {
   "cell_type": "code",
   "execution_count": 88,
   "metadata": {},
   "outputs": [],
   "source": [
    "# import scikit learn packages\n",
    "\n",
    "from sklearn.linear_model import Ridge\n",
    "from sklearn.model_selection import cross_val_predict\n",
    "from sklearn.model_selection import cross_val_score\n",
    "from sklearn.metrics import confusion_matrix\n",
    "from sklearn.model_selection import train_test_split\n",
    "from sklearn.metrics import mean_squared_error\n",
    "from sklearn.linear_model import RidgeCV\n",
    "from sklearn.preprocessing import StandardScaler"
   ]
  },
  {
   "cell_type": "code",
   "execution_count": 2,
   "metadata": {},
   "outputs": [],
   "source": [
    "DATA_FOLDER = './avg_data/'"
   ]
  },
  {
   "cell_type": "markdown",
   "metadata": {},
   "source": [
    "### Regression matrix creation"
   ]
  },
  {
   "cell_type": "code",
   "execution_count": 3,
   "metadata": {},
   "outputs": [],
   "source": [
    "def vectorize_wind(df):\n",
    "    u=np.array(df.iloc[:,0])\n",
    "    dir_=np.array(df.iloc[:,1])\n",
    "    df.iloc[:,:2]=pd.Dataframe(np.hstack)\n",
    "    return "
   ]
  },
  {
   "cell_type": "code",
   "execution_count": 4,
   "metadata": {},
   "outputs": [
    {
     "data": {
      "text/plain": [
       "['surf_temp.txt',\n",
       " 'radiometer.csv',\n",
       " 'anem2.txt',\n",
       " 'anem3.txt',\n",
       " 'anem1.txt',\n",
       " 'anem4.txt',\n",
       " 'anem5.txt',\n",
       " 'anem7.txt',\n",
       " 'anem6.txt']"
      ]
     },
     "execution_count": 4,
     "metadata": {},
     "output_type": "execute_result"
    }
   ],
   "source": [
    "os.listdir(DATA_FOLDER)"
   ]
  },
  {
   "cell_type": "code",
   "execution_count": 5,
   "metadata": {},
   "outputs": [],
   "source": [
    "all_anem=glob.glob(DATA_FOLDER + \"anem*\")\n",
    "mast_anem=all_anem[:6]\n",
    "top_anem=all_anem[6]"
   ]
  },
  {
   "cell_type": "code",
   "execution_count": 6,
   "metadata": {
    "scrolled": true
   },
   "outputs": [
    {
     "data": {
      "text/html": [
       "<div>\n",
       "<style scoped>\n",
       "    .dataframe tbody tr th:only-of-type {\n",
       "        vertical-align: middle;\n",
       "    }\n",
       "\n",
       "    .dataframe tbody tr th {\n",
       "        vertical-align: top;\n",
       "    }\n",
       "\n",
       "    .dataframe thead th {\n",
       "        text-align: right;\n",
       "    }\n",
       "</style>\n",
       "<table border=\"1\" class=\"dataframe\">\n",
       "  <thead>\n",
       "    <tr style=\"text-align: right;\">\n",
       "      <th></th>\n",
       "      <th>u</th>\n",
       "      <th>direction</th>\n",
       "      <th>h</th>\n",
       "    </tr>\n",
       "  </thead>\n",
       "  <tbody>\n",
       "    <tr>\n",
       "      <th>2018-11-14 00:00:00</th>\n",
       "      <td>0.66</td>\n",
       "      <td>160.0</td>\n",
       "      <td>1.5</td>\n",
       "    </tr>\n",
       "    <tr>\n",
       "      <th>2018-11-14 00:01:00</th>\n",
       "      <td>0.69</td>\n",
       "      <td>187.0</td>\n",
       "      <td>1.5</td>\n",
       "    </tr>\n",
       "    <tr>\n",
       "      <th>2018-11-14 00:02:00</th>\n",
       "      <td>0.42</td>\n",
       "      <td>133.0</td>\n",
       "      <td>1.5</td>\n",
       "    </tr>\n",
       "    <tr>\n",
       "      <th>2018-11-14 00:03:00</th>\n",
       "      <td>0.58</td>\n",
       "      <td>179.0</td>\n",
       "      <td>1.5</td>\n",
       "    </tr>\n",
       "    <tr>\n",
       "      <th>2018-11-14 00:04:00</th>\n",
       "      <td>0.49</td>\n",
       "      <td>213.0</td>\n",
       "      <td>1.5</td>\n",
       "    </tr>\n",
       "  </tbody>\n",
       "</table>\n",
       "</div>"
      ],
      "text/plain": [
       "                        u  direction    h\n",
       "2018-11-14 00:00:00  0.66      160.0  1.5\n",
       "2018-11-14 00:01:00  0.69      187.0  1.5\n",
       "2018-11-14 00:02:00  0.42      133.0  1.5\n",
       "2018-11-14 00:03:00  0.58      179.0  1.5\n",
       "2018-11-14 00:04:00  0.49      213.0  1.5"
      ]
     },
     "execution_count": 6,
     "metadata": {},
     "output_type": "execute_result"
    }
   ],
   "source": [
    "only_mag=True\n",
    "h=np.arange(1.5,22,4)\n",
    "df_list=[]\n",
    "for idx,i in enumerate(mast_anem):\n",
    "    df_temp=pd.read_csv(i, sep=\" \", header=None, index_col=0, names=['u','direction'])\n",
    "    df_temp['h']=h[idx]\n",
    "    df_list.append(df_temp)\n",
    "mast_anem_df = pd.concat(df_list)\n",
    "mast_anem_df.head()\n"
   ]
  },
  {
   "cell_type": "code",
   "execution_count": 7,
   "metadata": {},
   "outputs": [],
   "source": [
    "rad_df = pd.read_csv(DATA_FOLDER+'radiometer.csv', sep=\" \",index_col=0)\n",
    "temp_df = pd.read_csv(DATA_FOLDER+'surf_temp.txt', sep=\" \",index_col=0)\n",
    "top_anem_df = pd.read_csv(top_anem, sep=\" \",index_col=0,names=['u_top','direction_top'])"
   ]
  },
  {
   "cell_type": "code",
   "execution_count": 8,
   "metadata": {
    "scrolled": false
   },
   "outputs": [
    {
     "data": {
      "text/html": [
       "<div>\n",
       "<style scoped>\n",
       "    .dataframe tbody tr th:only-of-type {\n",
       "        vertical-align: middle;\n",
       "    }\n",
       "\n",
       "    .dataframe tbody tr th {\n",
       "        vertical-align: top;\n",
       "    }\n",
       "\n",
       "    .dataframe thead th {\n",
       "        text-align: right;\n",
       "    }\n",
       "</style>\n",
       "<table border=\"1\" class=\"dataframe\">\n",
       "  <thead>\n",
       "    <tr style=\"text-align: right;\">\n",
       "      <th></th>\n",
       "      <th>u_top</th>\n",
       "      <th>direction_top</th>\n",
       "      <th>Pyranometer Upper Irradiance [W/m$^2$]</th>\n",
       "      <th>Pyranometer Lower Irradiance [W/m$^2$]</th>\n",
       "      <th>Pyrgeometer Upper Irradiance [W/m$^2$]</th>\n",
       "      <th>Pyrgeometer Lower Irradiance [W/m$^2$]</th>\n",
       "      <th>Albedo [-]</th>\n",
       "      <th>Net Solar radiation [W/m$^2$]</th>\n",
       "      <th>Net (total) radiation [W/m$^2$]</th>\n",
       "      <th>Net Far Infrared radiation [W/m$^2$]</th>\n",
       "      <th>Sky temperature [°C]</th>\n",
       "      <th>Radiometer Ground temperature [°C]</th>\n",
       "      <th>Sensor Ground temperature [°C]</th>\n",
       "      <th>North temperature [°C]</th>\n",
       "      <th>East temperature [°C]</th>\n",
       "      <th>South temperature [°C]</th>\n",
       "      <th>West temperature [°C]</th>\n",
       "    </tr>\n",
       "  </thead>\n",
       "  <tbody>\n",
       "    <tr>\n",
       "      <th>2018-11-14 00:00:00</th>\n",
       "      <td>2.76</td>\n",
       "      <td>298.0</td>\n",
       "      <td>1.8</td>\n",
       "      <td>-2.9</td>\n",
       "      <td>369.0</td>\n",
       "      <td>364.7</td>\n",
       "      <td>-1.1</td>\n",
       "      <td>4.7</td>\n",
       "      <td>9.0</td>\n",
       "      <td>4.3</td>\n",
       "      <td>10.9</td>\n",
       "      <td>10.0</td>\n",
       "      <td>10.5</td>\n",
       "      <td>13.1</td>\n",
       "      <td>11.8</td>\n",
       "      <td>11.6</td>\n",
       "      <td>10.5</td>\n",
       "    </tr>\n",
       "    <tr>\n",
       "      <th>2018-11-14 00:01:00</th>\n",
       "      <td>2.61</td>\n",
       "      <td>316.0</td>\n",
       "      <td>2.2</td>\n",
       "      <td>-0.0</td>\n",
       "      <td>371.7</td>\n",
       "      <td>365.8</td>\n",
       "      <td>0.6</td>\n",
       "      <td>2.2</td>\n",
       "      <td>8.1</td>\n",
       "      <td>5.9</td>\n",
       "      <td>11.4</td>\n",
       "      <td>10.3</td>\n",
       "      <td>10.5</td>\n",
       "      <td>13.1</td>\n",
       "      <td>11.8</td>\n",
       "      <td>11.6</td>\n",
       "      <td>10.5</td>\n",
       "    </tr>\n",
       "    <tr>\n",
       "      <th>2018-11-14 00:02:00</th>\n",
       "      <td>2.83</td>\n",
       "      <td>306.0</td>\n",
       "      <td>2.4</td>\n",
       "      <td>-2.1</td>\n",
       "      <td>370.7</td>\n",
       "      <td>366.0</td>\n",
       "      <td>-0.7</td>\n",
       "      <td>4.5</td>\n",
       "      <td>9.2</td>\n",
       "      <td>4.7</td>\n",
       "      <td>11.2</td>\n",
       "      <td>10.3</td>\n",
       "      <td>10.5</td>\n",
       "      <td>13.1</td>\n",
       "      <td>11.8</td>\n",
       "      <td>11.6</td>\n",
       "      <td>10.5</td>\n",
       "    </tr>\n",
       "    <tr>\n",
       "      <th>2018-11-14 00:03:00</th>\n",
       "      <td>2.24</td>\n",
       "      <td>259.0</td>\n",
       "      <td>1.6</td>\n",
       "      <td>-0.8</td>\n",
       "      <td>369.0</td>\n",
       "      <td>368.5</td>\n",
       "      <td>-0.1</td>\n",
       "      <td>2.4</td>\n",
       "      <td>3.0</td>\n",
       "      <td>0.5</td>\n",
       "      <td>10.9</td>\n",
       "      <td>10.8</td>\n",
       "      <td>10.5</td>\n",
       "      <td>13.1</td>\n",
       "      <td>11.8</td>\n",
       "      <td>11.6</td>\n",
       "      <td>10.6</td>\n",
       "    </tr>\n",
       "    <tr>\n",
       "      <th>2018-11-14 00:04:00</th>\n",
       "      <td>2.78</td>\n",
       "      <td>324.0</td>\n",
       "      <td>3.3</td>\n",
       "      <td>-2.6</td>\n",
       "      <td>370.0</td>\n",
       "      <td>365.9</td>\n",
       "      <td>0.1</td>\n",
       "      <td>5.9</td>\n",
       "      <td>10.0</td>\n",
       "      <td>4.1</td>\n",
       "      <td>11.1</td>\n",
       "      <td>10.3</td>\n",
       "      <td>10.5</td>\n",
       "      <td>13.1</td>\n",
       "      <td>11.8</td>\n",
       "      <td>11.6</td>\n",
       "      <td>10.6</td>\n",
       "    </tr>\n",
       "  </tbody>\n",
       "</table>\n",
       "</div>"
      ],
      "text/plain": [
       "                     u_top  direction_top  \\\n",
       "2018-11-14 00:00:00   2.76          298.0   \n",
       "2018-11-14 00:01:00   2.61          316.0   \n",
       "2018-11-14 00:02:00   2.83          306.0   \n",
       "2018-11-14 00:03:00   2.24          259.0   \n",
       "2018-11-14 00:04:00   2.78          324.0   \n",
       "\n",
       "                     Pyranometer Upper Irradiance [W/m$^2$]  \\\n",
       "2018-11-14 00:00:00                                     1.8   \n",
       "2018-11-14 00:01:00                                     2.2   \n",
       "2018-11-14 00:02:00                                     2.4   \n",
       "2018-11-14 00:03:00                                     1.6   \n",
       "2018-11-14 00:04:00                                     3.3   \n",
       "\n",
       "                     Pyranometer Lower Irradiance [W/m$^2$]  \\\n",
       "2018-11-14 00:00:00                                    -2.9   \n",
       "2018-11-14 00:01:00                                    -0.0   \n",
       "2018-11-14 00:02:00                                    -2.1   \n",
       "2018-11-14 00:03:00                                    -0.8   \n",
       "2018-11-14 00:04:00                                    -2.6   \n",
       "\n",
       "                     Pyrgeometer Upper Irradiance [W/m$^2$]  \\\n",
       "2018-11-14 00:00:00                                   369.0   \n",
       "2018-11-14 00:01:00                                   371.7   \n",
       "2018-11-14 00:02:00                                   370.7   \n",
       "2018-11-14 00:03:00                                   369.0   \n",
       "2018-11-14 00:04:00                                   370.0   \n",
       "\n",
       "                     Pyrgeometer Lower Irradiance [W/m$^2$]  Albedo [-]  \\\n",
       "2018-11-14 00:00:00                                   364.7        -1.1   \n",
       "2018-11-14 00:01:00                                   365.8         0.6   \n",
       "2018-11-14 00:02:00                                   366.0        -0.7   \n",
       "2018-11-14 00:03:00                                   368.5        -0.1   \n",
       "2018-11-14 00:04:00                                   365.9         0.1   \n",
       "\n",
       "                     Net Solar radiation [W/m$^2$]  \\\n",
       "2018-11-14 00:00:00                            4.7   \n",
       "2018-11-14 00:01:00                            2.2   \n",
       "2018-11-14 00:02:00                            4.5   \n",
       "2018-11-14 00:03:00                            2.4   \n",
       "2018-11-14 00:04:00                            5.9   \n",
       "\n",
       "                     Net (total) radiation [W/m$^2$]  \\\n",
       "2018-11-14 00:00:00                              9.0   \n",
       "2018-11-14 00:01:00                              8.1   \n",
       "2018-11-14 00:02:00                              9.2   \n",
       "2018-11-14 00:03:00                              3.0   \n",
       "2018-11-14 00:04:00                             10.0   \n",
       "\n",
       "                     Net Far Infrared radiation [W/m$^2$]  \\\n",
       "2018-11-14 00:00:00                                   4.3   \n",
       "2018-11-14 00:01:00                                   5.9   \n",
       "2018-11-14 00:02:00                                   4.7   \n",
       "2018-11-14 00:03:00                                   0.5   \n",
       "2018-11-14 00:04:00                                   4.1   \n",
       "\n",
       "                     Sky temperature [°C]  Radiometer Ground temperature [°C]  \\\n",
       "2018-11-14 00:00:00                  10.9                                10.0   \n",
       "2018-11-14 00:01:00                  11.4                                10.3   \n",
       "2018-11-14 00:02:00                  11.2                                10.3   \n",
       "2018-11-14 00:03:00                  10.9                                10.8   \n",
       "2018-11-14 00:04:00                  11.1                                10.3   \n",
       "\n",
       "                     Sensor Ground temperature [°C]  North temperature [°C]  \\\n",
       "2018-11-14 00:00:00                            10.5                    13.1   \n",
       "2018-11-14 00:01:00                            10.5                    13.1   \n",
       "2018-11-14 00:02:00                            10.5                    13.1   \n",
       "2018-11-14 00:03:00                            10.5                    13.1   \n",
       "2018-11-14 00:04:00                            10.5                    13.1   \n",
       "\n",
       "                     East temperature [°C]  South temperature [°C]  \\\n",
       "2018-11-14 00:00:00                   11.8                    11.6   \n",
       "2018-11-14 00:01:00                   11.8                    11.6   \n",
       "2018-11-14 00:02:00                   11.8                    11.6   \n",
       "2018-11-14 00:03:00                   11.8                    11.6   \n",
       "2018-11-14 00:04:00                   11.8                    11.6   \n",
       "\n",
       "                     West temperature [°C]  \n",
       "2018-11-14 00:00:00                   10.5  \n",
       "2018-11-14 00:01:00                   10.5  \n",
       "2018-11-14 00:02:00                   10.5  \n",
       "2018-11-14 00:03:00                   10.6  \n",
       "2018-11-14 00:04:00                   10.6  "
      ]
     },
     "execution_count": 8,
     "metadata": {},
     "output_type": "execute_result"
    }
   ],
   "source": [
    "time_var_df = top_anem_df.merge(rad_df,how='left', left_index=True,right_index=True)\n",
    "time_var_df = time_var_df.merge(temp_df,how='left', left_index=True,right_index=True)\n",
    "time_var_df.head()"
   ]
  },
  {
   "cell_type": "code",
   "execution_count": 9,
   "metadata": {
    "scrolled": false
   },
   "outputs": [
    {
     "data": {
      "text/html": [
       "<div>\n",
       "<style scoped>\n",
       "    .dataframe tbody tr th:only-of-type {\n",
       "        vertical-align: middle;\n",
       "    }\n",
       "\n",
       "    .dataframe tbody tr th {\n",
       "        vertical-align: top;\n",
       "    }\n",
       "\n",
       "    .dataframe thead th {\n",
       "        text-align: right;\n",
       "    }\n",
       "</style>\n",
       "<table border=\"1\" class=\"dataframe\">\n",
       "  <thead>\n",
       "    <tr style=\"text-align: right;\">\n",
       "      <th></th>\n",
       "      <th>u</th>\n",
       "      <th>direction</th>\n",
       "      <th>h</th>\n",
       "      <th>u_top</th>\n",
       "      <th>direction_top</th>\n",
       "      <th>Pyranometer Upper Irradiance [W/m$^2$]</th>\n",
       "      <th>Pyranometer Lower Irradiance [W/m$^2$]</th>\n",
       "      <th>Pyrgeometer Upper Irradiance [W/m$^2$]</th>\n",
       "      <th>Pyrgeometer Lower Irradiance [W/m$^2$]</th>\n",
       "      <th>Net Solar radiation [W/m$^2$]</th>\n",
       "      <th>Net (total) radiation [W/m$^2$]</th>\n",
       "      <th>Net Far Infrared radiation [W/m$^2$]</th>\n",
       "      <th>Sky temperature [°C]</th>\n",
       "      <th>Radiometer Ground temperature [°C]</th>\n",
       "      <th>Sensor Ground temperature [°C]</th>\n",
       "      <th>North temperature [°C]</th>\n",
       "      <th>East temperature [°C]</th>\n",
       "      <th>South temperature [°C]</th>\n",
       "      <th>West temperature [°C]</th>\n",
       "    </tr>\n",
       "  </thead>\n",
       "  <tbody>\n",
       "    <tr>\n",
       "      <th>2018-11-14 00:00:00</th>\n",
       "      <td>0.66</td>\n",
       "      <td>160.0</td>\n",
       "      <td>1.5</td>\n",
       "      <td>2.76</td>\n",
       "      <td>298.0</td>\n",
       "      <td>1.8</td>\n",
       "      <td>-2.9</td>\n",
       "      <td>369.0</td>\n",
       "      <td>364.7</td>\n",
       "      <td>4.7</td>\n",
       "      <td>9.0</td>\n",
       "      <td>4.3</td>\n",
       "      <td>10.9</td>\n",
       "      <td>10.0</td>\n",
       "      <td>10.5</td>\n",
       "      <td>13.1</td>\n",
       "      <td>11.8</td>\n",
       "      <td>11.6</td>\n",
       "      <td>10.5</td>\n",
       "    </tr>\n",
       "    <tr>\n",
       "      <th>2018-11-14 00:00:00</th>\n",
       "      <td>0.91</td>\n",
       "      <td>225.0</td>\n",
       "      <td>5.5</td>\n",
       "      <td>2.76</td>\n",
       "      <td>298.0</td>\n",
       "      <td>1.8</td>\n",
       "      <td>-2.9</td>\n",
       "      <td>369.0</td>\n",
       "      <td>364.7</td>\n",
       "      <td>4.7</td>\n",
       "      <td>9.0</td>\n",
       "      <td>4.3</td>\n",
       "      <td>10.9</td>\n",
       "      <td>10.0</td>\n",
       "      <td>10.5</td>\n",
       "      <td>13.1</td>\n",
       "      <td>11.8</td>\n",
       "      <td>11.6</td>\n",
       "      <td>10.5</td>\n",
       "    </tr>\n",
       "    <tr>\n",
       "      <th>2018-11-14 00:00:00</th>\n",
       "      <td>0.57</td>\n",
       "      <td>185.0</td>\n",
       "      <td>9.5</td>\n",
       "      <td>2.76</td>\n",
       "      <td>298.0</td>\n",
       "      <td>1.8</td>\n",
       "      <td>-2.9</td>\n",
       "      <td>369.0</td>\n",
       "      <td>364.7</td>\n",
       "      <td>4.7</td>\n",
       "      <td>9.0</td>\n",
       "      <td>4.3</td>\n",
       "      <td>10.9</td>\n",
       "      <td>10.0</td>\n",
       "      <td>10.5</td>\n",
       "      <td>13.1</td>\n",
       "      <td>11.8</td>\n",
       "      <td>11.6</td>\n",
       "      <td>10.5</td>\n",
       "    </tr>\n",
       "    <tr>\n",
       "      <th>2018-11-14 00:00:00</th>\n",
       "      <td>2.64</td>\n",
       "      <td>284.0</td>\n",
       "      <td>13.5</td>\n",
       "      <td>2.76</td>\n",
       "      <td>298.0</td>\n",
       "      <td>1.8</td>\n",
       "      <td>-2.9</td>\n",
       "      <td>369.0</td>\n",
       "      <td>364.7</td>\n",
       "      <td>4.7</td>\n",
       "      <td>9.0</td>\n",
       "      <td>4.3</td>\n",
       "      <td>10.9</td>\n",
       "      <td>10.0</td>\n",
       "      <td>10.5</td>\n",
       "      <td>13.1</td>\n",
       "      <td>11.8</td>\n",
       "      <td>11.6</td>\n",
       "      <td>10.5</td>\n",
       "    </tr>\n",
       "    <tr>\n",
       "      <th>2018-11-14 00:00:00</th>\n",
       "      <td>2.98</td>\n",
       "      <td>313.0</td>\n",
       "      <td>17.5</td>\n",
       "      <td>2.76</td>\n",
       "      <td>298.0</td>\n",
       "      <td>1.8</td>\n",
       "      <td>-2.9</td>\n",
       "      <td>369.0</td>\n",
       "      <td>364.7</td>\n",
       "      <td>4.7</td>\n",
       "      <td>9.0</td>\n",
       "      <td>4.3</td>\n",
       "      <td>10.9</td>\n",
       "      <td>10.0</td>\n",
       "      <td>10.5</td>\n",
       "      <td>13.1</td>\n",
       "      <td>11.8</td>\n",
       "      <td>11.6</td>\n",
       "      <td>10.5</td>\n",
       "    </tr>\n",
       "  </tbody>\n",
       "</table>\n",
       "</div>"
      ],
      "text/plain": [
       "                        u  direction     h  u_top  direction_top  \\\n",
       "2018-11-14 00:00:00  0.66      160.0   1.5   2.76          298.0   \n",
       "2018-11-14 00:00:00  0.91      225.0   5.5   2.76          298.0   \n",
       "2018-11-14 00:00:00  0.57      185.0   9.5   2.76          298.0   \n",
       "2018-11-14 00:00:00  2.64      284.0  13.5   2.76          298.0   \n",
       "2018-11-14 00:00:00  2.98      313.0  17.5   2.76          298.0   \n",
       "\n",
       "                     Pyranometer Upper Irradiance [W/m$^2$]  \\\n",
       "2018-11-14 00:00:00                                     1.8   \n",
       "2018-11-14 00:00:00                                     1.8   \n",
       "2018-11-14 00:00:00                                     1.8   \n",
       "2018-11-14 00:00:00                                     1.8   \n",
       "2018-11-14 00:00:00                                     1.8   \n",
       "\n",
       "                     Pyranometer Lower Irradiance [W/m$^2$]  \\\n",
       "2018-11-14 00:00:00                                    -2.9   \n",
       "2018-11-14 00:00:00                                    -2.9   \n",
       "2018-11-14 00:00:00                                    -2.9   \n",
       "2018-11-14 00:00:00                                    -2.9   \n",
       "2018-11-14 00:00:00                                    -2.9   \n",
       "\n",
       "                     Pyrgeometer Upper Irradiance [W/m$^2$]  \\\n",
       "2018-11-14 00:00:00                                   369.0   \n",
       "2018-11-14 00:00:00                                   369.0   \n",
       "2018-11-14 00:00:00                                   369.0   \n",
       "2018-11-14 00:00:00                                   369.0   \n",
       "2018-11-14 00:00:00                                   369.0   \n",
       "\n",
       "                     Pyrgeometer Lower Irradiance [W/m$^2$]  \\\n",
       "2018-11-14 00:00:00                                   364.7   \n",
       "2018-11-14 00:00:00                                   364.7   \n",
       "2018-11-14 00:00:00                                   364.7   \n",
       "2018-11-14 00:00:00                                   364.7   \n",
       "2018-11-14 00:00:00                                   364.7   \n",
       "\n",
       "                     Net Solar radiation [W/m$^2$]  \\\n",
       "2018-11-14 00:00:00                            4.7   \n",
       "2018-11-14 00:00:00                            4.7   \n",
       "2018-11-14 00:00:00                            4.7   \n",
       "2018-11-14 00:00:00                            4.7   \n",
       "2018-11-14 00:00:00                            4.7   \n",
       "\n",
       "                     Net (total) radiation [W/m$^2$]  \\\n",
       "2018-11-14 00:00:00                              9.0   \n",
       "2018-11-14 00:00:00                              9.0   \n",
       "2018-11-14 00:00:00                              9.0   \n",
       "2018-11-14 00:00:00                              9.0   \n",
       "2018-11-14 00:00:00                              9.0   \n",
       "\n",
       "                     Net Far Infrared radiation [W/m$^2$]  \\\n",
       "2018-11-14 00:00:00                                   4.3   \n",
       "2018-11-14 00:00:00                                   4.3   \n",
       "2018-11-14 00:00:00                                   4.3   \n",
       "2018-11-14 00:00:00                                   4.3   \n",
       "2018-11-14 00:00:00                                   4.3   \n",
       "\n",
       "                     Sky temperature [°C]  Radiometer Ground temperature [°C]  \\\n",
       "2018-11-14 00:00:00                  10.9                                10.0   \n",
       "2018-11-14 00:00:00                  10.9                                10.0   \n",
       "2018-11-14 00:00:00                  10.9                                10.0   \n",
       "2018-11-14 00:00:00                  10.9                                10.0   \n",
       "2018-11-14 00:00:00                  10.9                                10.0   \n",
       "\n",
       "                     Sensor Ground temperature [°C]  North temperature [°C]  \\\n",
       "2018-11-14 00:00:00                            10.5                    13.1   \n",
       "2018-11-14 00:00:00                            10.5                    13.1   \n",
       "2018-11-14 00:00:00                            10.5                    13.1   \n",
       "2018-11-14 00:00:00                            10.5                    13.1   \n",
       "2018-11-14 00:00:00                            10.5                    13.1   \n",
       "\n",
       "                     East temperature [°C]  South temperature [°C]  \\\n",
       "2018-11-14 00:00:00                   11.8                    11.6   \n",
       "2018-11-14 00:00:00                   11.8                    11.6   \n",
       "2018-11-14 00:00:00                   11.8                    11.6   \n",
       "2018-11-14 00:00:00                   11.8                    11.6   \n",
       "2018-11-14 00:00:00                   11.8                    11.6   \n",
       "\n",
       "                     West temperature [°C]  \n",
       "2018-11-14 00:00:00                   10.5  \n",
       "2018-11-14 00:00:00                   10.5  \n",
       "2018-11-14 00:00:00                   10.5  \n",
       "2018-11-14 00:00:00                   10.5  \n",
       "2018-11-14 00:00:00                   10.5  "
      ]
     },
     "execution_count": 9,
     "metadata": {},
     "output_type": "execute_result"
    }
   ],
   "source": [
    "tot_df=mast_anem_df.merge(time_var_df,how='left', left_index=True,right_index=True)\n",
    "tot_df = tot_df.dropna(axis=0, how='any')\n",
    "tot_df = tot_df.drop(columns=['Albedo [-]'])\n",
    "tot_df.head()"
   ]
  },
  {
   "cell_type": "markdown",
   "metadata": {},
   "source": [
    "Here we are going to handle the albedo case if needed"
   ]
  },
  {
   "cell_type": "code",
   "execution_count": 10,
   "metadata": {},
   "outputs": [],
   "source": [
    "# tot_df[tot_df['Albedo [-]']==-np.inf]\n",
    "#tot_df.index[np.isinf(tot_df).any(1)]\n",
    "#tot_df.columns.to_series()[np.isinf(tot_df).any()]\n",
    "#plt.plot(tot_df['Albedo [-]'].drop(np.inf))\n",
    "#tot_df[~tot_df.isin([np.inf, -np.inf]).any(1)]['Albedo [-]'].plot()"
   ]
  },
  {
   "cell_type": "markdown",
   "metadata": {},
   "source": [
    "Transform absolute value and direction in vector components"
   ]
  },
  {
   "cell_type": "code",
   "execution_count": 11,
   "metadata": {},
   "outputs": [],
   "source": [
    "# create columns with coordinate velocities output\n",
    "tot_df['u_x']=tot_df['u']*np.cos(np.radians(tot_df['direction']))\n",
    "tot_df['u_y']=tot_df['u']*np.sin(np.radians(tot_df['direction']))"
   ]
  },
  {
   "cell_type": "code",
   "execution_count": 12,
   "metadata": {},
   "outputs": [],
   "source": [
    "# create columns with coordinate velocities input top mast anemometer\n",
    "tot_df['u_top_x']=tot_df['u_top']*np.cos(np.radians(tot_df['direction_top']))\n",
    "tot_df['u_top_y']=tot_df['u_top']*np.sin(np.radians(tot_df['direction_top']))"
   ]
  },
  {
   "cell_type": "code",
   "execution_count": 13,
   "metadata": {},
   "outputs": [],
   "source": [
    "# drop the columns which are not used anymore\n",
    "tot_df=tot_df.drop(columns=['u', 'u_top', 'direction', 'direction_top'])"
   ]
  },
  {
   "cell_type": "markdown",
   "metadata": {},
   "source": [
    "### Splitting Data"
   ]
  },
  {
   "cell_type": "code",
   "execution_count": 51,
   "metadata": {},
   "outputs": [],
   "source": [
    "X = np.array(tot_df.drop(columns=['u_x', 'u_y']))\n",
    "y = np.array(tot_df[['u_x', 'u_y']])"
   ]
  },
  {
   "cell_type": "code",
   "execution_count": 119,
   "metadata": {
    "scrolled": true
   },
   "outputs": [],
   "source": [
    "X_tr, X_te, y_tr, y_te = train_test_split(X, y, test_size=0.5, random_state=42)"
   ]
  },
  {
   "cell_type": "markdown",
   "metadata": {},
   "source": [
    "### Regression"
   ]
  },
  {
   "cell_type": "markdown",
   "metadata": {},
   "source": [
    "Optimize the ridge regression parameter"
   ]
  },
  {
   "cell_type": "code",
   "execution_count": 120,
   "metadata": {},
   "outputs": [
    {
     "data": {
      "text/plain": [
       "<matplotlib.legend.Legend at 0x1a25a4a128>"
      ]
     },
     "execution_count": 120,
     "metadata": {},
     "output_type": "execute_result"
    },
    {
     "data": {
      "image/png": "[encoded data removed]",
      "text/plain": [
       "<Figure size 432x288 with 1 Axes>"
      ]
     },
     "metadata": {},
     "output_type": "display_data"
    }
   ],
   "source": [
    "alphas=np.logspace(-1,10,100)\n",
    "\n",
    "#leave one out method is used\n",
    "clf_cv = RidgeCV(alphas, cv=None, store_cv_values=True)\n",
    "clf_cv.fit(X_tr, y_tr) \n",
    "\n",
    "# number of datapoints, number of targets, number of alphas\n",
    "# it already contains the mse\n",
    "mse_all_folds=clf_cv.cv_values_\n",
    "mse_means=np.mean(mse_all_folds, axis=0)\n",
    "ax=plt.gca()\n",
    "u_x,=ax.plot(alphas,mse_means[0],'r-',label='MSE u_x')\n",
    "u_y,=ax.plot(alphas,mse_means[1],'b-',label='MSE u_y')\n",
    "plt.xscale('log')\n",
    "plt.xlabel('Alphas')\n",
    "plt.ylabel('MSE')\n",
    "ax.legend()"
   ]
  },
  {
   "cell_type": "markdown",
   "metadata": {},
   "source": [
    "Optimize the ridge regression parameter with standardization"
   ]
  },
  {
   "cell_type": "code",
   "execution_count": 121,
   "metadata": {},
   "outputs": [
    {
     "data": {
      "text/plain": [
       "<matplotlib.legend.Legend at 0x1a2a129630>"
      ]
     },
     "execution_count": 121,
     "metadata": {},
     "output_type": "execute_result"
    },
    {
     "data": {
      "image/png": "[encoded data removed]",
      "text/plain": [
       "<Figure size 432x288 with 1 Axes>"
      ]
     },
     "metadata": {},
     "output_type": "display_data"
    }
   ],
   "source": [
    "alphas=np.logspace(-1,10,100)\n",
    "\n",
    "#stadardize the data\n",
    "\n",
    "scaler = StandardScaler()\n",
    "#define mean and standard based on the test data\n",
    "scaler.fit(X_tr)\n",
    "X_tr_scaled=scaler.transform(X_tr)\n",
    "X_te_scaled=scaler.transform(X_te)\n",
    "\n",
    "\n",
    "#leave one out method is used\n",
    "clf_cv = RidgeCV(alphas, cv=None, store_cv_values=True)\n",
    "clf_cv.fit(X_tr_scaled, y_tr) \n",
    "\n",
    "# number of datapoints, number of targets, number of alphas\n",
    "# it already contains the mse\n",
    "mse_all_folds=clf_cv.cv_values_\n",
    "mse_means=np.mean(mse_all_folds, axis=0)\n",
    "ax=plt.gca()\n",
    "\n",
    "u_x_mse_train,=ax.plot(alphas,mse_means[0],'r-',label='MSE u_x train')\n",
    "u_y_mse_train,=ax.plot(alphas,mse_means[1],'b-',label='MSE u_y train')\n",
    "u_mean_mse_train,=ax.plot(alphas,np.mean(mse_means, axis=0),'g-',label='MSE u mean train')\n",
    "\n",
    "mse_u_test=[]\n",
    "\n",
    "for alpha in alphas:\n",
    "    \n",
    "    clf = Ridge(alpha)\n",
    "    clf.fit(X_tr_scaled, y_tr) \n",
    "    mse_u_test.append(mean_squared_error(y_te,clf.predict(X_te_scaled)))\n",
    "    \n",
    "u_mse_test,=ax.plot(alphas,mse_u_test,'g--',label='MSE u mean test')\n",
    "\n",
    "plt.xscale('log')\n",
    "plt.xlabel('Alphas')\n",
    "plt.ylabel('MSE')\n",
    "ax.legend()"
   ]
  },
  {
   "cell_type": "markdown",
   "metadata": {},
   "source": [
    "Get the mean squared error"
   ]
  },
  {
   "cell_type": "code",
   "execution_count": 26,
   "metadata": {
    "scrolled": true
   },
   "outputs": [
    {
     "data": {
      "text/plain": [
       "0.5689818669371066"
      ]
     },
     "execution_count": 26,
     "metadata": {},
     "output_type": "execute_result"
    }
   ],
   "source": []
  },
  {
   "cell_type": "code",
   "execution_count": 25,
   "metadata": {},
   "outputs": [
    {
     "data": {
      "text/plain": [
       "0.39800262677619846"
      ]
     },
     "execution_count": 25,
     "metadata": {},
     "output_type": "execute_result"
    }
   ],
   "source": [
    "# what is this score??\n",
    "clf.score(X_te, y_te)"
   ]
  },
  {
   "cell_type": "code",
   "execution_count": null,
   "metadata": {},
   "outputs": [],
   "source": []
  }
 ],
 "metadata": {
  "kernelspec": {
   "display_name": "Python [default]",
   "language": "python",
   "name": "python3"
  },
  "language_info": {
   "codemirror_mode": {
    "name": "ipython",
    "version": 3
   },
   "file_extension": ".py",
   "mimetype": "text/x-python",
   "name": "python",
   "nbconvert_exporter": "python",
   "pygments_lexer": "ipython3",
   "version": "3.6.5"
  }
 },
 "nbformat": 4,
 "nbformat_minor": 2
}
