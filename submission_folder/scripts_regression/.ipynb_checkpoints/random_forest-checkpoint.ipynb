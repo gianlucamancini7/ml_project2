{
 "cells": [
  {
   "cell_type": "code",
   "execution_count": 1,
   "metadata": {},
   "outputs": [],
   "source": [
    "# coding: utf-8\n",
    "import pandas as pd\n",
    "import numpy as np\n",
    "import matplotlib as mpl\n",
    "mpl.use('Agg')\n",
    "import matplotlib.pyplot as plt\n",
    "from sklearn.model_selection import train_test_split\n",
    "from sklearn.ensemble import RandomForestClassifier\n",
    "from sklearn.preprocessing import StandardScaler\n",
    "from sklearn.pipeline import make_pipeline\n",
    "from sklearn.preprocessing import KBinsDiscretizer\n",
    "from helpers import *\n",
    "import math\n",
    "import csv\n",
    "pd.set_option('display.max_columns', 100)"
   ]
  },
  {
   "cell_type": "markdown",
   "metadata": {},
   "source": [
    "**Settings**\n",
    "\n",
    "*Parameters*\n",
    "- ``output``: set the name of the output that you want to predict in the same time\n",
    "- ``mode``: To choose use the data in seasonwise or yearwise.\n",
    "- ``INPUT_FOLDER``: To set the path that where to get the input data. By default no need to be modified.\n",
    "- ``OUTPUT_FOLDER``: To set the path that where to put the data. By default no need to be modified.\n",
    "- ``train_dim``,``test_dim``,``validate_dim``: Dimension of the splitting. Default are respectively $0.6$, $0.2$ and $0.2$.\n",
    "\n",
    "*Memory problem:* If ``MemoryError`` arise (with current parameters and 32GB of ram would be very unlikely), different changes can be done to make the script less RAM heavy. With  `` mode = 'season' `` the random forest is performed seasonally and the dataset on which the regression in performed is $1/4$ in dimension. Other matrix dimension reduction can be done by lowering the dimension of training dataset (``train_dim``). "
   ]
  },
  {
   "cell_type": "markdown",
   "metadata": {},
   "source": [
    "## Some configurations for running the code\n",
    "output, seanwise/yearwise, input/output directory"
   ]
  },
  {
   "cell_type": "code",
   "execution_count": 2,
   "metadata": {},
   "outputs": [],
   "source": [
    "output = ['u_x', 'u_y']\n",
    "mode = 'season'\n",
    "if mode == 'season':\n",
    "    duration = [\"Spring\",\"Summer\",\"Autumn\",\"Winter\"]\n",
    "elif mode == 'full':\n",
    "    duration = [\"full_year\"]\n",
    "else:\n",
    "    duration = [mode]\n",
    "INPUT_FOLDER = '../data/'\n",
    "OUTPUT_FOLDER = '../results/random_forest/'\n",
    "train_dim = 0.01\n",
    "test_dim = 0.1\n",
    "validate_dim = 0.89"
   ]
  },
  {
   "cell_type": "markdown",
   "metadata": {},
   "source": [
    "## Some output file configurations. \n",
    "Open and close to make sur the file is empty for each run"
   ]
  },
  {
   "cell_type": "code",
   "execution_count": 3,
   "metadata": {},
   "outputs": [],
   "source": [
    "filetxt = open(OUTPUT_FOLDER + \"/bins_proposal.txt\", \"w\")\n",
    "filetxt.close()\n",
    "filetxt = open(OUTPUT_FOLDER + \"/mses_u_seasons.txt\", \"w\")\n",
    "filetxt.close()\n",
    "filetxt = open(OUTPUT_FOLDER + \"/rsquared_u_seasons.txt\", \"w\")\n",
    "filetxt.close()\n",
    "filetxt = open(OUTPUT_FOLDER + \"/magnitude_average_pred.txt\", \"w\")\n",
    "filetxt.close()\n",
    "filetxt = open(OUTPUT_FOLDER + (\"Order_feature_importance_for_%s.txt\" % mode), \"w\")\n",
    "filecsv = open(OUTPUT_FOLDER +(\"feature_for_ridge_%s.txt\" % mode), \"w\")\n",
    "csvwriter = csv.writer(filecsv,delimiter = ',')"
   ]
  },
  {
   "cell_type": "markdown",
   "metadata": {},
   "source": [
    "## Main part of the random forest regression + feature importance\n",
    "A big for loop for recurrence for 4 seasons"
   ]
  },
  {
   "cell_type": "code",
   "execution_count": 4,
   "metadata": {},
   "outputs": [
    {
     "ename": "KeyboardInterrupt",
     "evalue": "",
     "output_type": "error",
     "traceback": [
      "\u001b[1;31m---------------------------------------------------------------------------\u001b[0m",
      "\u001b[1;31mKeyboardInterrupt\u001b[0m                         Traceback (most recent call last)",
      "\u001b[1;32m<ipython-input-4-9bb55eefb88e>\u001b[0m in \u001b[0;36m<module>\u001b[1;34m\u001b[0m\n\u001b[0;32m      2\u001b[0m \u001b[1;33m\u001b[0m\u001b[0m\n\u001b[0;32m      3\u001b[0m     \u001b[1;31m# Load the data in pandas\u001b[0m\u001b[1;33m\u001b[0m\u001b[1;33m\u001b[0m\u001b[1;33m\u001b[0m\u001b[0m\n\u001b[1;32m----> 4\u001b[1;33m     \u001b[0mtot_df\u001b[0m\u001b[1;33m=\u001b[0m\u001b[0mpd\u001b[0m\u001b[1;33m.\u001b[0m\u001b[0mread_csv\u001b[0m\u001b[1;33m(\u001b[0m\u001b[0mINPUT_FOLDER\u001b[0m \u001b[1;33m+\u001b[0m \u001b[1;34m'regression_mat_year.csv'\u001b[0m\u001b[1;33m,\u001b[0m\u001b[0mindex_col\u001b[0m\u001b[1;33m=\u001b[0m\u001b[1;36m0\u001b[0m\u001b[1;33m)\u001b[0m\u001b[1;33m\u001b[0m\u001b[1;33m\u001b[0m\u001b[0m\n\u001b[0m\u001b[0;32m      5\u001b[0m \u001b[1;33m\u001b[0m\u001b[0m\n\u001b[0;32m      6\u001b[0m     \u001b[1;32mif\u001b[0m \u001b[0mmode\u001b[0m \u001b[1;33m==\u001b[0m \u001b[1;34m'season'\u001b[0m\u001b[1;33m:\u001b[0m\u001b[1;33m\u001b[0m\u001b[1;33m\u001b[0m\u001b[0m\n",
      "\u001b[1;32m~\\Anaconda3\\lib\\site-packages\\pandas\\io\\parsers.py\u001b[0m in \u001b[0;36mparser_f\u001b[1;34m(filepath_or_buffer, sep, delimiter, header, names, index_col, usecols, squeeze, prefix, mangle_dupe_cols, dtype, engine, converters, true_values, false_values, skipinitialspace, skiprows, nrows, na_values, keep_default_na, na_filter, verbose, skip_blank_lines, parse_dates, infer_datetime_format, keep_date_col, date_parser, dayfirst, iterator, chunksize, compression, thousands, decimal, lineterminator, quotechar, quoting, escapechar, comment, encoding, dialect, tupleize_cols, error_bad_lines, warn_bad_lines, skipfooter, doublequote, delim_whitespace, low_memory, memory_map, float_precision)\u001b[0m\n\u001b[0;32m    676\u001b[0m                     skip_blank_lines=skip_blank_lines)\n\u001b[0;32m    677\u001b[0m \u001b[1;33m\u001b[0m\u001b[0m\n\u001b[1;32m--> 678\u001b[1;33m         \u001b[1;32mreturn\u001b[0m \u001b[0m_read\u001b[0m\u001b[1;33m(\u001b[0m\u001b[0mfilepath_or_buffer\u001b[0m\u001b[1;33m,\u001b[0m \u001b[0mkwds\u001b[0m\u001b[1;33m)\u001b[0m\u001b[1;33m\u001b[0m\u001b[1;33m\u001b[0m\u001b[0m\n\u001b[0m\u001b[0;32m    679\u001b[0m \u001b[1;33m\u001b[0m\u001b[0m\n\u001b[0;32m    680\u001b[0m     \u001b[0mparser_f\u001b[0m\u001b[1;33m.\u001b[0m\u001b[0m__name__\u001b[0m \u001b[1;33m=\u001b[0m \u001b[0mname\u001b[0m\u001b[1;33m\u001b[0m\u001b[1;33m\u001b[0m\u001b[0m\n",
      "\u001b[1;32m~\\Anaconda3\\lib\\site-packages\\pandas\\io\\parsers.py\u001b[0m in \u001b[0;36m_read\u001b[1;34m(filepath_or_buffer, kwds)\u001b[0m\n\u001b[0;32m    444\u001b[0m \u001b[1;33m\u001b[0m\u001b[0m\n\u001b[0;32m    445\u001b[0m     \u001b[1;32mtry\u001b[0m\u001b[1;33m:\u001b[0m\u001b[1;33m\u001b[0m\u001b[1;33m\u001b[0m\u001b[0m\n\u001b[1;32m--> 446\u001b[1;33m         \u001b[0mdata\u001b[0m \u001b[1;33m=\u001b[0m \u001b[0mparser\u001b[0m\u001b[1;33m.\u001b[0m\u001b[0mread\u001b[0m\u001b[1;33m(\u001b[0m\u001b[0mnrows\u001b[0m\u001b[1;33m)\u001b[0m\u001b[1;33m\u001b[0m\u001b[1;33m\u001b[0m\u001b[0m\n\u001b[0m\u001b[0;32m    447\u001b[0m     \u001b[1;32mfinally\u001b[0m\u001b[1;33m:\u001b[0m\u001b[1;33m\u001b[0m\u001b[1;33m\u001b[0m\u001b[0m\n\u001b[0;32m    448\u001b[0m         \u001b[0mparser\u001b[0m\u001b[1;33m.\u001b[0m\u001b[0mclose\u001b[0m\u001b[1;33m(\u001b[0m\u001b[1;33m)\u001b[0m\u001b[1;33m\u001b[0m\u001b[1;33m\u001b[0m\u001b[0m\n",
      "\u001b[1;32m~\\Anaconda3\\lib\\site-packages\\pandas\\io\\parsers.py\u001b[0m in \u001b[0;36mread\u001b[1;34m(self, nrows)\u001b[0m\n\u001b[0;32m   1034\u001b[0m                 \u001b[1;32mraise\u001b[0m \u001b[0mValueError\u001b[0m\u001b[1;33m(\u001b[0m\u001b[1;34m'skipfooter not supported for iteration'\u001b[0m\u001b[1;33m)\u001b[0m\u001b[1;33m\u001b[0m\u001b[1;33m\u001b[0m\u001b[0m\n\u001b[0;32m   1035\u001b[0m \u001b[1;33m\u001b[0m\u001b[0m\n\u001b[1;32m-> 1036\u001b[1;33m         \u001b[0mret\u001b[0m \u001b[1;33m=\u001b[0m \u001b[0mself\u001b[0m\u001b[1;33m.\u001b[0m\u001b[0m_engine\u001b[0m\u001b[1;33m.\u001b[0m\u001b[0mread\u001b[0m\u001b[1;33m(\u001b[0m\u001b[0mnrows\u001b[0m\u001b[1;33m)\u001b[0m\u001b[1;33m\u001b[0m\u001b[1;33m\u001b[0m\u001b[0m\n\u001b[0m\u001b[0;32m   1037\u001b[0m \u001b[1;33m\u001b[0m\u001b[0m\n\u001b[0;32m   1038\u001b[0m         \u001b[1;31m# May alter columns / col_dict\u001b[0m\u001b[1;33m\u001b[0m\u001b[1;33m\u001b[0m\u001b[1;33m\u001b[0m\u001b[0m\n",
      "\u001b[1;32m~\\Anaconda3\\lib\\site-packages\\pandas\\io\\parsers.py\u001b[0m in \u001b[0;36mread\u001b[1;34m(self, nrows)\u001b[0m\n\u001b[0;32m   1846\u001b[0m     \u001b[1;32mdef\u001b[0m \u001b[0mread\u001b[0m\u001b[1;33m(\u001b[0m\u001b[0mself\u001b[0m\u001b[1;33m,\u001b[0m \u001b[0mnrows\u001b[0m\u001b[1;33m=\u001b[0m\u001b[1;32mNone\u001b[0m\u001b[1;33m)\u001b[0m\u001b[1;33m:\u001b[0m\u001b[1;33m\u001b[0m\u001b[1;33m\u001b[0m\u001b[0m\n\u001b[0;32m   1847\u001b[0m         \u001b[1;32mtry\u001b[0m\u001b[1;33m:\u001b[0m\u001b[1;33m\u001b[0m\u001b[1;33m\u001b[0m\u001b[0m\n\u001b[1;32m-> 1848\u001b[1;33m             \u001b[0mdata\u001b[0m \u001b[1;33m=\u001b[0m \u001b[0mself\u001b[0m\u001b[1;33m.\u001b[0m\u001b[0m_reader\u001b[0m\u001b[1;33m.\u001b[0m\u001b[0mread\u001b[0m\u001b[1;33m(\u001b[0m\u001b[0mnrows\u001b[0m\u001b[1;33m)\u001b[0m\u001b[1;33m\u001b[0m\u001b[1;33m\u001b[0m\u001b[0m\n\u001b[0m\u001b[0;32m   1849\u001b[0m         \u001b[1;32mexcept\u001b[0m \u001b[0mStopIteration\u001b[0m\u001b[1;33m:\u001b[0m\u001b[1;33m\u001b[0m\u001b[1;33m\u001b[0m\u001b[0m\n\u001b[0;32m   1850\u001b[0m             \u001b[1;32mif\u001b[0m \u001b[0mself\u001b[0m\u001b[1;33m.\u001b[0m\u001b[0m_first_chunk\u001b[0m\u001b[1;33m:\u001b[0m\u001b[1;33m\u001b[0m\u001b[1;33m\u001b[0m\u001b[0m\n",
      "\u001b[1;32mpandas\\_libs\\parsers.pyx\u001b[0m in \u001b[0;36mpandas._libs.parsers.TextReader.read\u001b[1;34m()\u001b[0m\n",
      "\u001b[1;32mpandas\\_libs\\parsers.pyx\u001b[0m in \u001b[0;36mpandas._libs.parsers.TextReader._read_low_memory\u001b[1;34m()\u001b[0m\n",
      "\u001b[1;32mpandas\\_libs\\parsers.pyx\u001b[0m in \u001b[0;36mpandas._libs.parsers.TextReader._read_rows\u001b[1;34m()\u001b[0m\n",
      "\u001b[1;32mpandas\\_libs\\parsers.pyx\u001b[0m in \u001b[0;36mpandas._libs.parsers.TextReader._convert_column_data\u001b[1;34m()\u001b[0m\n",
      "\u001b[1;32mpandas\\_libs\\parsers.pyx\u001b[0m in \u001b[0;36mpandas._libs.parsers.TextReader._convert_tokens\u001b[1;34m()\u001b[0m\n",
      "\u001b[1;32mpandas\\_libs\\parsers.pyx\u001b[0m in \u001b[0;36mpandas._libs.parsers.TextReader._convert_with_dtype\u001b[1;34m()\u001b[0m\n",
      "\u001b[1;32m~\\Anaconda3\\lib\\site-packages\\pandas\\core\\dtypes\\common.py\u001b[0m in \u001b[0;36mis_integer_dtype\u001b[1;34m(arr_or_dtype)\u001b[0m\n\u001b[0;32m    809\u001b[0m \u001b[1;33m\u001b[0m\u001b[0m\n\u001b[0;32m    810\u001b[0m \u001b[1;33m\u001b[0m\u001b[0m\n\u001b[1;32m--> 811\u001b[1;33m \u001b[1;32mdef\u001b[0m \u001b[0mis_integer_dtype\u001b[0m\u001b[1;33m(\u001b[0m\u001b[0marr_or_dtype\u001b[0m\u001b[1;33m)\u001b[0m\u001b[1;33m:\u001b[0m\u001b[1;33m\u001b[0m\u001b[1;33m\u001b[0m\u001b[0m\n\u001b[0m\u001b[0;32m    812\u001b[0m     \"\"\"\n\u001b[0;32m    813\u001b[0m     \u001b[0mCheck\u001b[0m \u001b[0mwhether\u001b[0m \u001b[0mthe\u001b[0m \u001b[0mprovided\u001b[0m \u001b[0marray\u001b[0m \u001b[1;32mor\u001b[0m \u001b[0mdtype\u001b[0m \u001b[1;32mis\u001b[0m \u001b[0mof\u001b[0m \u001b[0man\u001b[0m \u001b[0minteger\u001b[0m \u001b[0mdtype\u001b[0m\u001b[1;33m.\u001b[0m\u001b[1;33m\u001b[0m\u001b[1;33m\u001b[0m\u001b[0m\n",
      "\u001b[1;31mKeyboardInterrupt\u001b[0m: "
     ]
    }
   ],
   "source": [
    "for i,season in enumerate(duration):\n",
    "    \n",
    "    # Load the data in pandas\n",
    "    tot_df=pd.read_csv(INPUT_FOLDER + 'regression_mat_year.csv',index_col=0)\n",
    "\n",
    "    if mode == 'season':\n",
    "    # Split the season\n",
    "        tot_df = season_splitter(tot_df)\n",
    "        tot_df = tot_df[i]\n",
    "        \n",
    "    ##----------- Preprocessing --------------##\n",
    "    # Vectorize speed\n",
    "    tot_df = vectorize_wind_speed(tot_df)\n",
    "    # Prepare the input and output\n",
    "    x = np.array(tot_df.drop(columns=['u_x', 'u_y','u_z']))\n",
    "    y_continue = np.array(tot_df[output])\n",
    "    feat_labels = tot_df.drop(columns=['u_x', 'u_y','u_z']).columns\n",
    "    del tot_df\n",
    "    # Discretize the output \n",
    "    bins = bins_proposal(y_continue,0.1)\n",
    "    discretizer = KBinsDiscretizer(bins, encode='ordinal', strategy='uniform')\n",
    "    discretizer.fit(y_continue)\n",
    "    y_disc = discretizer.transform(y_continue)\n",
    "    # Split train and test\n",
    "    x_tr,y_tr,x_ev,y_ev,x_te,y_te = split_train_evaluation_test(x,y_disc,train_dim,validate_dim,test_dim)\n",
    "    del y_disc, x\n",
    "    \n",
    "    ##-------- Random forest trainning ------------##\n",
    "    rf = RandomForestClassifier(n_estimators=1, max_depth=1000, criterion='gini', random_state=0)\n",
    "    rf.fit(x_tr, y_tr)\n",
    "    print(\"Random forest for one season finished\")\n",
    "    del x_tr, y_tr\n",
    "    \n",
    "    ##-------- Random forest prediction ------------##\n",
    "    # Transfer back to the original data\n",
    "    y_pred = rf.predict(x_te)\n",
    "    y_pred = discretizer.inverse_transform(y_pred)\n",
    "    y_te  = discretizer.inverse_transform(y_te)\n",
    "    _, y_te_hs = split_hs_test(x_te,y_te)\n",
    "    _, y_pred_hs = split_hs_test(x_te,y_pred)\n",
    "    del x_te,y_te,y_pred\n",
    "    mse, rsq = compute_mse_rsq(y_te_hs, y_pred_hs)\n",
    "    \n",
    "    ##----------- Plot and save the prediction result ------------##\n",
    "    if len(output) == 2:\n",
    "        plot_ys(y_pred_hs,y_te_hs,OUTPUT_FOLDER,save=True,name=('%s'% season))\n",
    "    if len(output) == 1:\n",
    "        plot_ys_single(y_pred_hs,y_te_hs,OUTPUT_FOLDER,save=True,name=('%s'% season))\n",
    "    write_rf_prediction(OUTPUT_FOLDER,bins,mse,rsq,season)\n",
    "    profile = np.zeros([1,len(y_pred_hs)])\n",
    "    for j in range(len(y_pred_hs)):\n",
    "        profile[0,j] = magnitude_avg(y_pred_hs[j])\n",
    "    df = pd.DataFrame(profile)\n",
    "    df.to_csv(OUTPUT_FOLDER + \"/magnitude_average_pred.txt\", mode = 'a', header=None)\n",
    "    \n",
    "    ##----------- Plot and save the feature importance result ------------##\n",
    "    importances = rf.feature_importances_\n",
    "    if i == 0:\n",
    "        fi = pd.DataFrame(columns = feat_labels)\n",
    "    df2 = pd.DataFrame(np.array(importances).reshape(1,-1), columns = feat_labels)\n",
    "    fi = fi.append(df2, ignore_index=True)\n",
    "    important_features = extract_important_features(feat_labels,importances,0.8)\n",
    "    ## For the ordering feature importance\n",
    "    filetxt.write(\"\\n For the %s: \\n\" % season)\n",
    "    write_feature_importance(filetxt, importances,feat_labels, important_features)\n",
    "    ## The feature importance for the ridge regression\n",
    "    csvwriter.writerow([season] + important_features)\n",
    "    del rf "
   ]
  },
  {
   "cell_type": "markdown",
   "metadata": {},
   "source": [
    "## Save and close some files"
   ]
  },
  {
   "cell_type": "code",
   "execution_count": null,
   "metadata": {},
   "outputs": [],
   "source": [
    "fi.to_csv(OUTPUT_FOLDER + \"/feature_importance.txt\", header=True)\n",
    "plot_feature_importance(OUTPUT_FOLDER, fi, name = 'feature_importance')    \n",
    "filetxt.close()\n",
    "filecsv.close()"
   ]
  }
 ],
 "metadata": {
  "kernelspec": {
   "display_name": "Python 3",
   "language": "python",
   "name": "python3"
  },
  "language_info": {
   "codemirror_mode": {
    "name": "ipython",
    "version": 3
   },
   "file_extension": ".py",
   "mimetype": "text/x-python",
   "name": "python",
   "nbconvert_exporter": "python",
   "pygments_lexer": "ipython3",
   "version": "3.6.7"
  }
 },
 "nbformat": 4,
 "nbformat_minor": 2
}
