{
 "cells": [
  {
   "cell_type": "code",
   "execution_count": null,
   "metadata": {},
   "outputs": [],
   "source": [
    "# coding: utf-8\n",
    "import pandas as pd\n",
    "import numpy as np\n",
    "import matplotlib as mpl\n",
    "mpl.use('Agg')\n",
    "import matplotlib.pyplot as plt\n",
    "from sklearn.model_selection import train_test_split\n",
    "from sklearn.ensemble import RandomForestClassifier\n",
    "from sklearn.preprocessing import StandardScaler\n",
    "from sklearn.pipeline import make_pipeline\n",
    "from sklearn.preprocessing import KBinsDiscretizer\n",
    "from helpers import *\n",
    "import math\n",
    "import csv\n",
    "pd.set_option('display.max_columns', 100)"
   ]
  },
  {
   "cell_type": "markdown",
   "metadata": {},
   "source": [
    "**Settings**\n",
    "\n",
    "*Parameters*\n",
    "- ``output``: set the name of the output that you want to predict in the same time\n",
    "- ``mode``: To choose use the data in seasonwise or yearwise.\n",
    "- ``INPUT_FOLDER``: To set the path that where to get the input data. By default no need to be modified.\n",
    "- ``OUTPUT_FOLDER``: To set the path that where to put the data. By default no need to be modified.\n",
    "- ``train_dim``,``test_dim``,``validate_dim``: Dimension of the splitting. Default are respectively $0.6$, $0.2$ and $0.2$.\n",
    "\n",
    "*Memory problem:* If ``MemoryError`` arise (with current parameters and 32GB of ram would be very unlikely), different changes can be done to make the script less RAM heavy. With  `` mode = 'season' `` the random forest is performed seasonally and the dataset on which the regression in performed is $1/4$ in dimension. Other matrix dimension reduction can be done by lowering the dimension of training dataset (``train_dim``). "
   ]
  },
  {
   "cell_type": "markdown",
   "metadata": {},
   "source": [
    "## Some configurations for running the code\n",
    "output, seanwise/yearwise, input/output directory"
   ]
  },
  {
   "cell_type": "code",
   "execution_count": null,
   "metadata": {},
   "outputs": [],
   "source": [
    "output = ['u_x', 'u_y']\n",
    "mode = 'season'\n",
    "if mode == 'season':\n",
    "    duration = [\"Spring\",\"Summer\",\"Autumn\",\"Winter\"]\n",
    "elif mode == 'full':\n",
    "    duration = [\"full_year\"]\n",
    "else:\n",
    "    duration = [mode]\n",
    "INPUT_FOLDER = '../data/'\n",
    "OUTPUT_FOLDER = '../results/random_forest/'\n",
    "train_dim = 0.6\n",
    "test_dim = 0.2\n",
    "validate_dim = 0.2"
   ]
  },
  {
   "cell_type": "markdown",
   "metadata": {},
   "source": [
    "## Some output file configurations. \n",
    "Open and close to make sur the file is empty for each run"
   ]
  },
  {
   "cell_type": "code",
   "execution_count": null,
   "metadata": {},
   "outputs": [],
   "source": [
    "filetxt = open(OUTPUT_FOLDER + \"/bins_proposal.txt\", \"w\")\n",
    "filetxt.close()\n",
    "filetxt = open(OUTPUT_FOLDER + \"/mses_u_seasons.txt\", \"w\")\n",
    "filetxt.close()\n",
    "filetxt = open(OUTPUT_FOLDER + \"/rsquared_u_seasons.txt\", \"w\")\n",
    "filetxt.close()\n",
    "filetxt = open(OUTPUT_FOLDER + \"/magnitude_average_pred.txt\", \"w\")\n",
    "filetxt.close()\n",
    "filetxt = open(OUTPUT_FOLDER + (\"Order_feature_importance_for_%s.txt\" % mode), \"w\")\n",
    "filecsv = open(OUTPUT_FOLDER +(\"feature_for_ridge_%s.txt\" % mode), \"w\")\n",
    "csvwriter = csv.writer(filecsv,delimiter = ',')"
   ]
  },
  {
   "cell_type": "markdown",
   "metadata": {},
   "source": [
    "## Main part of the random forest regression + feature importance\n",
    "A big for loop for recurrence for 4 seasons"
   ]
  },
  {
   "cell_type": "code",
   "execution_count": null,
   "metadata": {},
   "outputs": [],
   "source": [
    "for i,season in enumerate(duration):\n",
    "    \n",
    "    # Load the data in pandas\n",
    "    tot_df=pd.read_csv(INPUT_FOLDER + 'regression_mat_year.csv',index_col=0)\n",
    "\n",
    "    if mode == 'season':\n",
    "    # Split the season\n",
    "        tot_df = season_splitter(tot_df)\n",
    "        tot_df = tot_df[i]\n",
    "        \n",
    "    ##----------- Preprocessing --------------##\n",
    "    # Vectorize speed\n",
    "    tot_df = vectorize_wind_speed(tot_df)\n",
    "    # Prepare the input and output\n",
    "    x = np.array(tot_df.drop(columns=['u_x', 'u_y','u_z']))\n",
    "    y_continue = np.array(tot_df[output])\n",
    "    feat_labels = tot_df.drop(columns=['u_x', 'u_y','u_z']).columns\n",
    "    del tot_df\n",
    "    # Discretize the output \n",
    "    bins = bins_proposal(y_continue,0.1)\n",
    "    discretizer = KBinsDiscretizer(bins, encode='ordinal', strategy='uniform')\n",
    "    discretizer.fit(y_continue)\n",
    "    y_disc = discretizer.transform(y_continue)\n",
    "    # Split train and test\n",
    "    x_tr,y_tr,x_ev,y_ev,x_te,y_te = split_train_evaluation_test(x,y_disc,train_dim,validate_dim,test_dim)\n",
    "    del y_disc, x\n",
    "    \n",
    "    ##-------- Random forest trainning ------------##\n",
    "    rf = RandomForestClassifier(n_estimators=1, max_depth=1000, criterion='gini', random_state=0)\n",
    "    rf.fit(x_tr, y_tr)\n",
    "    print(\"Random forest for one season finished\")\n",
    "    del x_tr, y_tr\n",
    "    \n",
    "    ##-------- Random forest prediction ------------##\n",
    "    # Transfer back to the original data\n",
    "    y_pred = rf.predict(x_te)\n",
    "    y_pred = discretizer.inverse_transform(y_pred)\n",
    "    y_te  = discretizer.inverse_transform(y_te)\n",
    "    _, y_te_hs = split_hs_test(x_te,y_te)\n",
    "    _, y_pred_hs = split_hs_test(x_te,y_pred)\n",
    "    del x_te,y_te,y_pred\n",
    "    mse, rsq = compute_mse_rsq(y_te_hs, y_pred_hs)\n",
    "    \n",
    "    ##----------- Plot and save the prediction result ------------##\n",
    "    if len(output) == 2:\n",
    "        plot_ys(y_pred_hs,y_te_hs,OUTPUT_FOLDER,save=True,name=('%s'% season))\n",
    "    if len(output) == 1:\n",
    "        plot_ys_single(y_pred_hs,y_te_hs,OUTPUT_FOLDER,save=True,name=('%s'% season))\n",
    "    write_rf_prediction(OUTPUT_FOLDER,bins,mse,rsq,season)\n",
    "    profile = np.zeros([1,len(y_pred_hs)])\n",
    "    for j in range(len(y_pred_hs)):\n",
    "        profile[0,j] = magnitude_avg(y_pred_hs[j])\n",
    "    df = pd.DataFrame(profile)\n",
    "    df.to_csv(OUTPUT_FOLDER + \"/magnitude_average_pred.txt\", mode = 'a', header=None)\n",
    "    \n",
    "    ##----------- Plot and save the feature importance result ------------##\n",
    "    importances = rf.feature_importances_\n",
    "    if i == 0:\n",
    "        fi = pd.DataFrame(columns = feat_labels)\n",
    "    df2 = pd.DataFrame(np.array(importances).reshape(1,-1), columns = feat_labels)\n",
    "    fi = fi.append(df2, ignore_index=True)\n",
    "    important_features = extract_important_features(feat_labels,importances,0.8)\n",
    "    ## For the ordering feature importance\n",
    "    filetxt.write(\"\\n For the %s: \\n\" % season)\n",
    "    write_feature_importance(filetxt, importances,feat_labels, important_features)\n",
    "    ## The feature importance for the ridge regression\n",
    "    csvwriter.writerow([season] + important_features)\n",
    "    del rf "
   ]
  },
  {
   "cell_type": "markdown",
   "metadata": {},
   "source": [
    "## Save and close some files"
   ]
  },
  {
   "cell_type": "code",
   "execution_count": null,
   "metadata": {},
   "outputs": [],
   "source": [
    "fi.to_csv(OUTPUT_FOLDER + \"/feature_importance.txt\", header=True)\n",
    "plot_feature_importance(OUTPUT_FOLDER, fi, name = 'feature_importance')    \n",
    "filetxt.close()\n",
    "filecsv.close()"
   ]
  }
 ],
 "metadata": {
  "kernelspec": {
   "display_name": "Python 2",
   "language": "python",
   "name": "python2"
  },
  "language_info": {
   "codemirror_mode": {
    "name": "ipython",
    "version": 2
   },
   "file_extension": ".py",
   "mimetype": "text/x-python",
   "name": "python",
   "nbconvert_exporter": "python",
   "pygments_lexer": "ipython2",
   "version": "2.7.3"
  }
 },
 "nbformat": 4,
 "nbformat_minor": 2
}
